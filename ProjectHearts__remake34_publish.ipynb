{
  "nbformat": 4,
  "nbformat_minor": 0,
  "metadata": {
    "colab": {
      "name": "ProjectHearts__remake34_publish.ipynb",
      "provenance": [],
      "collapsed_sections": []
    },
    "kernelspec": {
      "display_name": "Python 3",
      "name": "python3"
    },
    "language_info": {
      "name": "python"
    }
  },
  "cells": [
    {
      "cell_type": "code",
      "metadata": {
        "id": "VWzrzHv_POoM",
        "colab": {
          "base_uri": "https://localhost:8080/"
        },
        "outputId": "56311b8b-2f8b-448b-f425-87546da29d77"
      },
      "source": [
        "import pandas as pd\n",
        "import numpy as np\n",
        "import zipfile\n",
        "import os\n",
        "import matplotlib.pyplot as plt\n",
        "import csv\n",
        "import seaborn as sns\n",
        "from sklearn.decomposition import NMF\n",
        "\n",
        "suffix = \"_with_acc\"\n",
        "from_WC = True\n",
        "test = False\n",
        "\n",
        "path_to_data_files =\"/content/drive/MyDrive/Katy/heartProject/heartData/\"\n",
        "\n",
        "from google.colab import drive\n",
        "drive.mount('/content/drive')\n",
        "\n",
        "if from_WC:    \n",
        "  path_for_wc = \"/content/drive/MyDrive/Katy/heartProject/WC/\"\n",
        "else:\n",
        "  path_to_data_files =\"/content/drive/MyDrive/Katy/heartProject/heartData/\"\n",
        "\n",
        "\n",
        "path_for_NMF = \"/content/drive/MyDrive/Katy/heartProject/NMF_nov28_remake/\"\n",
        "\n",
        "if os.path.isdir(path_for_NMF) :\n",
        "  pass\n",
        "else: os.mkdir(path_for_NMF)\n",
        "if os.path.isdir(path_for_NMF+\"/Run\"+suffix) :\n",
        "  pass\n",
        "else: os.mkdir(path_for_NMF+\"/Run\"+suffix)\n",
        "\n",
        "\n",
        "\n",
        "\n"
      ],
      "execution_count": null,
      "outputs": [
        {
          "output_type": "stream",
          "name": "stdout",
          "text": [
            "Drive already mounted at /content/drive; to attempt to forcibly remount, call drive.mount(\"/content/drive\", force_remount=True).\n"
          ]
        }
      ]
    },
    {
      "cell_type": "code",
      "metadata": {
        "id": "mA20x0I31J6-"
      },
      "source": [
        "def create_dict_df(  path_to_files =\"/content/drive/MyDrive/Katy/heartProject/heartData/\"):\n",
        "  df_collection = {}\n",
        "  Multindex_df = pd.DataFrame()\n",
        "  with os.scandir(path_to_files) as entries:\n",
        "    for entry in entries:\n",
        "          print(entry.name)\n",
        "          file_path = path_to_files + entry.name\n",
        "          if test:\n",
        "            df_collection[entry.name] = pd.read_csv(file_path).transpose()[300:460] \n",
        "          else:\n",
        "            df_collection[entry.name] = pd.read_csv(file_path).transpose()\n",
        "          print(df_collection[entry.name].shape)\n",
        "          ncol = len(df_collection[entry.name].columns)\n",
        "  return df_collection"
      ],
      "execution_count": null,
      "outputs": []
    },
    {
      "cell_type": "code",
      "metadata": {
        "id": "cL18qVEE_OaH"
      },
      "source": [
        "\n",
        "\n"
      ],
      "execution_count": null,
      "outputs": []
    },
    {
      "cell_type": "code",
      "metadata": {
        "id": "_PzzCaHKg8Go"
      },
      "source": [
        "# df_collection.keys"
      ],
      "execution_count": null,
      "outputs": []
    },
    {
      "cell_type": "code",
      "metadata": {
        "id": "QMihk6VkFjlp"
      },
      "source": [
        "\n",
        "\n",
        "\n",
        "def prepare_and_stack_df(df):\n",
        "  df_numeric = df.iloc[:,4:]\n",
        "  df_legend = df.iloc[:,3:4]\n",
        "  df_all = df_legend.join(df_numeric).reset_index(drop=True)\n",
        "  l = list(range(int(len(df_all)/2)))\n",
        "  df_index = pd.DataFrame([val for pair in zip(l, l) for val in pair])\n",
        "\n",
        "  df_all = df_index.join(df_all)\n",
        "  df_all = df_all.pivot(index=0, columns = 3).astype('float').round(2)\n",
        "  \n",
        "  df_stacked = df_all.stack(0)\n",
        "\n",
        "  return df_stacked\n",
        "\n",
        "def create_nmf_matrix(df_collection):\n",
        "  \n",
        "  common_values = get_m_z_best_values(df_collection)\n",
        "  print(common_values)\n",
        "  matrix = []\n",
        "  first= True\n",
        "  for [key,df] in df_collection.items():\n",
        "    print(key)\n",
        "    df_stacked = prepare_and_stack_df(df)\n",
        "    # print(df_stacked)\n",
        "    grou = df_stacked.groupby(by=[0,'m/z'],axis=0)\n",
        "    \n",
        "    matrix=  df_stacked.groupby(by=[0,'m/z'],axis=0).sum().unstack(0).reindex(common_values)\n",
        "    # print(matrix)\n",
        "\n",
        "    # common_2 = np.round(common_values)\n",
        "    # #grou_2 = df_stacked.groupby(by=[0,'m/z'],axis=0)\n",
        "    \n",
        "    # matrix_2=  df_stacked.groupby(by=[0,'m/z'],axis=0).sum().unstack(0).reindex(common_2)\n",
        "    # print(matrix_2)\n",
        "                            \n",
        "    if first :\n",
        "      matrix_all = matrix#.add_suffix(key)\n",
        "      first = False\n",
        "    else:\n",
        "      matrix_all = matrix_all.join(matrix, how='left', rsuffix=key)\n",
        "\n",
        "  return matrix_all, common_values  \n",
        "\n",
        "def find_common_peaks(df_stacked):\n",
        " \n",
        "  grouped = df_stacked.groupby(by=[0,'m/z'],axis=0).sum().groupby(by = 'm/z')\n",
        "  \n",
        "  sorted_peaks = grouped.sum().sort_values(by='Intensity')\n",
        "  \n",
        "  most_common_peaks = np.array(grouped.count().nlargest(1000,'Intensity').index)   #### most common peaks\n",
        "  highest_peaks = np.array(grouped.sum().nlargest(300,'Intensity').index)    ### highest peaks ########## 300\n",
        "  #high_common_peaks = np.intersect1d(most_common_peaks,highest_peaks)    ### both largest and most common\n",
        "  return most_common_peaks    ############# change back to highest?\n"
      ],
      "execution_count": null,
      "outputs": []
    },
    {
      "cell_type": "code",
      "metadata": {
        "id": "1KJmtIHsVQk-"
      },
      "source": [
        "\n",
        "### get the set of highest and most common m/z values to be used in nmf matrix\n",
        "\n",
        "def get_m_z_best_values(df_collection):\n",
        "  allpeaks = np.empty(0)\n",
        "  for [key,df] in df_collection.items():\n",
        "    \n",
        "    df_stacked = prepare_and_stack_df(df)\n",
        "    peaks = find_common_peaks(df_stacked)\n",
        "    allpeaks = np.append(allpeaks,peaks)\n",
        "   \n",
        "  return np.unique(allpeaks)\n",
        "\n",
        " \n"
      ],
      "execution_count": null,
      "outputs": []
    },
    {
      "cell_type": "code",
      "metadata": {
        "id": "6tkRKWU1a9cR"
      },
      "source": [
        ""
      ],
      "execution_count": null,
      "outputs": []
    },
    {
      "cell_type": "code",
      "metadata": {
        "id": "F_lnMkzmCPO2"
      },
      "source": [
        "def get_tag_array(length,test = False):\n",
        "  sick_healthy_array= np.zeros(length)\n",
        "  if test:\n",
        "    sick_healthy_array[0:80+66] = 1\n",
        "  else:\n",
        "    sick_healthy_array[0:552+432] = 1\n",
        "  return sick_healthy_array\n"
      ],
      "execution_count": null,
      "outputs": []
    },
    {
      "cell_type": "code",
      "metadata": {
        "id": "1JGUp3ZkXpnE"
      },
      "source": [
        "#sick_healthy_array.shape\n"
      ],
      "execution_count": null,
      "outputs": []
    },
    {
      "cell_type": "code",
      "metadata": {
        "id": "6eV7WjHa-EGR"
      },
      "source": [
        "from sklearn.linear_model import LogisticRegression\n",
        " \n",
        "\n",
        "def get_LR_max(X,y):\n",
        "\n",
        "  \n",
        "  clf25 = LogisticRegression(random_state=0,max_iter=50000).fit(X, y)\n",
        "  \n",
        "  print(clf25.score(X, y)) \n",
        "  print(\"LR_max_channel:\")\n",
        "  print(np.argmax(clf25.coef_,axis = 1))\n",
        "  print(np.argmin(clf25.coef_,axis = 1))\n",
        "\n",
        "\n",
        "  LR_max_1 = np.argmax(np.abs(clf25.coef_/np.std(X, 0)),axis = 1)\n",
        "  LR_max_2 = np.argmax(np.abs(clf25.coef_),axis = 1)\n",
        "  return LR_max_1[0], LR_max_2[0]"
      ],
      "execution_count": null,
      "outputs": []
    },
    {
      "cell_type": "code",
      "metadata": {
        "id": "vF7tFA-J-_gu"
      },
      "source": [
        "from sklearn.preprocessing import normalize\n",
        "\n",
        "def get_cor_max(W,difficulty):\n",
        "  max_cor = 0\n",
        "  W_n = normalize(W,axis = 1)\n",
        "\n",
        "  for i,col in enumerate(W.T):\n",
        "    cor = np.corrcoef(col,difficulty,rowvar=False)[1,0]\n",
        "\n",
        "    if np.abs(cor) > np.abs(max_cor):\n",
        "      max_cor  = cor\n",
        "      max_channel_1 = i\n",
        " \n",
        "\n",
        "  max_cor = 0\n",
        "  for i,col in enumerate(W_n.T):\n",
        "    cor = np.corrcoef(col,difficulty,rowvar=False)[1,0]\n",
        "    if np.abs(cor) > np.abs(max_cor):\n",
        "      max_cor  = cor\n",
        "      max_channel_2 = i\n",
        "  print(\"cor_max_channel_normalized:\")\n",
        "  print(max_channel_2)    \n",
        "\n",
        "  return max_channel_1, max_channel_2  \n"
      ],
      "execution_count": null,
      "outputs": []
    },
    {
      "cell_type": "code",
      "metadata": {
        "id": "Q_tWaZPSa8Bg"
      },
      "source": [
        "best_10 = [124,79.95,253.2,327.25,281.25,282.25,309.3,113,451.3,303.25]\n",
        "best_30 = [790.55,311.15,329.25,284.25,283.25,299.2,304.25,89,328.25,255.25,331.25,307.25,326.2,427.3,227.2,183,297.25,277.2,453.3,280.25,325.2,339.2,256.25,885.55,115,279.25,305.25]\n",
        "\n",
        "\n",
        "#def score_parameter_choice(th,k,LR_max_1, LR_max_2,cor_max_1,cor_max_2,important_1_1,important_1_2,important_2,important_3 ):\n",
        "def score_parameter_choice(th,k,important_1_1,important_1_2,important_2,important_3 ):\n",
        "\n",
        "  #### how many from high 10\n",
        "  cor_score_1 = np.count_nonzero(np.intersect1d(np.unique(np.round(np.multiply(important_1_1[0],20)))/20,best_10))\n",
        "  cor_score_2 = np.count_nonzero(np.intersect1d(np.unique(np.round(np.multiply(important_1_2[0],20)))/20,best_10))\n",
        "\n",
        "  L1_score = np.count_nonzero(np.intersect1d(np.unique(np.round(np.multiply(important_2[0],20)))/20,best_10))\n",
        "  L2_score = np.count_nonzero(np.intersect1d(np.unique(np.round(np.multiply(important_3[0],20)))/20,best_10))\n",
        "  best_10_score = [cor_score_1,cor_score_2,L1_score,L2_score]\n",
        "#  print(np.sum((l-0.05<important_1<l+0.05) for l,r in best_10 ))\n",
        "  ####### how many from high30\n",
        "  cor_score_1 += np.count_nonzero(np.intersect1d(np.unique(np.round(np.multiply(important_1_1[0],20)))/20,best_30))\n",
        "  cor_score_2 += np.count_nonzero(np.intersect1d(np.unique(np.round(np.multiply(important_1_2[0],20)))/20,best_30))\n",
        "\n",
        "  L1_score += np.count_nonzero(np.intersect1d(np.unique(np.round(np.multiply(important_2[0],20)))/20,best_30))\n",
        "  L2_score += np.count_nonzero(np.intersect1d(np.unique(np.round(np.multiply(important_3[0],20)))/20,best_30))\n",
        "  best_30_score = [cor_score_1,cor_score_2,L1_score,L2_score]\n",
        "  print(\"k: \"+str(k) +  \", th: \" + str(th)+\",  best 10 score: \"+ str(best_10_score)+ \", best 30 score: \"+ str(best_30_score) )  \n",
        "\n",
        "\n",
        "  return best_10_score, best_30_score\n",
        "\n"
      ],
      "execution_count": null,
      "outputs": []
    },
    {
      "cell_type": "code",
      "metadata": {
        "id": "GzRnEMfCLy2E",
        "colab": {
          "base_uri": "https://localhost:8080/"
        },
        "outputId": "750ad1b4-65cd-4a05-e157-7b03a36a5854"
      },
      "source": [
        "########### only relevant after saving W/H files to drive #############\n",
        "\n",
        "import os, re\n",
        "def get_W_H_from_files(k):\n",
        "  regex_w = re.compile(\"W\"+str(k)+\"_.+csv$\")\n",
        "  regex_c = re.compile(\"C\"+str(k)+\"_.+csv$\")\n",
        "  W,C ,l,peaks= 0,0,0,[]\n",
        "  print(path_for_wc)\n",
        "  for subdir, dirs, files in os.walk(path_for_wc):\n",
        "    if files == None: \n",
        "      print(\"cannot open directory\")\n",
        "    print(files)\n",
        "    #print(W)\n",
        "    for f in files:\n",
        "      if regex_w.match(str(f)):\n",
        "        print(\"match: \" , f)\n",
        "        W = np.loadtxt(path_for_wc + f ,delimiter=',') \n",
        "        length = W.shape[0]\n",
        "      if regex_c.match(str(f)):\n",
        "        print(\"match: \" , f)\n",
        "        C = np.loadtxt(path_for_wc + f ,delimiter=',') \n",
        "        H_new = C\n",
        "        peaks = C[0,:]\n",
        "        H = np.delete(C,0,axis=0)\n",
        "        #print(C)\n",
        "        #print(H)\n",
        "    if np.all(W==0):\n",
        "      print(k ,\" not fuond in folder\")\n",
        "    return [W ,H,H_new ,peaks, length]\n",
        "\n"
      ],
      "execution_count": null,
      "outputs": [
        {
          "output_type": "stream",
          "name": "stdout",
          "text": [
            "/content/drive/MyDrive/Katy/heartProject/WC/\n",
            "['W3_graphs.csv', 'C3_graphs.csv', 'W6_graphs.csv', 'C6_graphs.csv', 'W9_graphs.csv', 'C9_graphs.csv', 'W12_graphs.csv', 'C12_graphs.csv', 'W15_graphs.csv', 'C15_graphs.csv', 'W18_graphs.csv', 'C18_graphs.csv', 'W21_graphs.csv', 'C21_graphs.csv', 'W24_graphs.csv', 'C24_graphs.csv', 'W27_graphs.csv', 'C27_graphs.csv', 'W30_graphs.csv', 'C30_graphs.csv', 'W33_graphs.csv', 'C33_graphs.csv', 'W36_graphs.csv', 'C36_graphs.csv', 'W39_graphs.csv', 'C39_graphs.csv', 'W42_graphs.csv', 'C42_graphs.csv', 'W45_graphs.csv', 'C45_graphs.csv', 'W48_graphs.csv', 'C48_graphs.csv', 'W51_graphs.csv', 'C51_graphs.csv', 'W54_graphs.csv', 'C54_graphs.csv', 'W57_graphs.csv', 'C57_graphs.csv', 'W60_graphs.csv', 'C60_graphs.csv', 'W63_graphs.csv', 'C63_graphs.csv', 'W66_graphs.csv', 'C66_graphs.csv', 'W69_graphs.csv', 'C69_graphs.csv', 'W72_graphs.csv', 'C72_graphs.csv', 'W75_graphs.csv', 'C75_graphs.csv']\n",
            "match:  W3_graphs.csv\n",
            "match:  C3_graphs.csv\n"
          ]
        }
      ]
    },
    {
      "cell_type": "code",
      "metadata": {
        "id": "mhU-2gFfJfuV"
      },
      "source": [
        "if from_WC:\n",
        "  pass\n",
        "else:\n",
        "  df_collection = create_dict_df()\n",
        "\n",
        "  mat_all , peaks_all= create_nmf_matrix(df_collection)\n",
        "  nmf_np = mat_all.fillna(0).to_numpy()\n",
        "  print(mat_all.head(10))\n",
        "  print(mat_all.shape)"
      ],
      "execution_count": null,
      "outputs": []
    },
    {
      "cell_type": "code",
      "metadata": {
        "colab": {
          "base_uri": "https://localhost:8080/"
        },
        "id": "3iU9dlUnvWvN",
        "outputId": "2556a087-b0b8-4cf8-e859-8f47b3b2adf2"
      },
      "source": [
        "num_of_channels = [3,76]\n",
        "thresholds = [-37]\n",
        "\n",
        "\n",
        "NMF_all_W_H = {}\n",
        "count_peaks_cor ,count_peaks_LR = [],[]\n",
        "score_array_all =None\n",
        "\n",
        "\n",
        "for k in range(num_of_channels[0],num_of_channels[1],3):\n",
        "\n",
        "    print(\"**********\",k,\" Channels **********************\")\n",
        "    if from_WC:\n",
        "      [W ,H,H_new ,peaks, l] = get_W_H_from_files(k)  \n",
        "      l = W.shape[0]\n",
        "    else:\n",
        "      nmf = NMF(n_components=k, init='nndsvd', random_state=0,max_iter=100000)\n",
        "      W = nmf.fit_transform(nmf_np.transpose())\n",
        "      H = nmf.components_\n",
        "      H_new = np.concatenate((peaks_all.reshape(1,-1),H))\n",
        "      l = W.shape[0]\n",
        "      NMF_all_W_H[k] = [W,H]\n",
        "    #print(W.round(2))\n",
        "\n",
        "    sick_healthy_array = get_tag_array(l)\n",
        "    LR_max_1, LR_max_2 = get_LR_max(W,sick_healthy_array)\n",
        "    cor_max_1, cor_max_2 = get_cor_max(W,sick_healthy_array)\n",
        "\n",
        "    if from_WC:\n",
        "      pass\n",
        "    else:\n",
        "      file_path_weights = path_for_NMF+\"/Run\"+suffix +\"/W\" + str(k)+suffix +\".csv\"\n",
        "      np.savetxt(file_path_weights, X = W, delimiter=\",\")\n",
        "      file_path_channels =  path_for_NMF+\"/Run\"+suffix +\"/C\" + str(k)+suffix +\".csv\"\n",
        "      np.savetxt(file_path_channels, X = H_new, delimiter=\",\")\n",
        "      file_path_bestnum = path_for_NMF+\"/Run\"+suffix +\"/best_channels_num_\" + str(k)+suffix +\".csv\"\n",
        "      np.savetxt(file_path_bestnum  , X = [LR_max_1,LR_max_2,cor_max_1, cor_max_2], delimiter=\",\")\n",
        "               \n",
        "    for th in thresholds:\n",
        "\n",
        "      important_1_1 = [H_new[0,np.argpartition(H[cor_max_1,:], th)[th:] ],H[cor_max_1,np.argpartition(H[cor_max_1,:], th)[th:]]]\n",
        "      file_path_important = path_for_NMF+\"/Run\"+suffix +\"/important_peaks_COR_over\" + str(th)+\"_Nchannels\" + str(k)+\"_channel\"+ str(cor_max_1)+suffix +\".csv\"\n",
        "      np.savetxt(file_path_important, X =important_1_1, delimiter=\",\")\n",
        "      \n",
        "      important_1_2 = [H_new[0,np.argpartition(H[cor_max_2,:], th)[th:] ],H[cor_max_2,np.argpartition(H[cor_max_2,:], th)[th:]]]\n",
        "      file_path_important = path_for_NMF+\"/Run\"+suffix +\"/important_peaks_CORNORM_over\" + str(th)+\"_Nchannels\" + str(k)+\"_channel\"+ str(cor_max_2)+suffix +\".csv\"\n",
        "      np.savetxt(file_path_important, X =important_1_2, delimiter=\",\")\n",
        "      \n",
        "      important_2 = [H_new[0,np.argpartition(H[LR_max_1,:], th)[th:] ],H[LR_max_1,np.argpartition(H[LR_max_1,:], th)[th:]]]\n",
        "      file_path_important = path_for_NMF+\"/Run\"+suffix +\"/important_peaks_LRSTD_over\" + str(th)+\"_Nchannels\" + str(k)+\"_channel\"+ str(LR_max_1)+suffix +\".csv\"\n",
        "      np.savetxt(file_path_important, X =important_2, delimiter=\",\")\n",
        "      \n",
        "      important_3 = [H_new[0,np.argpartition(H[LR_max_2,:], th)[th:] ],H[LR_max_2,np.argpartition(H[LR_max_2,:], th)[th:]]]\n",
        "      file_path_important = path_for_NMF+\"/Run\"+suffix +\"/important_peaks_LR_over\"+ str(th)+\"_Nchannels\" + str(k)+\"_channel\"+ str(LR_max_2)+suffix +\".csv\"\n",
        "      np.savetxt(file_path_important, X =important_3, delimiter=\",\")\n",
        "\n",
        "    \n",
        "      score_10,score_30 = score_parameter_choice(th,k,important_1_1,important_1_2,important_2,important_3 )\n",
        "            \n",
        "\n",
        "      if th == -37:\n",
        "        count_peaks_cor = np.concatenate((count_peaks_cor,important_1_1[0]))\n",
        "        count_peaks_LR = np.concatenate((count_peaks_LR,important_3[0]))\n",
        "        unique_cor, counts_cor = np.unique(count_peaks_cor, return_counts=True)\n",
        "        unique_LR, counts_LR = np.unique(count_peaks_LR, return_counts=True)\n",
        "\n",
        "        print(dict(zip(unique_cor, counts_LR)))\n",
        "#        print(np.count(count_peaks_LR))\n",
        "        \n",
        "        print(dict(zip(unique_LR, counts_cor)))\n",
        "        print(\"--------score array: ------\")\n",
        "        if np.all(score_array_all != None):\n",
        "          score_array_all = np.vstack((score_array_all,np.hstack((score_10,score_30)).reshape((1,8))))\n",
        "        else:  \n",
        "\n",
        "          score_array_all = np.hstack((score_10,score_30)).reshape((1,8))\n",
        "\n",
        "        print(score_array_all)\n",
        "        \n",
        "     #   sns.lineplot(data=score_array_all,   markers=True, dashes=False)\n",
        "\n",
        "#\n",
        "      if th == -10: \n",
        "        print(important_1_1[0])\n",
        "        print(important_1_2[0])\n",
        "\n",
        "        print(important_2[0])  \n",
        "        print(important_3[0])\n"
      ],
      "execution_count": null,
      "outputs": [
        {
          "output_type": "stream",
          "name": "stdout",
          "text": [
            "********** 3  Channels **********************\n",
            "/content/drive/MyDrive/Katy/heartProject/WC/\n",
            "['W3_graphs.csv', 'C3_graphs.csv', 'W6_graphs.csv', 'C6_graphs.csv', 'W9_graphs.csv', 'C9_graphs.csv', 'W12_graphs.csv', 'C12_graphs.csv', 'W15_graphs.csv', 'C15_graphs.csv', 'W18_graphs.csv', 'C18_graphs.csv', 'W21_graphs.csv', 'C21_graphs.csv', 'W24_graphs.csv', 'C24_graphs.csv', 'W27_graphs.csv', 'C27_graphs.csv', 'W30_graphs.csv', 'C30_graphs.csv', 'W33_graphs.csv', 'C33_graphs.csv', 'W36_graphs.csv', 'C36_graphs.csv', 'W39_graphs.csv', 'C39_graphs.csv', 'W42_graphs.csv', 'C42_graphs.csv', 'W45_graphs.csv', 'C45_graphs.csv', 'W48_graphs.csv', 'C48_graphs.csv', 'W51_graphs.csv', 'C51_graphs.csv', 'W54_graphs.csv', 'C54_graphs.csv', 'W57_graphs.csv', 'C57_graphs.csv', 'W60_graphs.csv', 'C60_graphs.csv', 'W63_graphs.csv', 'C63_graphs.csv', 'W66_graphs.csv', 'C66_graphs.csv', 'W69_graphs.csv', 'C69_graphs.csv', 'W72_graphs.csv', 'C72_graphs.csv', 'W75_graphs.csv', 'C75_graphs.csv']\n",
            "match:  W3_graphs.csv\n",
            "match:  C3_graphs.csv\n",
            "0.7931519699812383\n",
            "LR_max_channel:\n",
            "[2]\n",
            "[1]\n",
            "(2132, 3)\n",
            "(2132, 3)\n",
            "cor_max_channel:\n",
            "1\n",
            "cor_max_channel_normalized:\n",
            "2\n",
            "1\n",
            "(3, 2321)\n",
            "[0.37548339 0.41231214 0.36661462 ... 0.0622295  0.06871755 0.0957896 ]\n",
            "k: 3, th: -37,  best 10 score: [8, 10, 8, 8], best 30 score: [27, 27, 27, 27]\n",
            "{79.96: 1, 89.02: 1, 112.99: 1, 114.02: 1, 115.02: 1, 124.01: 1, 183.01: 1, 227.2: 1, 241.22: 1, 253.22: 1, 255.23: 1, 256.23: 1, 256.24: 1, 269.25: 1, 280.23: 1, 281.25: 1, 282.25: 1, 283.26: 1, 283.27: 1, 284.27: 1, 285.27: 1, 297.15: 1, 297.24: 1, 299.2: 1, 303.23: 1, 307.26: 1, 311.17: 1, 312.17: 1, 325.18: 1, 325.19: 1, 326.19: 1, 327.23: 1, 328.23: 1, 329.24: 1, 331.26: 1, 339.2: 1, 552.27: 1}\n",
            "{79.96: 1, 89.02: 1, 112.99: 1, 114.02: 1, 115.02: 1, 124.01: 1, 183.01: 1, 227.2: 1, 241.22: 1, 253.22: 1, 255.23: 1, 256.23: 1, 256.24: 1, 269.25: 1, 280.23: 1, 281.25: 1, 282.25: 1, 283.26: 1, 283.27: 1, 284.27: 1, 285.27: 1, 297.15: 1, 297.24: 1, 299.2: 1, 303.23: 1, 307.26: 1, 311.17: 1, 312.17: 1, 325.18: 1, 325.19: 1, 326.19: 1, 327.23: 1, 328.23: 1, 329.24: 1, 331.26: 1, 339.2: 1, 552.27: 1}\n",
            "--------score array: ------\n",
            "[[ 8 10  8  8 27 27 27 27]]\n",
            "********** 6  Channels **********************\n",
            "/content/drive/MyDrive/Katy/heartProject/WC/\n",
            "['W3_graphs.csv', 'C3_graphs.csv', 'W6_graphs.csv', 'C6_graphs.csv', 'W9_graphs.csv', 'C9_graphs.csv', 'W12_graphs.csv', 'C12_graphs.csv', 'W15_graphs.csv', 'C15_graphs.csv', 'W18_graphs.csv', 'C18_graphs.csv', 'W21_graphs.csv', 'C21_graphs.csv', 'W24_graphs.csv', 'C24_graphs.csv', 'W27_graphs.csv', 'C27_graphs.csv', 'W30_graphs.csv', 'C30_graphs.csv', 'W33_graphs.csv', 'C33_graphs.csv', 'W36_graphs.csv', 'C36_graphs.csv', 'W39_graphs.csv', 'C39_graphs.csv', 'W42_graphs.csv', 'C42_graphs.csv', 'W45_graphs.csv', 'C45_graphs.csv', 'W48_graphs.csv', 'C48_graphs.csv', 'W51_graphs.csv', 'C51_graphs.csv', 'W54_graphs.csv', 'C54_graphs.csv', 'W57_graphs.csv', 'C57_graphs.csv', 'W60_graphs.csv', 'C60_graphs.csv', 'W63_graphs.csv', 'C63_graphs.csv', 'W66_graphs.csv', 'C66_graphs.csv', 'W69_graphs.csv', 'C69_graphs.csv', 'W72_graphs.csv', 'C72_graphs.csv', 'W75_graphs.csv', 'C75_graphs.csv']\n",
            "match:  W6_graphs.csv\n",
            "match:  C6_graphs.csv\n",
            "0.851782363977486\n",
            "LR_max_channel:\n",
            "[0]\n",
            "[5]\n",
            "(2132, 6)\n",
            "(2132, 6)\n",
            "cor_max_channel:\n",
            "1\n",
            "cor_max_channel_normalized:\n",
            "3\n",
            "5\n",
            "(6, 2321)\n",
            "[0.05563945 0.         0.06424179 ... 0.0167793  0.         0.08892695]\n",
            "k: 6, th: -37,  best 10 score: [6, 7, 7, 7], best 30 score: [22, 21, 17, 17]\n",
            "{79.96: 2, 89.02: 2, 112.99: 1, 114.02: 2, 115.02: 2, 124.01: 1, 183.01: 2, 188.94: 1, 227.2: 2, 228.93: 1, 241.22: 1, 253.22: 1, 255.23: 1, 256.23: 1, 256.24: 1, 265.15: 1, 269.25: 1, 279.23: 1, 280.23: 1, 280.24: 1, 281.25: 1, 282.25: 2, 283.26: 1, 283.27: 2, 284.27: 1, 285.27: 1, 297.15: 1, 297.24: 1, 299.2: 1, 303.23: 1, 307.26: 1, 311.17: 2, 311.3: 1, 312.17: 1, 325.18: 1, 325.19: 1, 326.19: 1, 327.23: 1, 328.23: 1, 329.24: 2, 329.25: 1, 331.26: 2, 339.2: 1, 340.2: 1, 367.36: 1, 459.33: 1, 552.27: 1}\n",
            "{79.96: 2, 89.02: 1, 89.03: 2, 112.99: 1, 114.02: 1, 114.03: 2, 115.02: 2, 117.04: 1, 124.01: 2, 126.0: 1, 134.05: 2, 157.03: 1, 159.03: 2, 171.1: 2, 183.01: 2, 187.04: 1, 189.06: 2, 227.2: 1, 229.05: 1, 241.22: 1, 253.22: 2, 255.23: 2, 256.23: 2, 256.24: 2, 269.21: 2, 269.25: 2, 279.23: 2, 280.23: 2, 281.24: 2, 281.25: 1, 282.25: 1, 283.26: 2, 283.27: 1, 284.27: 2, 285.27: 2, 293.21: 2, 295.23: 2, 296.23: 2, 297.15: 1, 297.24: 1, 299.2: 1, 303.23: 2, 307.26: 2, 311.17: 1, 311.22: 1, 312.17: 1, 325.18: 1}\n",
            "--------score array: ------\n",
            "[[ 8 10  8  8 27 27 27 27]\n",
            " [ 6  7  7  7 22 21 17 17]]\n",
            "********** 9  Channels **********************\n",
            "/content/drive/MyDrive/Katy/heartProject/WC/\n",
            "['W3_graphs.csv', 'C3_graphs.csv', 'W6_graphs.csv', 'C6_graphs.csv', 'W9_graphs.csv', 'C9_graphs.csv', 'W12_graphs.csv', 'C12_graphs.csv', 'W15_graphs.csv', 'C15_graphs.csv', 'W18_graphs.csv', 'C18_graphs.csv', 'W21_graphs.csv', 'C21_graphs.csv', 'W24_graphs.csv', 'C24_graphs.csv', 'W27_graphs.csv', 'C27_graphs.csv', 'W30_graphs.csv', 'C30_graphs.csv', 'W33_graphs.csv', 'C33_graphs.csv', 'W36_graphs.csv', 'C36_graphs.csv', 'W39_graphs.csv', 'C39_graphs.csv', 'W42_graphs.csv', 'C42_graphs.csv', 'W45_graphs.csv', 'C45_graphs.csv', 'W48_graphs.csv', 'C48_graphs.csv', 'W51_graphs.csv', 'C51_graphs.csv', 'W54_graphs.csv', 'C54_graphs.csv', 'W57_graphs.csv', 'C57_graphs.csv', 'W60_graphs.csv', 'C60_graphs.csv', 'W63_graphs.csv', 'C63_graphs.csv', 'W66_graphs.csv', 'C66_graphs.csv', 'W69_graphs.csv', 'C69_graphs.csv', 'W72_graphs.csv', 'C72_graphs.csv', 'W75_graphs.csv', 'C75_graphs.csv']\n",
            "match:  W9_graphs.csv\n",
            "match:  C9_graphs.csv\n",
            "0.8836772983114447\n",
            "LR_max_channel:\n",
            "[0]\n",
            "[3]\n",
            "(2132, 9)\n",
            "(2132, 9)\n",
            "cor_max_channel:\n",
            "1\n",
            "cor_max_channel_normalized:\n",
            "6\n",
            "3\n",
            "(9, 2321)\n",
            "[0.         0.         0.         ... 0.02436486 0.04801082 0.00822405]\n",
            "k: 9, th: -37,  best 10 score: [4, 7, 8, 8], best 30 score: [20, 17, 23, 23]\n",
            "{79.96: 3, 89.02: 3, 112.99: 1, 114.02: 2, 115.02: 3, 124.01: 1, 162.96: 2, 183.01: 1, 188.94: 3, 227.2: 1, 228.93: 1, 241.22: 1, 253.22: 1, 255.23: 1, 256.23: 1, 256.24: 1, 257.24: 1, 265.15: 1, 269.25: 1, 279.23: 1, 280.23: 1, 280.24: 3, 281.25: 2, 282.25: 2, 283.26: 1, 283.27: 1, 284.27: 2, 285.27: 2, 297.15: 1, 297.24: 2, 299.2: 2, 303.23: 2, 307.26: 1, 311.17: 3, 311.3: 1, 312.17: 2, 325.18: 1, 325.19: 1, 326.19: 1, 327.23: 1, 328.23: 1, 329.24: 2, 329.25: 1, 331.26: 3, 339.2: 1, 340.2: 1, 367.36: 1, 459.33: 1, 552.27: 2}\n",
            "{79.96: 3, 89.02: 1, 89.03: 3, 112.99: 1, 114.02: 2, 114.03: 2, 115.02: 1, 117.04: 3, 124.01: 2, 126.0: 3, 134.05: 2, 157.03: 3, 159.03: 1, 171.1: 3, 183.01: 3, 187.04: 3, 189.06: 1, 227.2: 2, 229.05: 3, 241.22: 2, 253.22: 1, 255.23: 2, 256.23: 3, 256.24: 3, 269.21: 3, 269.25: 3, 279.23: 3, 280.23: 3, 280.24: 3, 281.24: 3, 281.25: 3, 282.25: 1, 283.24: 1, 283.26: 3, 283.27: 2, 284.27: 3, 285.27: 3, 293.21: 3, 295.23: 3, 296.23: 2, 297.15: 1, 297.24: 1, 299.2: 2, 303.23: 2, 304.23: 3, 304.24: 2, 305.25: 2, 306.25: 2, 307.26: 1}\n",
            "--------score array: ------\n",
            "[[ 8 10  8  8 27 27 27 27]\n",
            " [ 6  7  7  7 22 21 17 17]\n",
            " [ 4  7  8  8 20 17 23 23]]\n",
            "********** 12  Channels **********************\n",
            "/content/drive/MyDrive/Katy/heartProject/WC/\n",
            "['W3_graphs.csv', 'C3_graphs.csv', 'W6_graphs.csv', 'C6_graphs.csv', 'W9_graphs.csv', 'C9_graphs.csv', 'W12_graphs.csv', 'C12_graphs.csv', 'W15_graphs.csv', 'C15_graphs.csv', 'W18_graphs.csv', 'C18_graphs.csv', 'W21_graphs.csv', 'C21_graphs.csv', 'W24_graphs.csv', 'C24_graphs.csv', 'W27_graphs.csv', 'C27_graphs.csv', 'W30_graphs.csv', 'C30_graphs.csv', 'W33_graphs.csv', 'C33_graphs.csv', 'W36_graphs.csv', 'C36_graphs.csv', 'W39_graphs.csv', 'C39_graphs.csv', 'W42_graphs.csv', 'C42_graphs.csv', 'W45_graphs.csv', 'C45_graphs.csv', 'W48_graphs.csv', 'C48_graphs.csv', 'W51_graphs.csv', 'C51_graphs.csv', 'W54_graphs.csv', 'C54_graphs.csv', 'W57_graphs.csv', 'C57_graphs.csv', 'W60_graphs.csv', 'C60_graphs.csv', 'W63_graphs.csv', 'C63_graphs.csv', 'W66_graphs.csv', 'C66_graphs.csv', 'W69_graphs.csv', 'C69_graphs.csv', 'W72_graphs.csv', 'C72_graphs.csv', 'W75_graphs.csv', 'C75_graphs.csv']\n",
            "match:  W12_graphs.csv\n",
            "match:  C12_graphs.csv\n",
            "0.8954033771106942\n",
            "LR_max_channel:\n",
            "[4]\n",
            "[9]\n",
            "(2132, 12)\n",
            "(2132, 12)\n",
            "cor_max_channel:\n",
            "1\n",
            "cor_max_channel_normalized:\n",
            "6\n",
            "10\n",
            "(12, 2321)\n",
            "[0.63493229 0.21139907 0.         ... 0.0479412  0.         0.        ]\n",
            "k: 12, th: -37,  best 10 score: [4, 6, 7, 8], best 30 score: [18, 14, 21, 25]\n",
            "{79.96: 4, 89.02: 4, 112.99: 1, 114.02: 2, 115.02: 4, 124.01: 1, 162.96: 3, 183.01: 1, 188.94: 4, 227.2: 1, 228.93: 1, 241.22: 1, 253.22: 1, 255.23: 1, 256.23: 1, 256.24: 1, 257.24: 1, 265.15: 1, 269.25: 1, 273.82: 1, 279.23: 1, 280.23: 4, 280.24: 3, 281.25: 2, 282.25: 1, 283.26: 1, 283.27: 3, 284.27: 3, 285.27: 2, 293.18: 3, 297.15: 3, 297.24: 3, 299.2: 2, 303.23: 4, 307.26: 1, 311.17: 1, 311.3: 3, 312.17: 1, 325.18: 1, 325.19: 2, 326.19: 1, 327.23: 1, 328.23: 3, 329.24: 1, 329.25: 4, 331.26: 2, 339.2: 1, 340.2: 1, 367.36: 2, 459.33: 1, 552.27: 3}\n",
            "{79.96: 4, 89.02: 1, 89.03: 4, 112.99: 1, 114.02: 2, 114.03: 2, 115.02: 2, 117.04: 4, 124.01: 3, 126.0: 4, 134.05: 3, 157.03: 4, 159.03: 1, 171.1: 4, 183.01: 4, 187.04: 4, 189.06: 2, 227.2: 3, 229.05: 4, 241.22: 1, 253.22: 3, 255.23: 1, 256.23: 2, 256.24: 4, 269.21: 4, 269.25: 4, 279.23: 4, 280.23: 4, 280.24: 4, 281.24: 1, 281.25: 4, 282.25: 3, 283.24: 4, 283.26: 1, 283.27: 1, 284.26: 4, 284.27: 3, 285.27: 4, 293.21: 4, 295.23: 4, 296.23: 4, 297.15: 2, 297.24: 1, 299.2: 1, 303.23: 3, 304.23: 3, 304.24: 4, 305.24: 3, 305.25: 3, 306.25: 3, 307.26: 1}\n",
            "--------score array: ------\n",
            "[[ 8 10  8  8 27 27 27 27]\n",
            " [ 6  7  7  7 22 21 17 17]\n",
            " [ 4  7  8  8 20 17 23 23]\n",
            " [ 4  6  7  8 18 14 21 25]]\n",
            "********** 15  Channels **********************\n",
            "/content/drive/MyDrive/Katy/heartProject/WC/\n",
            "['W3_graphs.csv', 'C3_graphs.csv', 'W6_graphs.csv', 'C6_graphs.csv', 'W9_graphs.csv', 'C9_graphs.csv', 'W12_graphs.csv', 'C12_graphs.csv', 'W15_graphs.csv', 'C15_graphs.csv', 'W18_graphs.csv', 'C18_graphs.csv', 'W21_graphs.csv', 'C21_graphs.csv', 'W24_graphs.csv', 'C24_graphs.csv', 'W27_graphs.csv', 'C27_graphs.csv', 'W30_graphs.csv', 'C30_graphs.csv', 'W33_graphs.csv', 'C33_graphs.csv', 'W36_graphs.csv', 'C36_graphs.csv', 'W39_graphs.csv', 'C39_graphs.csv', 'W42_graphs.csv', 'C42_graphs.csv', 'W45_graphs.csv', 'C45_graphs.csv', 'W48_graphs.csv', 'C48_graphs.csv', 'W51_graphs.csv', 'C51_graphs.csv', 'W54_graphs.csv', 'C54_graphs.csv', 'W57_graphs.csv', 'C57_graphs.csv', 'W60_graphs.csv', 'C60_graphs.csv', 'W63_graphs.csv', 'C63_graphs.csv', 'W66_graphs.csv', 'C66_graphs.csv', 'W69_graphs.csv', 'C69_graphs.csv', 'W72_graphs.csv', 'C72_graphs.csv', 'W75_graphs.csv', 'C75_graphs.csv']\n",
            "match:  W15_graphs.csv\n",
            "match:  C15_graphs.csv\n",
            "0.9432457786116323\n",
            "LR_max_channel:\n",
            "[4]\n",
            "[10]\n",
            "(2132, 15)\n",
            "(2132, 15)\n",
            "cor_max_channel:\n",
            "1\n",
            "cor_max_channel_normalized:\n",
            "3\n",
            "10\n",
            "(15, 2321)\n",
            "[0.         0.         0.         ... 0.         0.21505626 0.        ]\n",
            "k: 15, th: -37,  best 10 score: [2, 7, 5, 5], best 30 score: [15, 22, 19, 19]\n",
            "{79.96: 4, 89.02: 5, 96.96: 1, 100.02: 2, 112.99: 4, 114.02: 1, 115.02: 3, 124.01: 1, 162.96: 4, 183.01: 1, 188.94: 1, 227.2: 1, 228.93: 1, 241.22: 1, 253.22: 1, 255.23: 1, 256.23: 1, 256.24: 1, 257.24: 1, 265.15: 2, 269.25: 2, 273.82: 1, 279.23: 4, 280.23: 1, 280.24: 3, 281.25: 2, 282.25: 1, 283.26: 1, 283.27: 1, 284.27: 4, 285.27: 1, 293.18: 4, 294.9: 3, 297.15: 4, 297.24: 4, 299.2: 1, 303.23: 4, 307.26: 2, 311.17: 1, 311.3: 5, 312.17: 1, 325.18: 1, 325.19: 4, 326.19: 1, 327.23: 1, 328.23: 2, 329.24: 1, 329.25: 1, 331.26: 3, 339.2: 1, 340.2: 5, 367.36: 3, 459.33: 2, 552.27: 1}\n",
            "{79.96: 5, 89.02: 1, 89.03: 1, 112.99: 1, 114.02: 5, 114.03: 1, 115.02: 2, 117.04: 2, 124.01: 3, 126.0: 5, 134.05: 4, 157.03: 5, 159.03: 4, 171.1: 5, 183.01: 1, 187.04: 5, 189.06: 5, 227.2: 5, 229.05: 3, 241.22: 4, 253.22: 5, 254.22: 2, 255.23: 4, 255.24: 1, 256.23: 2, 256.24: 4, 267.23: 4, 269.21: 5, 269.25: 5, 279.23: 5, 279.24: 5, 280.23: 2, 280.24: 1, 281.24: 5, 281.25: 4, 281.26: 5, 282.25: 1, 283.24: 1, 283.25: 5, 283.26: 4, 283.27: 5, 284.26: 5, 284.27: 5, 285.27: 5, 293.21: 2, 295.23: 1, 296.23: 1, 297.15: 3, 297.24: 3, 299.2: 5, 303.23: 4, 304.23: 4, 304.24: 4, 305.24: 1}\n",
            "--------score array: ------\n",
            "[[ 8 10  8  8 27 27 27 27]\n",
            " [ 6  7  7  7 22 21 17 17]\n",
            " [ 4  7  8  8 20 17 23 23]\n",
            " [ 4  6  7  8 18 14 21 25]\n",
            " [ 2  7  5  5 15 22 19 19]]\n",
            "********** 18  Channels **********************\n",
            "/content/drive/MyDrive/Katy/heartProject/WC/\n",
            "['W3_graphs.csv', 'C3_graphs.csv', 'W6_graphs.csv', 'C6_graphs.csv', 'W9_graphs.csv', 'C9_graphs.csv', 'W12_graphs.csv', 'C12_graphs.csv', 'W15_graphs.csv', 'C15_graphs.csv', 'W18_graphs.csv', 'C18_graphs.csv', 'W21_graphs.csv', 'C21_graphs.csv', 'W24_graphs.csv', 'C24_graphs.csv', 'W27_graphs.csv', 'C27_graphs.csv', 'W30_graphs.csv', 'C30_graphs.csv', 'W33_graphs.csv', 'C33_graphs.csv', 'W36_graphs.csv', 'C36_graphs.csv', 'W39_graphs.csv', 'C39_graphs.csv', 'W42_graphs.csv', 'C42_graphs.csv', 'W45_graphs.csv', 'C45_graphs.csv', 'W48_graphs.csv', 'C48_graphs.csv', 'W51_graphs.csv', 'C51_graphs.csv', 'W54_graphs.csv', 'C54_graphs.csv', 'W57_graphs.csv', 'C57_graphs.csv', 'W60_graphs.csv', 'C60_graphs.csv', 'W63_graphs.csv', 'C63_graphs.csv', 'W66_graphs.csv', 'C66_graphs.csv', 'W69_graphs.csv', 'C69_graphs.csv', 'W72_graphs.csv', 'C72_graphs.csv', 'W75_graphs.csv', 'C75_graphs.csv']\n",
            "match:  W18_graphs.csv\n",
            "match:  C18_graphs.csv\n",
            "0.9423076923076923\n",
            "LR_max_channel:\n",
            "[7]\n",
            "[17]\n",
            "(2132, 18)\n",
            "(2132, 18)\n",
            "cor_max_channel:\n",
            "15\n",
            "cor_max_channel_normalized:\n",
            "16\n",
            "17\n",
            "(18, 2321)\n",
            "[1.38954315 0.86474361 1.43323183 ... 0.06926094 0.2097852  0.17205756]\n",
            "k: 18, th: -37,  best 10 score: [3, 7, 7, 7], best 30 score: [18, 20, 18, 18]\n",
            "{79.96: 5, 80.97: 5, 89.02: 1, 96.96: 2, 100.02: 4, 112.99: 1, 114.02: 3, 115.02: 1, 124.01: 5, 157.12: 1, 162.96: 1, 171.1: 1, 183.01: 1, 188.94: 1, 227.2: 1, 228.93: 1, 241.22: 1, 253.22: 1, 255.23: 1, 256.23: 2, 256.24: 2, 257.24: 1, 265.15: 5, 269.21: 1, 269.25: 3, 273.82: 3, 279.23: 1, 279.24: 1, 280.23: 2, 280.24: 5, 281.25: 1, 282.25: 5, 283.26: 4, 283.27: 5, 284.27: 5, 285.27: 1, 293.18: 5, 294.9: 2, 297.15: 1, 297.24: 6, 299.2: 1, 299.26: 1, 303.23: 5, 307.26: 1, 311.17: 1, 311.3: 2, 312.17: 1, 325.18: 1, 325.19: 3, 326.19: 1, 327.23: 6, 328.23: 3, 329.24: 2, 329.25: 1, 331.26: 4, 339.2: 2, 339.33: 5, 340.2: 1, 367.36: 1, 459.33: 4, 552.27: 1, 552.28: 2, 747.52: 1, 762.51: 1, 790.55: 2}\n",
            "{79.96: 6, 89.02: 1, 89.03: 2, 112.99: 1, 114.02: 1, 114.03: 6, 115.02: 1, 117.04: 3, 124.01: 2, 126.0: 1, 134.05: 3, 157.03: 1, 159.03: 6, 171.1: 4, 183.01: 6, 187.04: 4, 189.06: 6, 227.2: 1, 229.05: 6, 241.22: 5, 253.22: 6, 254.22: 4, 255.23: 4, 255.24: 1, 256.23: 6, 256.24: 3, 267.23: 4, 269.21: 1, 269.25: 1, 279.23: 2, 279.24: 4, 280.23: 5, 280.24: 5, 281.24: 6, 281.25: 6, 281.26: 6, 282.25: 2, 283.24: 1, 283.25: 6, 283.26: 5, 283.27: 5, 284.26: 1, 284.27: 1, 285.27: 1, 293.21: 6, 295.23: 5, 296.23: 6, 297.15: 6, 297.24: 6, 299.2: 6, 303.23: 2, 304.23: 1, 304.24: 1, 305.24: 3, 305.25: 3, 306.25: 6, 307.26: 1, 307.27: 4, 308.27: 5, 309.28: 4, 310.28: 1, 311.17: 1, 311.22: 1, 312.17: 1, 325.18: 1}\n",
            "--------score array: ------\n",
            "[[ 8 10  8  8 27 27 27 27]\n",
            " [ 6  7  7  7 22 21 17 17]\n",
            " [ 4  7  8  8 20 17 23 23]\n",
            " [ 4  6  7  8 18 14 21 25]\n",
            " [ 2  7  5  5 15 22 19 19]\n",
            " [ 3  7  7  7 18 20 18 18]]\n",
            "********** 21  Channels **********************\n",
            "/content/drive/MyDrive/Katy/heartProject/WC/\n",
            "['W3_graphs.csv', 'C3_graphs.csv', 'W6_graphs.csv', 'C6_graphs.csv', 'W9_graphs.csv', 'C9_graphs.csv', 'W12_graphs.csv', 'C12_graphs.csv', 'W15_graphs.csv', 'C15_graphs.csv', 'W18_graphs.csv', 'C18_graphs.csv', 'W21_graphs.csv', 'C21_graphs.csv', 'W24_graphs.csv', 'C24_graphs.csv', 'W27_graphs.csv', 'C27_graphs.csv', 'W30_graphs.csv', 'C30_graphs.csv', 'W33_graphs.csv', 'C33_graphs.csv', 'W36_graphs.csv', 'C36_graphs.csv', 'W39_graphs.csv', 'C39_graphs.csv', 'W42_graphs.csv', 'C42_graphs.csv', 'W45_graphs.csv', 'C45_graphs.csv', 'W48_graphs.csv', 'C48_graphs.csv', 'W51_graphs.csv', 'C51_graphs.csv', 'W54_graphs.csv', 'C54_graphs.csv', 'W57_graphs.csv', 'C57_graphs.csv', 'W60_graphs.csv', 'C60_graphs.csv', 'W63_graphs.csv', 'C63_graphs.csv', 'W66_graphs.csv', 'C66_graphs.csv', 'W69_graphs.csv', 'C69_graphs.csv', 'W72_graphs.csv', 'C72_graphs.csv', 'W75_graphs.csv', 'C75_graphs.csv']\n",
            "match:  W21_graphs.csv\n",
            "match:  C21_graphs.csv\n",
            "0.949812382739212\n",
            "LR_max_channel:\n",
            "[19]\n",
            "[17]\n",
            "(2132, 21)\n",
            "(2132, 21)\n",
            "cor_max_channel:\n",
            "18\n",
            "cor_max_channel_normalized:\n",
            "16\n",
            "17\n",
            "(21, 2321)\n",
            "[1.95998245 1.14924114 0.73105109 ... 0.         0.         0.50759905]\n",
            "k: 21, th: -37,  best 10 score: [4, 7, 5, 5], best 30 score: [19, 22, 17, 17]\n",
            "{79.96: 6, 80.97: 5, 89.02: 1, 96.96: 2, 100.02: 4, 112.99: 1, 114.02: 4, 115.02: 1, 124.01: 6, 157.12: 1, 162.96: 1, 171.1: 1, 183.01: 1, 188.94: 1, 227.2: 1, 228.93: 1, 241.22: 1, 253.22: 1, 255.23: 1, 256.23: 2, 256.24: 2, 257.24: 1, 265.15: 6, 269.21: 1, 269.25: 3, 273.82: 4, 279.23: 1, 279.24: 1, 280.23: 3, 280.24: 6, 281.25: 2, 282.25: 6, 283.26: 4, 283.27: 6, 284.27: 6, 285.27: 1, 293.18: 6, 294.9: 2, 297.15: 1, 297.24: 7, 299.2: 2, 299.26: 1, 303.23: 6, 307.26: 1, 311.17: 1, 311.3: 2, 312.17: 1, 325.18: 1, 325.19: 3, 326.19: 1, 327.23: 6, 328.23: 3, 329.24: 2, 329.25: 1, 331.26: 5, 331.27: 2, 339.2: 6, 339.33: 1, 340.2: 1, 367.36: 5, 459.33: 1, 552.27: 2, 552.28: 1, 747.52: 1, 762.51: 2, 790.55: 2}\n",
            "{79.96: 7, 89.02: 2, 89.03: 3, 112.99: 1, 114.02: 1, 114.03: 7, 115.02: 1, 117.04: 4, 124.01: 2, 126.0: 2, 134.05: 3, 157.03: 1, 159.03: 7, 171.1: 4, 183.01: 6, 187.04: 4, 189.06: 7, 227.2: 1, 229.05: 7, 241.22: 5, 253.22: 7, 254.22: 5, 255.23: 4, 255.24: 2, 256.23: 7, 256.24: 4, 267.23: 4, 269.21: 2, 269.25: 1, 279.23: 2, 279.24: 5, 280.23: 6, 280.24: 5, 281.24: 7, 281.25: 7, 281.26: 7, 282.25: 2, 283.24: 1, 283.25: 7, 283.26: 5, 283.27: 5, 284.26: 1, 284.27: 1, 285.27: 1, 293.21: 7, 295.23: 6, 296.23: 7, 297.15: 7, 297.24: 7, 299.2: 7, 303.23: 2, 304.23: 1, 304.24: 2, 305.24: 3, 305.25: 3, 306.25: 1, 307.26: 7, 307.27: 1, 308.27: 5, 309.28: 6, 310.28: 5, 311.17: 1, 311.22: 2, 312.17: 2, 325.18: 2, 325.19: 2}\n",
            "--------score array: ------\n",
            "[[ 8 10  8  8 27 27 27 27]\n",
            " [ 6  7  7  7 22 21 17 17]\n",
            " [ 4  7  8  8 20 17 23 23]\n",
            " [ 4  6  7  8 18 14 21 25]\n",
            " [ 2  7  5  5 15 22 19 19]\n",
            " [ 3  7  7  7 18 20 18 18]\n",
            " [ 4  7  5  5 19 22 17 17]]\n",
            "********** 24  Channels **********************\n",
            "/content/drive/MyDrive/Katy/heartProject/WC/\n",
            "['W3_graphs.csv', 'C3_graphs.csv', 'W6_graphs.csv', 'C6_graphs.csv', 'W9_graphs.csv', 'C9_graphs.csv', 'W12_graphs.csv', 'C12_graphs.csv', 'W15_graphs.csv', 'C15_graphs.csv', 'W18_graphs.csv', 'C18_graphs.csv', 'W21_graphs.csv', 'C21_graphs.csv', 'W24_graphs.csv', 'C24_graphs.csv', 'W27_graphs.csv', 'C27_graphs.csv', 'W30_graphs.csv', 'C30_graphs.csv', 'W33_graphs.csv', 'C33_graphs.csv', 'W36_graphs.csv', 'C36_graphs.csv', 'W39_graphs.csv', 'C39_graphs.csv', 'W42_graphs.csv', 'C42_graphs.csv', 'W45_graphs.csv', 'C45_graphs.csv', 'W48_graphs.csv', 'C48_graphs.csv', 'W51_graphs.csv', 'C51_graphs.csv', 'W54_graphs.csv', 'C54_graphs.csv', 'W57_graphs.csv', 'C57_graphs.csv', 'W60_graphs.csv', 'C60_graphs.csv', 'W63_graphs.csv', 'C63_graphs.csv', 'W66_graphs.csv', 'C66_graphs.csv', 'W69_graphs.csv', 'C69_graphs.csv', 'W72_graphs.csv', 'C72_graphs.csv', 'W75_graphs.csv', 'C75_graphs.csv']\n",
            "match:  W24_graphs.csv\n",
            "match:  C24_graphs.csv\n",
            "0.9545028142589118\n",
            "LR_max_channel:\n",
            "[23]\n",
            "[17]\n",
            "(2132, 24)\n",
            "(2132, 24)\n",
            "cor_max_channel:\n",
            "3\n",
            "cor_max_channel_normalized:\n",
            "3\n",
            "22\n",
            "(24, 2321)\n",
            "[0. 0. 0. ... 0. 0. 0.]\n",
            "k: 24, th: -37,  best 10 score: [5, 5, 5, 5], best 30 score: [21, 21, 14, 16]\n",
            "{79.96: 7, 80.97: 1, 89.02: 1, 96.96: 6, 100.02: 1, 112.99: 2, 114.02: 4, 115.02: 1, 124.01: 4, 157.12: 2, 159.03: 1, 162.96: 7, 171.1: 1, 183.01: 2, 188.94: 2, 227.2: 1, 228.93: 1, 241.22: 1, 253.22: 2, 255.23: 1, 255.24: 1, 256.23: 1, 256.24: 1, 257.24: 1, 265.15: 1, 269.21: 1, 269.25: 2, 273.82: 2, 279.23: 1, 279.24: 2, 280.23: 1, 280.24: 7, 281.25: 1, 282.25: 4, 283.24: 4, 283.26: 1, 283.27: 1, 284.27: 3, 285.27: 6, 293.18: 2, 294.9: 6, 297.15: 5, 297.24: 6, 299.2: 7, 299.26: 1, 303.23: 6, 304.24: 2, 305.25: 1, 307.26: 7, 311.17: 2, 311.3: 1, 312.17: 6, 325.18: 1, 325.19: 2, 326.19: 3, 327.23: 1, 327.24: 1, 328.23: 3, 328.24: 1, 329.24: 6, 329.25: 3, 330.25: 2, 331.26: 1, 331.27: 6, 339.2: 2, 339.33: 7, 340.2: 1, 367.36: 1, 453.3: 6, 459.33: 1, 499.29: 3, 552.27: 1, 552.28: 1, 580.27: 3, 747.52: 2, 762.51: 1, 790.55: 5, 818.53: 1}\n",
            "{79.96: 8, 81.95: 2, 88.04: 4, 89.02: 1, 89.03: 1, 112.99: 7, 114.02: 1, 114.03: 5, 115.02: 2, 117.04: 2, 124.0: 1, 124.01: 3, 125.01: 1, 126.0: 7, 134.05: 4, 145.06: 6, 146.08: 4, 152.0: 8, 157.03: 1, 159.03: 8, 171.1: 1, 183.01: 5, 187.04: 8, 189.06: 5, 227.2: 4, 228.06: 2, 229.05: 8, 241.22: 4, 249.02: 5, 253.22: 2, 254.22: 1, 255.23: 3, 255.24: 6, 256.23: 7, 256.24: 1, 267.23: 6, 269.21: 8, 269.25: 8, 279.23: 7, 279.24: 2, 280.23: 1, 280.24: 7, 281.24: 5, 281.25: 5, 281.26: 1, 282.25: 2, 283.24: 1, 283.25: 1, 283.26: 1, 283.27: 8, 284.26: 6, 284.27: 7, 285.27: 7, 293.21: 8, 295.23: 7, 296.23: 3, 297.15: 1, 297.24: 2, 299.2: 1, 303.23: 3, 304.23: 4, 304.24: 1, 305.24: 3, 305.25: 1, 306.25: 8, 307.26: 1, 307.27: 5, 308.27: 6, 309.28: 1, 310.28: 5, 311.17: 1, 311.22: 2, 312.17: 3, 325.18: 1, 325.19: 3, 326.19: 2, 327.23: 2, 327.24: 1}\n",
            "--------score array: ------\n",
            "[[ 8 10  8  8 27 27 27 27]\n",
            " [ 6  7  7  7 22 21 17 17]\n",
            " [ 4  7  8  8 20 17 23 23]\n",
            " [ 4  6  7  8 18 14 21 25]\n",
            " [ 2  7  5  5 15 22 19 19]\n",
            " [ 3  7  7  7 18 20 18 18]\n",
            " [ 4  7  5  5 19 22 17 17]\n",
            " [ 5  5  5  5 21 21 14 16]]\n",
            "********** 27  Channels **********************\n",
            "/content/drive/MyDrive/Katy/heartProject/WC/\n",
            "['W3_graphs.csv', 'C3_graphs.csv', 'W6_graphs.csv', 'C6_graphs.csv', 'W9_graphs.csv', 'C9_graphs.csv', 'W12_graphs.csv', 'C12_graphs.csv', 'W15_graphs.csv', 'C15_graphs.csv', 'W18_graphs.csv', 'C18_graphs.csv', 'W21_graphs.csv', 'C21_graphs.csv', 'W24_graphs.csv', 'C24_graphs.csv', 'W27_graphs.csv', 'C27_graphs.csv', 'W30_graphs.csv', 'C30_graphs.csv', 'W33_graphs.csv', 'C33_graphs.csv', 'W36_graphs.csv', 'C36_graphs.csv', 'W39_graphs.csv', 'C39_graphs.csv', 'W42_graphs.csv', 'C42_graphs.csv', 'W45_graphs.csv', 'C45_graphs.csv', 'W48_graphs.csv', 'C48_graphs.csv', 'W51_graphs.csv', 'C51_graphs.csv', 'W54_graphs.csv', 'C54_graphs.csv', 'W57_graphs.csv', 'C57_graphs.csv', 'W60_graphs.csv', 'C60_graphs.csv', 'W63_graphs.csv', 'C63_graphs.csv', 'W66_graphs.csv', 'C66_graphs.csv', 'W69_graphs.csv', 'C69_graphs.csv', 'W72_graphs.csv', 'C72_graphs.csv', 'W75_graphs.csv', 'C75_graphs.csv']\n",
            "match:  W27_graphs.csv\n",
            "match:  C27_graphs.csv\n",
            "0.9587242026266416\n",
            "LR_max_channel:\n",
            "[26]\n",
            "[10]\n",
            "(2132, 27)\n",
            "(2132, 27)\n",
            "cor_max_channel:\n",
            "24\n",
            "cor_max_channel_normalized:\n",
            "3\n",
            "10\n",
            "(27, 2321)\n",
            "[0.         0.         0.         ... 0.         2.17693471 0.        ]\n",
            "k: 27, th: -37,  best 10 score: [3, 6, 7, 7], best 30 score: [16, 21, 24, 24]\n",
            "{78.96: 8, 79.96: 1, 80.97: 1, 88.04: 6, 89.02: 1, 96.96: 2, 100.02: 4, 112.99: 1, 114.02: 5, 115.02: 2, 115.08: 1, 124.01: 7, 157.12: 1, 159.03: 2, 162.96: 2, 171.1: 1, 183.01: 1, 188.94: 1, 227.2: 2, 228.93: 1, 241.22: 1, 253.22: 2, 255.21: 1, 255.22: 1, 255.23: 1, 255.24: 1, 256.23: 2, 256.24: 3, 257.24: 1, 265.15: 3, 267.23: 2, 269.21: 7, 269.25: 1, 270.25: 4, 273.82: 4, 279.23: 1, 279.24: 1, 280.23: 3, 280.24: 1, 281.25: 6, 282.25: 2, 283.24: 6, 283.26: 6, 283.27: 6, 284.27: 8, 285.27: 1, 293.18: 7, 294.9: 2, 297.15: 1, 297.24: 7, 297.28: 3, 299.2: 1, 299.26: 7, 303.23: 1, 304.24: 2, 305.25: 4, 307.26: 1, 311.17: 1, 311.3: 3, 312.17: 1, 312.3: 1, 325.18: 1, 325.19: 7, 326.19: 1, 327.23: 4, 327.24: 3, 328.23: 1, 328.24: 7, 329.24: 2, 329.25: 8, 330.25: 2, 331.26: 1, 331.27: 7, 332.27: 1, 339.2: 4, 339.33: 1, 340.2: 1, 367.36: 4, 453.3: 3, 459.33: 1, 499.29: 6, 552.27: 1, 552.28: 4, 580.27: 2, 747.52: 3, 762.51: 7, 788.53: 5, 790.55: 5, 791.55: 2, 818.53: 3}\n",
            "{79.96: 1, 81.95: 9, 88.04: 2, 89.02: 1, 89.03: 4, 112.99: 1, 114.02: 1, 114.03: 7, 115.02: 1, 117.04: 5, 124.0: 1, 124.01: 2, 125.01: 3, 126.0: 1, 134.05: 3, 145.06: 1, 146.08: 8, 152.0: 4, 157.03: 7, 159.03: 4, 171.1: 9, 183.01: 2, 187.04: 1, 189.06: 1, 227.2: 9, 228.06: 1, 229.05: 5, 241.22: 9, 249.02: 6, 253.22: 4, 254.22: 1, 255.23: 2, 255.24: 9, 256.23: 1, 256.24: 4, 267.23: 6, 269.21: 3, 269.25: 1, 277.22: 3, 279.23: 6, 279.24: 8, 280.23: 1, 280.24: 6, 281.24: 9, 281.25: 9, 281.26: 8, 282.25: 2, 283.24: 1, 283.25: 7, 283.26: 5, 283.27: 1, 284.26: 5, 284.27: 1, 285.27: 2, 293.21: 1, 295.23: 1, 296.23: 1, 297.15: 9, 297.24: 7, 297.25: 7, 299.2: 1, 301.22: 7, 303.23: 9, 303.24: 8, 304.23: 3, 304.24: 1, 305.24: 2, 305.25: 1, 306.25: 3, 307.26: 4, 307.27: 1, 308.27: 4, 309.28: 1, 310.28: 1, 311.17: 9, 311.22: 2, 312.17: 5, 325.18: 7, 325.19: 1, 326.19: 5, 327.23: 1, 327.24: 2, 328.23: 3, 328.24: 1, 329.24: 3, 329.25: 2, 330.25: 1, 331.26: 3, 331.27: 1, 332.27: 1}\n",
            "--------score array: ------\n",
            "[[ 8 10  8  8 27 27 27 27]\n",
            " [ 6  7  7  7 22 21 17 17]\n",
            " [ 4  7  8  8 20 17 23 23]\n",
            " [ 4  6  7  8 18 14 21 25]\n",
            " [ 2  7  5  5 15 22 19 19]\n",
            " [ 3  7  7  7 18 20 18 18]\n",
            " [ 4  7  5  5 19 22 17 17]\n",
            " [ 5  5  5  5 21 21 14 16]\n",
            " [ 3  6  7  7 16 21 24 24]]\n",
            "********** 30  Channels **********************\n",
            "/content/drive/MyDrive/Katy/heartProject/WC/\n",
            "['W3_graphs.csv', 'C3_graphs.csv', 'W6_graphs.csv', 'C6_graphs.csv', 'W9_graphs.csv', 'C9_graphs.csv', 'W12_graphs.csv', 'C12_graphs.csv', 'W15_graphs.csv', 'C15_graphs.csv', 'W18_graphs.csv', 'C18_graphs.csv', 'W21_graphs.csv', 'C21_graphs.csv', 'W24_graphs.csv', 'C24_graphs.csv', 'W27_graphs.csv', 'C27_graphs.csv', 'W30_graphs.csv', 'C30_graphs.csv', 'W33_graphs.csv', 'C33_graphs.csv', 'W36_graphs.csv', 'C36_graphs.csv', 'W39_graphs.csv', 'C39_graphs.csv', 'W42_graphs.csv', 'C42_graphs.csv', 'W45_graphs.csv', 'C45_graphs.csv', 'W48_graphs.csv', 'C48_graphs.csv', 'W51_graphs.csv', 'C51_graphs.csv', 'W54_graphs.csv', 'C54_graphs.csv', 'W57_graphs.csv', 'C57_graphs.csv', 'W60_graphs.csv', 'C60_graphs.csv', 'W63_graphs.csv', 'C63_graphs.csv', 'W66_graphs.csv', 'C66_graphs.csv', 'W69_graphs.csv', 'C69_graphs.csv', 'W72_graphs.csv', 'C72_graphs.csv', 'W75_graphs.csv', 'C75_graphs.csv']\n",
            "match:  W30_graphs.csv\n",
            "match:  C30_graphs.csv\n",
            "0.9587242026266416\n",
            "LR_max_channel:\n",
            "[19]\n",
            "[22]\n",
            "(2132, 30)\n",
            "(2132, 30)\n",
            "cor_max_channel:\n",
            "27\n",
            "cor_max_channel_normalized:\n",
            "22\n",
            "22\n",
            "(30, 2321)\n",
            "[0.60529267 0.         0.         ... 0.         0.         0.        ]\n",
            "k: 30, th: -37,  best 10 score: [2, 4, 4, 4], best 30 score: [15, 14, 14, 14]\n",
            "{78.96: 1, 79.96: 9, 80.97: 1, 88.04: 2, 89.02: 1, 96.96: 2, 100.02: 7, 112.99: 1, 114.02: 1, 115.02: 2, 115.08: 4, 124.01: 1, 148.95: 6, 157.12: 2, 159.03: 1, 162.96: 1, 163.11: 8, 171.1: 1, 183.01: 1, 188.94: 3, 227.2: 1, 228.93: 2, 241.22: 1, 253.22: 1, 255.21: 1, 255.22: 1, 255.23: 2, 255.24: 1, 256.23: 1, 256.24: 2, 257.24: 1, 265.15: 2, 267.23: 3, 269.21: 1, 269.25: 1, 270.25: 1, 273.82: 2, 275.17: 1, 279.23: 2, 279.24: 4, 280.23: 1, 280.24: 1, 281.25: 3, 282.25: 2, 283.24: 8, 283.26: 1, 283.27: 4, 284.26: 4, 284.27: 2, 285.27: 1, 293.18: 4, 294.9: 1, 297.15: 6, 297.24: 2, 297.28: 6, 299.2: 7, 299.26: 6, 303.2: 9, 303.23: 1, 304.24: 8, 305.25: 3, 307.26: 1, 311.17: 7, 311.29: 3, 311.3: 1, 312.17: 7, 312.3: 1, 325.18: 3, 325.19: 4, 326.19: 1, 327.23: 1, 327.24: 4, 328.23: 1, 328.24: 1, 329.24: 1, 329.25: 1, 330.25: 7, 331.26: 1, 331.27: 4, 332.27: 3, 339.2: 1, 339.33: 8, 340.2: 2, 351.25: 8, 367.36: 2, 453.3: 1, 459.32: 7, 459.33: 1, 499.29: 4, 552.27: 1, 552.28: 1, 580.27: 4, 747.52: 3, 762.51: 1, 788.53: 6, 790.53: 1, 790.55: 4, 791.55: 2, 818.53: 3}\n",
            "{78.96: 1, 79.96: 10, 80.97: 2, 81.95: 1, 83.05: 4, 88.04: 1, 89.02: 2, 89.03: 7, 101.02: 1, 112.99: 5, 114.02: 1, 114.03: 2, 115.02: 1, 117.04: 3, 121.1: 1, 124.0: 3, 124.01: 1, 125.01: 1, 125.1: 9, 126.0: 4, 130.06: 8, 134.05: 4, 140.01: 10, 145.06: 2, 146.08: 1, 150.02: 1, 152.0: 10, 153.0: 1, 153.09: 6, 157.03: 10, 159.03: 7, 171.1: 5, 183.01: 1, 187.04: 2, 189.06: 10, 199.17: 1, 227.2: 4, 228.06: 1, 229.05: 6, 241.22: 3, 242.04: 1, 249.02: 3, 253.22: 7, 254.22: 8, 255.23: 1, 255.24: 7, 256.23: 9, 256.24: 1, 267.23: 10, 269.21: 9, 269.25: 3, 277.22: 1, 279.23: 8, 279.24: 6, 280.23: 2, 280.24: 6, 281.24: 1, 281.25: 1, 281.26: 2, 282.25: 1, 283.24: 1, 283.25: 1, 283.26: 10, 283.27: 1, 284.26: 7, 284.27: 8, 285.27: 1, 293.21: 8, 295.23: 9, 296.23: 9, 297.15: 3, 297.24: 1, 297.25: 2, 299.2: 1, 299.26: 3, 301.22: 4, 303.23: 1, 303.24: 4, 304.23: 1, 304.24: 1, 305.24: 10, 305.25: 2, 306.25: 6, 307.26: 1, 307.27: 8, 308.27: 1, 309.28: 1, 310.28: 6, 311.17: 1, 311.22: 2, 312.17: 3, 325.18: 1, 325.19: 3, 326.19: 2, 327.23: 1, 327.24: 1, 328.23: 3, 328.24: 1, 329.24: 1}\n",
            "--------score array: ------\n",
            "[[ 8 10  8  8 27 27 27 27]\n",
            " [ 6  7  7  7 22 21 17 17]\n",
            " [ 4  7  8  8 20 17 23 23]\n",
            " [ 4  6  7  8 18 14 21 25]\n",
            " [ 2  7  5  5 15 22 19 19]\n",
            " [ 3  7  7  7 18 20 18 18]\n",
            " [ 4  7  5  5 19 22 17 17]\n",
            " [ 5  5  5  5 21 21 14 16]\n",
            " [ 3  6  7  7 16 21 24 24]\n",
            " [ 2  4  4  4 15 14 14 14]]\n",
            "********** 33  Channels **********************\n",
            "/content/drive/MyDrive/Katy/heartProject/WC/\n",
            "['W3_graphs.csv', 'C3_graphs.csv', 'W6_graphs.csv', 'C6_graphs.csv', 'W9_graphs.csv', 'C9_graphs.csv', 'W12_graphs.csv', 'C12_graphs.csv', 'W15_graphs.csv', 'C15_graphs.csv', 'W18_graphs.csv', 'C18_graphs.csv', 'W21_graphs.csv', 'C21_graphs.csv', 'W24_graphs.csv', 'C24_graphs.csv', 'W27_graphs.csv', 'C27_graphs.csv', 'W30_graphs.csv', 'C30_graphs.csv', 'W33_graphs.csv', 'C33_graphs.csv', 'W36_graphs.csv', 'C36_graphs.csv', 'W39_graphs.csv', 'C39_graphs.csv', 'W42_graphs.csv', 'C42_graphs.csv', 'W45_graphs.csv', 'C45_graphs.csv', 'W48_graphs.csv', 'C48_graphs.csv', 'W51_graphs.csv', 'C51_graphs.csv', 'W54_graphs.csv', 'C54_graphs.csv', 'W57_graphs.csv', 'C57_graphs.csv', 'W60_graphs.csv', 'C60_graphs.csv', 'W63_graphs.csv', 'C63_graphs.csv', 'W66_graphs.csv', 'C66_graphs.csv', 'W69_graphs.csv', 'C69_graphs.csv', 'W72_graphs.csv', 'C72_graphs.csv', 'W75_graphs.csv', 'C75_graphs.csv']\n",
            "match:  W33_graphs.csv\n",
            "match:  C33_graphs.csv\n",
            "0.9596622889305816\n",
            "LR_max_channel:\n",
            "[20]\n",
            "[22]\n",
            "(2132, 33)\n",
            "(2132, 33)\n",
            "cor_max_channel:\n",
            "30\n",
            "cor_max_channel_normalized:\n",
            "30\n",
            "22\n",
            "(33, 2321)\n",
            "[2.15086205 0.         0.         ... 0.         0.         0.        ]\n",
            "k: 33, th: -37,  best 10 score: [4, 4, 8, 8], best 30 score: [19, 19, 23, 23]\n",
            "{78.96: 1, 79.96: 9, 80.97: 1, 88.04: 2, 89.02: 1, 96.96: 2, 100.02: 7, 112.99: 1, 114.02: 1, 115.02: 2, 115.08: 4, 124.01: 1, 148.95: 7, 157.12: 3, 159.03: 1, 162.96: 1, 163.11: 9, 171.1: 1, 183.01: 1, 188.94: 3, 227.2: 1, 228.93: 2, 241.22: 1, 253.22: 1, 255.21: 1, 255.22: 1, 255.23: 2, 255.24: 1, 256.23: 1, 256.24: 2, 257.24: 1, 265.15: 2, 267.23: 3, 269.21: 1, 269.25: 2, 270.25: 1, 273.82: 2, 275.17: 1, 279.23: 2, 279.24: 4, 280.23: 1, 280.24: 1, 281.24: 4, 281.25: 2, 282.25: 9, 283.24: 1, 283.26: 4, 283.27: 5, 284.26: 2, 284.27: 1, 285.27: 5, 293.18: 2, 294.9: 1, 297.15: 6, 297.24: 2, 297.28: 6, 299.2: 8, 299.26: 6, 303.2: 10, 303.23: 1, 304.24: 9, 305.25: 3, 307.26: 1, 311.17: 7, 311.29: 4, 311.3: 1, 312.17: 7, 312.3: 1, 325.18: 3, 325.19: 4, 326.19: 1, 327.23: 1, 327.24: 4, 328.23: 2, 328.24: 1, 329.24: 1, 329.25: 2, 330.25: 1, 331.26: 8, 331.27: 2, 332.27: 4, 339.2: 4, 339.33: 1, 340.2: 9, 351.25: 3, 367.36: 9, 453.3: 3, 459.32: 1, 459.33: 8, 499.29: 2, 552.27: 4, 552.28: 2, 580.27: 1, 746.51: 4, 747.52: 3, 762.51: 1, 788.53: 7, 790.53: 1, 790.55: 4, 791.55: 3, 818.53: 3, 885.55: 9, 885.56: 6}\n",
            "{78.96: 1, 79.96: 10, 80.97: 2, 81.95: 1, 83.05: 4, 88.04: 1, 89.02: 2, 89.03: 7, 101.02: 1, 112.99: 5, 114.02: 1, 114.03: 2, 115.02: 1, 117.04: 4, 121.1: 1, 124.0: 3, 124.01: 1, 125.01: 1, 125.1: 10, 126.0: 4, 130.06: 9, 134.05: 4, 140.01: 11, 145.06: 2, 146.08: 1, 150.02: 1, 152.0: 11, 153.0: 2, 153.09: 6, 157.03: 11, 159.03: 8, 171.1: 5, 183.01: 1, 187.04: 2, 189.06: 11, 199.17: 1, 227.2: 4, 228.06: 1, 229.05: 7, 241.22: 4, 242.04: 1, 249.02: 3, 253.22: 1, 254.22: 7, 255.23: 9, 255.24: 2, 256.23: 7, 256.24: 10, 267.23: 1, 269.21: 11, 269.25: 10, 277.22: 3, 278.22: 1, 279.23: 8, 279.24: 6, 280.23: 2, 280.24: 6, 281.24: 1, 281.25: 1, 281.26: 3, 282.25: 1, 283.24: 1, 283.25: 2, 283.26: 11, 283.27: 1, 284.26: 8, 284.27: 9, 285.27: 1, 293.21: 8, 295.23: 10, 296.23: 10, 297.15: 3, 297.24: 2, 297.25: 2, 299.2: 1, 299.26: 3, 301.22: 4, 302.22: 1, 303.23: 4, 303.24: 2, 304.23: 2, 304.24: 11, 305.24: 2, 305.25: 6, 306.25: 1, 307.26: 9, 307.27: 1, 308.27: 1, 309.28: 6, 310.28: 1, 311.17: 2, 311.22: 3, 312.17: 1, 325.18: 1, 325.19: 4, 326.19: 3, 327.23: 2, 327.24: 1, 328.23: 4, 328.24: 2, 329.24: 1, 329.25: 1, 330.25: 1}\n",
            "--------score array: ------\n",
            "[[ 8 10  8  8 27 27 27 27]\n",
            " [ 6  7  7  7 22 21 17 17]\n",
            " [ 4  7  8  8 20 17 23 23]\n",
            " [ 4  6  7  8 18 14 21 25]\n",
            " [ 2  7  5  5 15 22 19 19]\n",
            " [ 3  7  7  7 18 20 18 18]\n",
            " [ 4  7  5  5 19 22 17 17]\n",
            " [ 5  5  5  5 21 21 14 16]\n",
            " [ 3  6  7  7 16 21 24 24]\n",
            " [ 2  4  4  4 15 14 14 14]\n",
            " [ 4  4  8  8 19 19 23 23]]\n",
            "********** 36  Channels **********************\n",
            "/content/drive/MyDrive/Katy/heartProject/WC/\n",
            "['W3_graphs.csv', 'C3_graphs.csv', 'W6_graphs.csv', 'C6_graphs.csv', 'W9_graphs.csv', 'C9_graphs.csv', 'W12_graphs.csv', 'C12_graphs.csv', 'W15_graphs.csv', 'C15_graphs.csv', 'W18_graphs.csv', 'C18_graphs.csv', 'W21_graphs.csv', 'C21_graphs.csv', 'W24_graphs.csv', 'C24_graphs.csv', 'W27_graphs.csv', 'C27_graphs.csv', 'W30_graphs.csv', 'C30_graphs.csv', 'W33_graphs.csv', 'C33_graphs.csv', 'W36_graphs.csv', 'C36_graphs.csv', 'W39_graphs.csv', 'C39_graphs.csv', 'W42_graphs.csv', 'C42_graphs.csv', 'W45_graphs.csv', 'C45_graphs.csv', 'W48_graphs.csv', 'C48_graphs.csv', 'W51_graphs.csv', 'C51_graphs.csv', 'W54_graphs.csv', 'C54_graphs.csv', 'W57_graphs.csv', 'C57_graphs.csv', 'W60_graphs.csv', 'C60_graphs.csv', 'W63_graphs.csv', 'C63_graphs.csv', 'W66_graphs.csv', 'C66_graphs.csv', 'W69_graphs.csv', 'C69_graphs.csv', 'W72_graphs.csv', 'C72_graphs.csv', 'W75_graphs.csv', 'C75_graphs.csv']\n",
            "match:  W36_graphs.csv\n",
            "match:  C36_graphs.csv\n",
            "0.9676360225140713\n",
            "LR_max_channel:\n",
            "[16]\n",
            "[18]\n",
            "(2132, 36)\n",
            "(2132, 36)\n",
            "cor_max_channel:\n",
            "3\n",
            "cor_max_channel_normalized:\n",
            "30\n",
            "22\n",
            "(36, 2321)\n",
            "[0.         0.         0.         ... 0.         0.         5.12500702]\n",
            "k: 36, th: -37,  best 10 score: [6, 2, 7, 4], best 30 score: [22, 18, 19, 15]\n",
            "{78.96: 1, 79.96: 10, 80.97: 1, 88.04: 2, 89.02: 1, 96.96: 2, 100.02: 7, 112.99: 1, 114.02: 1, 115.02: 2, 115.08: 4, 124.01: 1, 148.95: 7, 157.12: 3, 159.03: 1, 162.96: 1, 163.11: 9, 171.1: 1, 183.01: 1, 188.94: 3, 227.2: 1, 228.93: 3, 241.22: 1, 253.22: 1, 255.21: 1, 255.22: 1, 255.23: 1, 255.24: 2, 256.23: 1, 256.24: 1, 257.24: 2, 265.15: 1, 267.23: 2, 269.21: 1, 269.25: 3, 270.25: 1, 273.82: 2, 275.17: 1, 279.23: 2, 279.24: 1, 280.23: 2, 280.24: 4, 281.24: 1, 281.25: 1, 282.25: 4, 283.24: 2, 283.26: 10, 283.27: 1, 284.26: 4, 284.27: 5, 285.27: 3, 293.18: 1, 294.9: 6, 297.15: 2, 297.24: 1, 297.28: 6, 299.2: 2, 299.26: 6, 303.2: 9, 303.23: 6, 304.24: 11, 305.25: 1, 306.25: 9, 307.26: 4, 307.27: 1, 311.17: 8, 311.29: 4, 311.3: 1, 312.17: 8, 312.3: 1, 325.18: 3, 325.19: 4, 326.19: 1, 327.23: 1, 327.24: 1, 328.23: 4, 328.24: 2, 329.24: 1, 329.25: 1, 330.25: 1, 331.26: 2, 331.27: 1, 332.27: 8, 339.2: 2, 339.33: 4, 340.2: 4, 351.25: 1, 367.36: 10, 453.3: 4, 459.32: 10, 459.33: 3, 499.29: 2, 552.27: 9, 552.28: 3, 580.27: 4, 746.51: 2, 747.52: 1, 762.51: 4, 788.53: 3, 790.53: 1, 790.55: 8, 791.55: 1, 818.53: 5, 885.55: 4, 885.56: 4}\n",
            "{78.96: 1, 79.96: 11, 80.97: 2, 81.95: 1, 83.05: 4, 88.04: 1, 89.02: 2, 89.03: 7, 101.02: 1, 112.99: 6, 114.02: 1, 114.03: 3, 115.02: 1, 117.04: 4, 121.1: 2, 124.0: 3, 124.01: 1, 125.01: 1, 125.1: 10, 126.0: 4, 130.06: 9, 134.05: 4, 135.12: 12, 140.01: 2, 145.06: 1, 146.08: 1, 150.02: 12, 152.0: 2, 153.0: 6, 153.09: 11, 157.03: 8, 159.03: 5, 171.1: 1, 175.15: 2, 183.01: 12, 187.04: 1, 189.06: 4, 199.17: 1, 227.2: 8, 228.06: 4, 229.05: 1, 241.22: 4, 242.04: 1, 249.02: 8, 253.22: 10, 254.22: 3, 255.23: 8, 255.24: 10, 256.23: 1, 256.24: 12, 267.23: 10, 269.21: 3, 269.25: 1, 277.22: 8, 278.22: 6, 279.23: 2, 279.24: 6, 280.23: 1, 280.24: 1, 281.24: 4, 281.25: 2, 281.26: 2, 282.25: 1, 283.24: 3, 283.25: 1, 283.26: 12, 283.27: 1, 284.26: 8, 284.27: 9, 285.27: 1, 293.21: 8, 295.23: 11, 295.26: 10, 296.23: 4, 297.15: 3, 297.24: 2, 297.25: 2, 297.28: 4, 299.2: 5, 299.26: 2, 301.22: 5, 302.22: 3, 303.23: 3, 303.24: 12, 304.23: 2, 304.24: 6, 305.24: 1, 305.25: 9, 306.25: 2, 307.26: 1, 307.27: 6, 308.27: 2, 309.28: 3, 310.28: 4, 311.17: 2, 311.22: 1, 312.17: 4, 325.18: 3, 325.19: 2, 326.19: 1, 327.23: 4, 327.24: 2, 328.23: 1, 328.24: 1, 329.24: 1}\n",
            "--------score array: ------\n",
            "[[ 8 10  8  8 27 27 27 27]\n",
            " [ 6  7  7  7 22 21 17 17]\n",
            " [ 4  7  8  8 20 17 23 23]\n",
            " [ 4  6  7  8 18 14 21 25]\n",
            " [ 2  7  5  5 15 22 19 19]\n",
            " [ 3  7  7  7 18 20 18 18]\n",
            " [ 4  7  5  5 19 22 17 17]\n",
            " [ 5  5  5  5 21 21 14 16]\n",
            " [ 3  6  7  7 16 21 24 24]\n",
            " [ 2  4  4  4 15 14 14 14]\n",
            " [ 4  4  8  8 19 19 23 23]\n",
            " [ 6  2  7  4 22 18 19 15]]\n",
            "********** 39  Channels **********************\n",
            "/content/drive/MyDrive/Katy/heartProject/WC/\n",
            "['W3_graphs.csv', 'C3_graphs.csv', 'W6_graphs.csv', 'C6_graphs.csv', 'W9_graphs.csv', 'C9_graphs.csv', 'W12_graphs.csv', 'C12_graphs.csv', 'W15_graphs.csv', 'C15_graphs.csv', 'W18_graphs.csv', 'C18_graphs.csv', 'W21_graphs.csv', 'C21_graphs.csv', 'W24_graphs.csv', 'C24_graphs.csv', 'W27_graphs.csv', 'C27_graphs.csv', 'W30_graphs.csv', 'C30_graphs.csv', 'W33_graphs.csv', 'C33_graphs.csv', 'W36_graphs.csv', 'C36_graphs.csv', 'W39_graphs.csv', 'C39_graphs.csv', 'W42_graphs.csv', 'C42_graphs.csv', 'W45_graphs.csv', 'C45_graphs.csv', 'W48_graphs.csv', 'C48_graphs.csv', 'W51_graphs.csv', 'C51_graphs.csv', 'W54_graphs.csv', 'C54_graphs.csv', 'W57_graphs.csv', 'C57_graphs.csv', 'W60_graphs.csv', 'C60_graphs.csv', 'W63_graphs.csv', 'C63_graphs.csv', 'W66_graphs.csv', 'C66_graphs.csv', 'W69_graphs.csv', 'C69_graphs.csv', 'W72_graphs.csv', 'C72_graphs.csv', 'W75_graphs.csv', 'C75_graphs.csv']\n",
            "match:  W39_graphs.csv\n",
            "match:  C39_graphs.csv\n",
            "0.9676360225140713\n",
            "LR_max_channel:\n",
            "[22]\n",
            "[20]\n",
            "(2132, 39)\n",
            "(2132, 39)\n",
            "cor_max_channel:\n",
            "34\n",
            "cor_max_channel_normalized:\n",
            "34\n",
            "20\n",
            "(39, 2321)\n",
            "[0. 0. 0. ... 0. 0. 0.]\n",
            "k: 39, th: -37,  best 10 score: [4, 4, 5, 9], best 30 score: [18, 18, 22, 19]\n",
            "{78.96: 1, 79.96: 11, 80.97: 1, 88.04: 2, 89.02: 1, 96.96: 2, 100.02: 8, 112.99: 2, 114.02: 1, 115.02: 3, 115.08: 4, 124.01: 1, 148.95: 7, 157.12: 4, 159.03: 1, 162.96: 1, 163.11: 10, 171.1: 1, 183.01: 1, 188.94: 4, 227.2: 1, 228.93: 4, 241.22: 1, 253.22: 1, 255.21: 1, 255.22: 2, 255.23: 1, 255.24: 2, 256.23: 1, 256.24: 1, 257.24: 3, 265.15: 1, 267.23: 2, 269.21: 1, 269.25: 3, 270.25: 1, 273.82: 3, 275.17: 1, 279.23: 2, 279.24: 2, 280.23: 3, 280.24: 4, 281.24: 1, 281.25: 1, 282.25: 4, 283.24: 2, 283.26: 11, 283.27: 2, 284.26: 4, 284.27: 5, 285.27: 3, 293.18: 1, 294.9: 6, 297.15: 2, 297.24: 1, 297.28: 7, 299.2: 2, 299.26: 7, 303.2: 10, 303.23: 6, 304.24: 12, 305.25: 1, 306.25: 10, 307.26: 4, 307.27: 1, 311.17: 9, 311.29: 4, 311.3: 1, 312.17: 8, 312.3: 1, 325.18: 3, 325.19: 5, 326.19: 1, 327.23: 1, 327.24: 1, 328.23: 4, 328.24: 2, 329.24: 1, 329.25: 1, 330.25: 1, 331.26: 2, 331.27: 1, 332.27: 9, 339.2: 2, 339.33: 4, 340.2: 4, 351.25: 1, 367.36: 11, 453.3: 4, 459.32: 11, 459.33: 3, 499.29: 2, 552.27: 10, 552.28: 3, 553.28: 4, 580.27: 3, 746.51: 1, 747.52: 4, 762.51: 3, 788.53: 1, 790.53: 9, 790.55: 1, 791.55: 5, 818.53: 5, 818.54: 4, 885.55: 11, 885.56: 8}\n",
            "{78.96: 1, 79.96: 11, 80.97: 2, 81.95: 1, 83.05: 4, 88.04: 1, 89.02: 2, 89.03: 7, 101.02: 1, 112.99: 7, 114.02: 1, 114.03: 4, 115.02: 1, 117.04: 4, 121.1: 2, 124.0: 3, 124.01: 1, 125.01: 1, 125.1: 11, 126.0: 4, 130.06: 9, 134.05: 4, 135.12: 13, 140.01: 2, 145.06: 1, 146.08: 1, 150.02: 13, 152.0: 2, 153.0: 6, 153.09: 12, 157.03: 8, 159.03: 5, 171.1: 1, 175.15: 2, 183.01: 13, 187.04: 1, 189.06: 4, 199.17: 1, 227.2: 8, 228.06: 4, 229.05: 1, 241.22: 4, 242.04: 1, 249.02: 8, 253.22: 11, 254.22: 4, 255.23: 9, 255.24: 11, 256.23: 1, 256.24: 13, 267.23: 10, 269.21: 3, 269.25: 1, 277.22: 9, 278.22: 6, 279.23: 2, 279.24: 6, 280.23: 1, 280.24: 1, 281.24: 5, 281.25: 3, 281.26: 2, 282.25: 1, 283.24: 3, 283.25: 1, 283.26: 13, 283.27: 1, 284.26: 8, 284.27: 10, 285.27: 1, 293.21: 9, 295.23: 12, 295.26: 11, 296.23: 5, 297.15: 4, 297.24: 2, 297.25: 3, 297.28: 5, 299.2: 6, 299.26: 3, 301.22: 5, 302.22: 3, 303.23: 3, 303.24: 13, 304.23: 2, 304.24: 6, 305.24: 1, 305.25: 9, 306.25: 2, 307.26: 1, 307.27: 6, 308.27: 2, 309.28: 4, 310.28: 5, 311.17: 1, 311.22: 3, 312.17: 1, 325.18: 5, 325.19: 4, 326.19: 2, 327.23: 1, 327.24: 4, 328.23: 2, 328.24: 2, 329.24: 1, 329.25: 2, 330.25: 2}\n",
            "--------score array: ------\n",
            "[[ 8 10  8  8 27 27 27 27]\n",
            " [ 6  7  7  7 22 21 17 17]\n",
            " [ 4  7  8  8 20 17 23 23]\n",
            " [ 4  6  7  8 18 14 21 25]\n",
            " [ 2  7  5  5 15 22 19 19]\n",
            " [ 3  7  7  7 18 20 18 18]\n",
            " [ 4  7  5  5 19 22 17 17]\n",
            " [ 5  5  5  5 21 21 14 16]\n",
            " [ 3  6  7  7 16 21 24 24]\n",
            " [ 2  4  4  4 15 14 14 14]\n",
            " [ 4  4  8  8 19 19 23 23]\n",
            " [ 6  2  7  4 22 18 19 15]\n",
            " [ 4  4  5  9 18 18 22 19]]\n",
            "********** 42  Channels **********************\n",
            "/content/drive/MyDrive/Katy/heartProject/WC/\n",
            "['W3_graphs.csv', 'C3_graphs.csv', 'W6_graphs.csv', 'C6_graphs.csv', 'W9_graphs.csv', 'C9_graphs.csv', 'W12_graphs.csv', 'C12_graphs.csv', 'W15_graphs.csv', 'C15_graphs.csv', 'W18_graphs.csv', 'C18_graphs.csv', 'W21_graphs.csv', 'C21_graphs.csv', 'W24_graphs.csv', 'C24_graphs.csv', 'W27_graphs.csv', 'C27_graphs.csv', 'W30_graphs.csv', 'C30_graphs.csv', 'W33_graphs.csv', 'C33_graphs.csv', 'W36_graphs.csv', 'C36_graphs.csv', 'W39_graphs.csv', 'C39_graphs.csv', 'W42_graphs.csv', 'C42_graphs.csv', 'W45_graphs.csv', 'C45_graphs.csv', 'W48_graphs.csv', 'C48_graphs.csv', 'W51_graphs.csv', 'C51_graphs.csv', 'W54_graphs.csv', 'C54_graphs.csv', 'W57_graphs.csv', 'C57_graphs.csv', 'W60_graphs.csv', 'C60_graphs.csv', 'W63_graphs.csv', 'C63_graphs.csv', 'W66_graphs.csv', 'C66_graphs.csv', 'W69_graphs.csv', 'C69_graphs.csv', 'W72_graphs.csv', 'C72_graphs.csv', 'W75_graphs.csv', 'C75_graphs.csv']\n",
            "match:  W42_graphs.csv\n",
            "match:  C42_graphs.csv\n",
            "0.9709193245778611\n",
            "LR_max_channel:\n",
            "[22]\n",
            "[20]\n",
            "(2132, 42)\n",
            "(2132, 42)\n",
            "cor_max_channel:\n",
            "37\n",
            "cor_max_channel_normalized:\n",
            "30\n",
            "20\n",
            "(42, 2321)\n",
            "[0. 0. 0. ... 0. 0. 0.]\n",
            "k: 42, th: -37,  best 10 score: [4, 2, 5, 5], best 30 score: [20, 14, 21, 21]\n",
            "{78.96: 1, 79.96: 12, 80.97: 1, 88.04: 2, 89.02: 1, 96.96: 2, 100.02: 8, 112.99: 2, 114.02: 1, 115.02: 3, 115.08: 4, 124.01: 1, 148.95: 8, 157.12: 5, 159.03: 1, 162.96: 1, 163.11: 10, 171.1: 1, 183.01: 1, 188.94: 4, 196.97: 1, 227.2: 4, 228.93: 1, 241.22: 1, 253.22: 1, 255.21: 2, 255.22: 1, 255.23: 2, 255.24: 1, 256.23: 1, 256.24: 3, 257.24: 1, 265.15: 2, 267.23: 1, 269.21: 3, 269.25: 1, 270.25: 3, 273.82: 1, 275.17: 3, 279.23: 2, 279.24: 3, 280.23: 5, 280.24: 1, 281.24: 1, 281.25: 5, 282.25: 2, 283.24: 12, 283.26: 2, 283.27: 4, 284.26: 5, 284.27: 3, 285.27: 1, 293.18: 7, 294.9: 3, 297.15: 1, 297.24: 7, 297.28: 2, 299.2: 8, 299.26: 11, 303.2: 6, 303.23: 12, 304.24: 1, 305.25: 10, 306.25: 4, 307.26: 1, 307.27: 9, 311.17: 4, 311.29: 1, 311.3: 8, 312.17: 1, 312.3: 3, 325.18: 5, 325.19: 1, 326.19: 1, 327.23: 1, 327.24: 4, 328.23: 3, 328.24: 1, 329.24: 1, 329.25: 1, 330.25: 3, 331.26: 1, 331.27: 10, 332.27: 3, 339.2: 4, 339.33: 5, 340.2: 1, 351.25: 12, 367.36: 5, 453.3: 12, 459.32: 3, 459.33: 3, 499.29: 11, 552.27: 3, 552.28: 5, 553.28: 4, 580.27: 1, 746.51: 4, 747.52: 3, 762.51: 1, 788.53: 9, 790.53: 1, 790.55: 5, 791.55: 6, 818.53: 4, 818.54: 12, 885.55: 9, 885.56: 7}\n",
            "{78.96: 1, 79.96: 12, 80.97: 2, 81.95: 1, 83.05: 4, 88.04: 1, 89.02: 2, 89.03: 7, 101.02: 1, 112.99: 8, 114.02: 1, 114.03: 5, 115.02: 1, 117.04: 4, 121.1: 2, 124.0: 3, 124.01: 1, 125.01: 1, 125.1: 12, 126.0: 4, 130.06: 1, 134.05: 9, 135.12: 4, 140.01: 14, 145.06: 2, 146.08: 1, 150.02: 1, 152.0: 14, 153.0: 2, 153.09: 6, 157.03: 13, 159.03: 8, 171.1: 5, 175.15: 1, 183.01: 2, 187.04: 14, 189.06: 1, 199.17: 4, 227.2: 1, 228.06: 8, 229.05: 5, 241.22: 2, 242.04: 5, 249.02: 1, 253.22: 8, 254.22: 11, 255.23: 5, 255.24: 9, 256.23: 12, 256.24: 1, 267.23: 14, 269.21: 10, 269.25: 3, 277.22: 1, 278.22: 10, 279.23: 6, 279.24: 2, 280.23: 6, 280.24: 1, 281.24: 1, 281.25: 6, 281.26: 3, 282.25: 2, 283.24: 1, 283.25: 3, 283.26: 1, 283.27: 14, 284.26: 1, 284.27: 8, 285.27: 11, 293.21: 1, 295.23: 10, 295.26: 13, 296.23: 12, 297.15: 6, 297.24: 5, 297.25: 2, 297.28: 4, 299.2: 6, 299.26: 7, 301.22: 4, 302.22: 5, 303.23: 4, 303.24: 3, 304.23: 14, 304.24: 2, 305.24: 6, 305.25: 1, 306.25: 9, 307.26: 2, 307.27: 1, 308.27: 6, 309.28: 2, 310.28: 5, 311.17: 6, 311.22: 1, 312.17: 4, 325.18: 1, 325.19: 6, 326.19: 5, 327.23: 2, 327.24: 2, 328.23: 4, 328.24: 2, 329.24: 3, 329.25: 1, 330.25: 2, 331.26: 2}\n",
            "--------score array: ------\n",
            "[[ 8 10  8  8 27 27 27 27]\n",
            " [ 6  7  7  7 22 21 17 17]\n",
            " [ 4  7  8  8 20 17 23 23]\n",
            " [ 4  6  7  8 18 14 21 25]\n",
            " [ 2  7  5  5 15 22 19 19]\n",
            " [ 3  7  7  7 18 20 18 18]\n",
            " [ 4  7  5  5 19 22 17 17]\n",
            " [ 5  5  5  5 21 21 14 16]\n",
            " [ 3  6  7  7 16 21 24 24]\n",
            " [ 2  4  4  4 15 14 14 14]\n",
            " [ 4  4  8  8 19 19 23 23]\n",
            " [ 6  2  7  4 22 18 19 15]\n",
            " [ 4  4  5  9 18 18 22 19]\n",
            " [ 4  2  5  5 20 14 21 21]]\n",
            "********** 45  Channels **********************\n",
            "/content/drive/MyDrive/Katy/heartProject/WC/\n",
            "['W3_graphs.csv', 'C3_graphs.csv', 'W6_graphs.csv', 'C6_graphs.csv', 'W9_graphs.csv', 'C9_graphs.csv', 'W12_graphs.csv', 'C12_graphs.csv', 'W15_graphs.csv', 'C15_graphs.csv', 'W18_graphs.csv', 'C18_graphs.csv', 'W21_graphs.csv', 'C21_graphs.csv', 'W24_graphs.csv', 'C24_graphs.csv', 'W27_graphs.csv', 'C27_graphs.csv', 'W30_graphs.csv', 'C30_graphs.csv', 'W33_graphs.csv', 'C33_graphs.csv', 'W36_graphs.csv', 'C36_graphs.csv', 'W39_graphs.csv', 'C39_graphs.csv', 'W42_graphs.csv', 'C42_graphs.csv', 'W45_graphs.csv', 'C45_graphs.csv', 'W48_graphs.csv', 'C48_graphs.csv', 'W51_graphs.csv', 'C51_graphs.csv', 'W54_graphs.csv', 'C54_graphs.csv', 'W57_graphs.csv', 'C57_graphs.csv', 'W60_graphs.csv', 'C60_graphs.csv', 'W63_graphs.csv', 'C63_graphs.csv', 'W66_graphs.csv', 'C66_graphs.csv', 'W69_graphs.csv', 'C69_graphs.csv', 'W72_graphs.csv', 'C72_graphs.csv', 'W75_graphs.csv', 'C75_graphs.csv']\n",
            "match:  W45_graphs.csv\n",
            "match:  C45_graphs.csv\n",
            "0.9727954971857411\n",
            "LR_max_channel:\n",
            "[22]\n",
            "[20]\n",
            "(2132, 45)\n",
            "(2132, 45)\n",
            "cor_max_channel:\n",
            "37\n",
            "cor_max_channel_normalized:\n",
            "37\n",
            "22\n",
            "(45, 2321)\n",
            "[ 0.          0.          0.         ...  0.          0.\n",
            " 14.45587829]\n",
            "k: 45, th: -37,  best 10 score: [6, 6, 7, 7], best 30 score: [21, 21, 18, 18]\n",
            "{78.96: 1, 79.96: 13, 80.97: 1, 88.04: 2, 89.02: 1, 96.96: 2, 100.02: 8, 112.99: 3, 114.02: 1, 115.02: 4, 115.08: 4, 124.01: 1, 148.95: 9, 157.12: 6, 159.03: 1, 162.96: 1, 163.11: 10, 171.1: 1, 183.01: 1, 188.94: 4, 196.97: 1, 227.2: 5, 228.93: 1, 241.22: 1, 253.22: 1, 255.21: 3, 255.22: 1, 255.23: 2, 255.24: 1, 256.23: 1, 256.24: 4, 257.24: 1, 265.15: 2, 267.23: 1, 269.21: 3, 269.25: 1, 270.25: 4, 273.82: 1, 275.17: 3, 279.23: 3, 279.24: 4, 280.23: 5, 280.24: 1, 281.24: 1, 281.25: 5, 282.25: 2, 283.24: 12, 283.26: 3, 283.27: 4, 284.26: 6, 284.27: 3, 285.27: 1, 293.18: 7, 294.9: 3, 297.15: 1, 297.24: 1, 297.28: 8, 299.2: 2, 299.26: 9, 303.2: 12, 303.23: 7, 304.24: 12, 305.25: 1, 306.25: 11, 307.26: 4, 307.27: 1, 309.28: 10, 311.17: 4, 311.29: 1, 311.3: 8, 312.17: 1, 312.3: 4, 325.18: 6, 325.19: 1, 326.19: 1, 327.23: 1, 327.24: 4, 328.23: 3, 328.24: 1, 329.24: 1, 329.25: 1, 330.25: 3, 331.26: 1, 331.27: 11, 332.27: 3, 339.2: 4, 339.33: 5, 340.2: 1, 351.25: 13, 367.36: 6, 453.3: 13, 459.32: 3, 459.33: 3, 499.29: 11, 552.27: 3, 552.28: 5, 553.28: 5, 580.27: 1, 746.51: 4, 747.52: 3, 762.51: 1, 788.53: 10, 790.53: 1, 790.55: 5, 791.55: 7, 818.53: 4, 818.54: 13, 885.55: 10, 885.56: 8}\n",
            "{78.96: 1, 79.96: 13, 80.97: 2, 81.95: 1, 83.05: 4, 88.04: 1, 89.02: 2, 89.03: 7, 101.02: 1, 112.99: 9, 114.02: 1, 114.03: 6, 115.02: 1, 117.04: 4, 121.1: 2, 124.0: 3, 124.01: 1, 125.01: 1, 125.1: 13, 126.0: 4, 130.06: 1, 134.05: 9, 135.12: 4, 140.01: 15, 145.06: 2, 146.08: 1, 150.02: 1, 152.0: 15, 153.0: 2, 153.09: 6, 157.03: 13, 159.03: 8, 171.1: 5, 175.15: 1, 183.01: 2, 187.04: 15, 189.06: 1, 199.17: 4, 227.2: 1, 228.06: 8, 229.05: 6, 241.22: 2, 242.04: 6, 249.02: 2, 253.22: 8, 254.22: 11, 255.23: 6, 255.24: 10, 256.23: 13, 256.24: 1, 267.23: 15, 269.21: 10, 269.25: 3, 277.22: 1, 278.22: 11, 279.21: 6, 279.23: 2, 279.24: 6, 280.23: 1, 280.24: 1, 281.24: 7, 281.25: 4, 281.26: 2, 282.25: 1, 283.24: 3, 283.25: 1, 283.26: 1, 283.27: 15, 284.26: 1, 284.27: 8, 285.27: 12, 293.21: 1, 295.23: 11, 295.26: 14, 296.23: 13, 297.15: 7, 297.24: 6, 297.25: 2, 297.28: 5, 299.2: 7, 299.26: 8, 301.22: 5, 302.22: 5, 303.23: 4, 303.24: 3, 304.23: 15, 304.24: 2, 305.24: 6, 305.25: 1, 306.25: 9, 307.26: 2, 307.27: 1, 308.27: 6, 309.28: 2, 310.28: 6, 311.17: 7, 311.22: 1, 312.17: 5, 325.18: 1, 325.19: 7, 326.19: 6, 327.23: 2, 327.24: 3, 328.23: 4, 328.24: 2, 329.24: 4, 329.25: 1, 330.25: 2, 331.26: 2}\n",
            "--------score array: ------\n",
            "[[ 8 10  8  8 27 27 27 27]\n",
            " [ 6  7  7  7 22 21 17 17]\n",
            " [ 4  7  8  8 20 17 23 23]\n",
            " [ 4  6  7  8 18 14 21 25]\n",
            " [ 2  7  5  5 15 22 19 19]\n",
            " [ 3  7  7  7 18 20 18 18]\n",
            " [ 4  7  5  5 19 22 17 17]\n",
            " [ 5  5  5  5 21 21 14 16]\n",
            " [ 3  6  7  7 16 21 24 24]\n",
            " [ 2  4  4  4 15 14 14 14]\n",
            " [ 4  4  8  8 19 19 23 23]\n",
            " [ 6  2  7  4 22 18 19 15]\n",
            " [ 4  4  5  9 18 18 22 19]\n",
            " [ 4  2  5  5 20 14 21 21]\n",
            " [ 6  6  7  7 21 21 18 18]]\n",
            "********** 48  Channels **********************\n",
            "/content/drive/MyDrive/Katy/heartProject/WC/\n",
            "['W3_graphs.csv', 'C3_graphs.csv', 'W6_graphs.csv', 'C6_graphs.csv', 'W9_graphs.csv', 'C9_graphs.csv', 'W12_graphs.csv', 'C12_graphs.csv', 'W15_graphs.csv', 'C15_graphs.csv', 'W18_graphs.csv', 'C18_graphs.csv', 'W21_graphs.csv', 'C21_graphs.csv', 'W24_graphs.csv', 'C24_graphs.csv', 'W27_graphs.csv', 'C27_graphs.csv', 'W30_graphs.csv', 'C30_graphs.csv', 'W33_graphs.csv', 'C33_graphs.csv', 'W36_graphs.csv', 'C36_graphs.csv', 'W39_graphs.csv', 'C39_graphs.csv', 'W42_graphs.csv', 'C42_graphs.csv', 'W45_graphs.csv', 'C45_graphs.csv', 'W48_graphs.csv', 'C48_graphs.csv', 'W51_graphs.csv', 'C51_graphs.csv', 'W54_graphs.csv', 'C54_graphs.csv', 'W57_graphs.csv', 'C57_graphs.csv', 'W60_graphs.csv', 'C60_graphs.csv', 'W63_graphs.csv', 'C63_graphs.csv', 'W66_graphs.csv', 'C66_graphs.csv', 'W69_graphs.csv', 'C69_graphs.csv', 'W72_graphs.csv', 'C72_graphs.csv', 'W75_graphs.csv', 'C75_graphs.csv']\n",
            "match:  W48_graphs.csv\n",
            "match:  C48_graphs.csv\n",
            "0.9788930581613509\n",
            "LR_max_channel:\n",
            "[22]\n",
            "[36]\n",
            "(2132, 48)\n",
            "(2132, 48)\n",
            "cor_max_channel:\n",
            "37\n",
            "cor_max_channel_normalized:\n",
            "37\n",
            "22\n",
            "(48, 2321)\n",
            "[ 0.          0.          0.         ...  0.          0.\n",
            " 24.19937342]\n",
            "k: 48, th: -37,  best 10 score: [5, 5, 3, 4], best 30 score: [19, 19, 15, 17]\n",
            "{78.96: 1, 79.96: 13, 80.97: 1, 88.04: 2, 89.02: 1, 96.96: 2, 100.02: 8, 112.99: 3, 114.02: 1, 115.02: 4, 115.08: 4, 124.01: 2, 148.95: 10, 157.12: 6, 159.03: 1, 162.96: 1, 163.11: 11, 171.1: 1, 183.01: 1, 188.94: 4, 196.97: 1, 227.2: 5, 228.93: 1, 241.22: 1, 253.22: 1, 255.21: 3, 255.22: 1, 255.23: 2, 255.24: 1, 256.23: 1, 256.24: 4, 257.24: 1, 265.15: 2, 267.23: 1, 269.21: 3, 269.25: 1, 270.25: 4, 273.82: 1, 275.17: 3, 279.23: 3, 279.24: 4, 280.23: 6, 280.24: 1, 281.24: 1, 281.25: 6, 282.25: 2, 283.24: 12, 283.26: 3, 283.27: 4, 284.26: 6, 284.27: 3, 285.27: 1, 293.18: 8, 294.9: 1, 297.15: 4, 297.24: 2, 297.28: 1, 299.2: 9, 299.26: 2, 303.2: 9, 303.23: 12, 304.24: 7, 305.25: 12, 306.25: 1, 307.26: 11, 307.27: 4, 309.28: 1, 311.17: 10, 311.29: 4, 311.3: 1, 312.17: 8, 312.3: 1, 325.18: 4, 325.19: 7, 326.19: 1, 327.23: 1, 327.24: 1, 328.23: 4, 328.24: 4, 329.24: 1, 329.25: 1, 330.25: 1, 331.26: 3, 331.27: 1, 332.27: 11, 339.2: 4, 339.33: 4, 340.2: 5, 351.25: 1, 367.36: 14, 453.3: 7, 459.32: 14, 459.33: 3, 499.29: 4, 552.27: 11, 552.28: 3, 553.28: 6, 580.27: 5, 746.51: 1, 747.52: 5, 762.51: 3, 788.53: 1, 790.53: 10, 790.55: 1, 791.55: 5, 818.53: 7, 818.54: 4, 885.55: 14, 885.56: 11}\n",
            "{78.96: 1, 79.96: 14, 80.97: 2, 81.95: 1, 83.05: 4, 88.04: 1, 89.02: 2, 89.03: 7, 101.02: 1, 112.99: 10, 114.02: 1, 114.03: 7, 115.02: 1, 117.04: 4, 121.1: 2, 124.0: 3, 124.01: 1, 125.01: 1, 125.1: 14, 126.0: 4, 130.06: 1, 134.05: 9, 135.12: 4, 140.01: 16, 145.06: 2, 146.08: 1, 150.02: 1, 152.0: 15, 153.0: 2, 153.09: 6, 157.03: 13, 159.03: 8, 171.1: 5, 175.15: 1, 183.01: 2, 187.04: 16, 189.06: 1, 199.17: 4, 227.2: 1, 228.06: 9, 229.05: 7, 241.22: 3, 242.04: 7, 249.02: 3, 253.22: 9, 254.22: 11, 255.23: 7, 255.24: 10, 256.23: 14, 256.24: 1, 267.23: 16, 269.21: 10, 269.25: 3, 273.81: 1, 277.22: 12, 278.22: 6, 279.21: 2, 279.23: 6, 279.24: 1, 280.23: 1, 280.24: 8, 281.24: 4, 281.25: 2, 281.26: 1, 282.25: 3, 283.24: 1, 283.25: 1, 283.26: 16, 283.27: 1, 284.26: 8, 284.27: 13, 285.27: 1, 293.21: 12, 295.23: 15, 295.26: 14, 296.23: 8, 297.15: 7, 297.24: 2, 297.25: 6, 297.28: 8, 299.2: 9, 299.26: 6, 301.22: 5, 302.22: 5, 303.23: 3, 303.24: 16, 304.23: 2, 304.24: 6, 305.24: 1, 305.25: 9, 306.25: 2, 307.26: 1, 307.27: 6, 308.27: 2, 309.28: 7, 310.28: 8, 311.17: 1, 311.22: 6, 312.17: 1, 325.18: 8, 325.19: 7, 326.19: 2, 327.23: 4, 327.24: 4, 328.23: 2, 328.24: 5, 329.24: 1, 329.25: 2, 330.25: 2}\n",
            "--------score array: ------\n",
            "[[ 8 10  8  8 27 27 27 27]\n",
            " [ 6  7  7  7 22 21 17 17]\n",
            " [ 4  7  8  8 20 17 23 23]\n",
            " [ 4  6  7  8 18 14 21 25]\n",
            " [ 2  7  5  5 15 22 19 19]\n",
            " [ 3  7  7  7 18 20 18 18]\n",
            " [ 4  7  5  5 19 22 17 17]\n",
            " [ 5  5  5  5 21 21 14 16]\n",
            " [ 3  6  7  7 16 21 24 24]\n",
            " [ 2  4  4  4 15 14 14 14]\n",
            " [ 4  4  8  8 19 19 23 23]\n",
            " [ 6  2  7  4 22 18 19 15]\n",
            " [ 4  4  5  9 18 18 22 19]\n",
            " [ 4  2  5  5 20 14 21 21]\n",
            " [ 6  6  7  7 21 21 18 18]\n",
            " [ 5  5  3  4 19 19 15 17]]\n",
            "********** 51  Channels **********************\n",
            "/content/drive/MyDrive/Katy/heartProject/WC/\n",
            "['W3_graphs.csv', 'C3_graphs.csv', 'W6_graphs.csv', 'C6_graphs.csv', 'W9_graphs.csv', 'C9_graphs.csv', 'W12_graphs.csv', 'C12_graphs.csv', 'W15_graphs.csv', 'C15_graphs.csv', 'W18_graphs.csv', 'C18_graphs.csv', 'W21_graphs.csv', 'C21_graphs.csv', 'W24_graphs.csv', 'C24_graphs.csv', 'W27_graphs.csv', 'C27_graphs.csv', 'W30_graphs.csv', 'C30_graphs.csv', 'W33_graphs.csv', 'C33_graphs.csv', 'W36_graphs.csv', 'C36_graphs.csv', 'W39_graphs.csv', 'C39_graphs.csv', 'W42_graphs.csv', 'C42_graphs.csv', 'W45_graphs.csv', 'C45_graphs.csv', 'W48_graphs.csv', 'C48_graphs.csv', 'W51_graphs.csv', 'C51_graphs.csv', 'W54_graphs.csv', 'C54_graphs.csv', 'W57_graphs.csv', 'C57_graphs.csv', 'W60_graphs.csv', 'C60_graphs.csv', 'W63_graphs.csv', 'C63_graphs.csv', 'W66_graphs.csv', 'C66_graphs.csv', 'W69_graphs.csv', 'C69_graphs.csv', 'W72_graphs.csv', 'C72_graphs.csv', 'W75_graphs.csv', 'C75_graphs.csv']\n",
            "match:  W51_graphs.csv\n",
            "match:  C51_graphs.csv\n",
            "0.9770168855534709\n",
            "LR_max_channel:\n",
            "[22]\n",
            "[10]\n",
            "(2132, 51)\n",
            "(2132, 51)\n",
            "cor_max_channel:\n",
            "37\n",
            "cor_max_channel_normalized:\n",
            "30\n",
            "22\n",
            "(51, 2321)\n",
            "[ 0.          0.          0.         ...  0.          0.\n",
            " 14.75476317]\n",
            "k: 51, th: -37,  best 10 score: [2, 1, 6, 6], best 30 score: [16, 15, 16, 16]\n",
            "{78.96: 1, 79.96: 14, 80.97: 1, 88.04: 2, 89.02: 1, 96.96: 2, 100.02: 9, 112.99: 3, 114.02: 1, 115.02: 4, 115.08: 4, 124.01: 2, 148.95: 10, 157.12: 7, 159.03: 1, 162.96: 1, 163.11: 11, 171.1: 1, 171.14: 1, 183.01: 4, 184.02: 1, 188.94: 6, 196.97: 1, 199.17: 1, 223.03: 1, 227.2: 4, 228.93: 1, 241.22: 2, 253.22: 1, 255.21: 1, 255.22: 5, 255.23: 1, 255.24: 2, 256.23: 1, 256.24: 3, 257.24: 1, 265.15: 4, 267.23: 1, 269.21: 3, 269.25: 4, 270.25: 5, 273.82: 1, 275.17: 6, 279.23: 1, 279.24: 2, 280.23: 6, 280.24: 2, 281.24: 13, 281.25: 3, 282.25: 4, 283.24: 6, 283.26: 3, 283.27: 1, 284.26: 9, 284.27: 1, 285.27: 4, 293.18: 2, 294.9: 2, 297.15: 9, 297.24: 2, 297.28: 9, 299.2: 13, 299.26: 8, 303.2: 12, 303.23: 1, 304.24: 12, 305.25: 5, 306.25: 1, 307.26: 11, 307.27: 4, 309.28: 1, 311.17: 8, 311.29: 1, 311.3: 5, 312.17: 8, 312.3: 1, 325.18: 1, 325.19: 1, 326.19: 4, 327.18: 4, 327.23: 1, 327.24: 1, 328.23: 1, 328.24: 3, 329.24: 1, 329.25: 12, 330.25: 4, 331.26: 4, 331.27: 6, 332.27: 1, 339.2: 15, 339.33: 8, 340.2: 15, 351.25: 3, 367.36: 4, 453.3: 11, 459.32: 3, 459.33: 6, 499.29: 6, 552.27: 1, 552.28: 5, 553.28: 3, 580.27: 1, 746.51: 11, 747.52: 1, 762.51: 5, 774.54: 8, 788.53: 4, 790.53: 15, 790.55: 12, 791.55: 9, 818.53: 7, 818.54: 10, 885.55: 1, 885.56: 4}\n",
            "{78.96: 1, 79.96: 14, 80.97: 2, 81.95: 1, 83.05: 4, 88.04: 1, 89.02: 2, 89.03: 8, 101.02: 1, 112.99: 11, 114.02: 1, 114.03: 7, 115.02: 1, 117.04: 5, 121.1: 2, 124.0: 3, 124.01: 1, 125.01: 2, 125.1: 1, 126.0: 15, 130.06: 1, 134.05: 4, 135.12: 2, 140.01: 1, 145.06: 1, 146.08: 10, 150.02: 4, 152.0: 17, 153.0: 2, 153.09: 1, 157.03: 1, 159.03: 16, 171.1: 2, 175.15: 6, 183.01: 14, 187.04: 8, 189.06: 6, 199.17: 1, 227.2: 2, 228.06: 17, 229.05: 1, 229.06: 4, 241.22: 1, 242.04: 9, 249.02: 7, 253.22: 4, 254.22: 7, 255.23: 4, 255.24: 9, 256.23: 11, 256.24: 8, 267.23: 10, 269.21: 15, 269.25: 1, 273.81: 17, 277.22: 10, 278.22: 3, 279.21: 1, 279.23: 13, 279.24: 6, 280.23: 2, 280.24: 6, 281.24: 1, 281.25: 1, 281.26: 8, 282.25: 4, 283.24: 2, 283.25: 1, 283.26: 3, 283.27: 1, 284.26: 1, 284.27: 17, 285.27: 1, 293.21: 8, 295.23: 14, 295.26: 1, 296.23: 13, 297.15: 16, 297.24: 15, 297.25: 1, 297.28: 8, 299.2: 7, 299.26: 2, 301.22: 6, 302.22: 9, 303.23: 9, 303.24: 6, 304.23: 5, 304.24: 5, 305.24: 3, 305.25: 17, 306.25: 2, 307.26: 7, 307.27: 1, 308.27: 9, 309.28: 2, 310.28: 1, 311.17: 7, 311.22: 2, 312.17: 7, 325.18: 8, 325.19: 1, 326.19: 7, 327.23: 2, 327.24: 8, 328.23: 8, 328.24: 1, 329.24: 2, 329.25: 5, 330.25: 4, 331.26: 2, 331.27: 5, 332.27: 1, 333.28: 2, 337.31: 2}\n",
            "--------score array: ------\n",
            "[[ 8 10  8  8 27 27 27 27]\n",
            " [ 6  7  7  7 22 21 17 17]\n",
            " [ 4  7  8  8 20 17 23 23]\n",
            " [ 4  6  7  8 18 14 21 25]\n",
            " [ 2  7  5  5 15 22 19 19]\n",
            " [ 3  7  7  7 18 20 18 18]\n",
            " [ 4  7  5  5 19 22 17 17]\n",
            " [ 5  5  5  5 21 21 14 16]\n",
            " [ 3  6  7  7 16 21 24 24]\n",
            " [ 2  4  4  4 15 14 14 14]\n",
            " [ 4  4  8  8 19 19 23 23]\n",
            " [ 6  2  7  4 22 18 19 15]\n",
            " [ 4  4  5  9 18 18 22 19]\n",
            " [ 4  2  5  5 20 14 21 21]\n",
            " [ 6  6  7  7 21 21 18 18]\n",
            " [ 5  5  3  4 19 19 15 17]\n",
            " [ 2  1  6  6 16 15 16 16]]\n",
            "********** 54  Channels **********************\n",
            "/content/drive/MyDrive/Katy/heartProject/WC/\n",
            "['W3_graphs.csv', 'C3_graphs.csv', 'W6_graphs.csv', 'C6_graphs.csv', 'W9_graphs.csv', 'C9_graphs.csv', 'W12_graphs.csv', 'C12_graphs.csv', 'W15_graphs.csv', 'C15_graphs.csv', 'W18_graphs.csv', 'C18_graphs.csv', 'W21_graphs.csv', 'C21_graphs.csv', 'W24_graphs.csv', 'C24_graphs.csv', 'W27_graphs.csv', 'C27_graphs.csv', 'W30_graphs.csv', 'C30_graphs.csv', 'W33_graphs.csv', 'C33_graphs.csv', 'W36_graphs.csv', 'C36_graphs.csv', 'W39_graphs.csv', 'C39_graphs.csv', 'W42_graphs.csv', 'C42_graphs.csv', 'W45_graphs.csv', 'C45_graphs.csv', 'W48_graphs.csv', 'C48_graphs.csv', 'W51_graphs.csv', 'C51_graphs.csv', 'W54_graphs.csv', 'C54_graphs.csv', 'W57_graphs.csv', 'C57_graphs.csv', 'W60_graphs.csv', 'C60_graphs.csv', 'W63_graphs.csv', 'C63_graphs.csv', 'W66_graphs.csv', 'C66_graphs.csv', 'W69_graphs.csv', 'C69_graphs.csv', 'W72_graphs.csv', 'C72_graphs.csv', 'W75_graphs.csv', 'C75_graphs.csv']\n",
            "match:  W54_graphs.csv\n",
            "match:  C54_graphs.csv\n",
            "0.9788930581613509\n",
            "LR_max_channel:\n",
            "[22]\n",
            "[37]\n",
            "(2132, 54)\n",
            "(2132, 54)\n",
            "cor_max_channel:\n",
            "37\n",
            "cor_max_channel_normalized:\n",
            "37\n",
            "22\n",
            "(54, 2321)\n",
            "[ 0.          0.          0.         ...  0.          0.\n",
            " 23.80166494]\n",
            "k: 54, th: -37,  best 10 score: [5, 5, 4, 5], best 30 score: [18, 18, 16, 18]\n",
            "{78.96: 1, 79.96: 15, 80.97: 1, 88.04: 2, 89.02: 1, 96.96: 2, 100.02: 9, 112.99: 3, 114.02: 1, 115.02: 1, 115.08: 5, 124.01: 4, 148.95: 2, 157.12: 11, 159.03: 7, 162.96: 1, 163.11: 1, 171.1: 11, 171.14: 1, 183.01: 1, 184.02: 4, 188.94: 1, 196.96: 6, 196.97: 1, 199.17: 1, 223.03: 1, 227.2: 4, 228.93: 1, 241.22: 2, 253.22: 1, 255.21: 1, 255.22: 5, 255.23: 1, 255.24: 2, 256.23: 1, 256.24: 3, 257.24: 1, 265.15: 4, 267.23: 1, 269.21: 1, 269.25: 1, 270.25: 4, 273.82: 4, 275.17: 5, 279.23: 1, 279.24: 7, 280.23: 1, 280.24: 2, 281.24: 6, 281.25: 2, 282.25: 13, 283.24: 3, 283.25: 4, 283.26: 7, 283.27: 1, 284.26: 3, 284.27: 1, 285.27: 10, 293.18: 1, 294.9: 4, 295.26: 2, 297.15: 2, 297.24: 10, 297.28: 2, 299.2: 9, 299.26: 13, 303.2: 8, 303.23: 13, 304.24: 1, 305.25: 12, 306.25: 6, 307.26: 2, 307.27: 12, 309.28: 4, 311.17: 1, 311.29: 9, 311.3: 2, 312.17: 5, 312.3: 8, 325.18: 2, 325.19: 1, 326.19: 1, 327.18: 5, 327.23: 4, 327.24: 1, 328.23: 2, 328.24: 1, 329.24: 3, 329.25: 1, 330.25: 13, 331.26: 4, 331.27: 4, 332.27: 6, 339.2: 1, 339.33: 15, 340.2: 8, 351.25: 15, 367.36: 3, 453.3: 4, 459.32: 11, 459.33: 3, 499.29: 6, 552.27: 6, 552.28: 1, 553.28: 1, 580.27: 6, 746.51: 4, 747.52: 2, 762.51: 12, 774.54: 1, 788.53: 5, 790.53: 8, 790.54: 5, 790.55: 15, 791.55: 12, 818.53: 9, 818.54: 7, 885.55: 10, 885.56: 1}\n",
            "{78.96: 1, 79.96: 15, 80.97: 2, 81.95: 1, 83.05: 4, 88.04: 1, 89.02: 3, 89.03: 9, 100.02: 1, 101.02: 12, 112.99: 1, 114.02: 7, 114.03: 1, 115.02: 5, 117.04: 2, 121.1: 3, 124.0: 1, 124.01: 2, 125.01: 1, 125.1: 15, 126.0: 1, 130.06: 4, 134.05: 1, 135.12: 3, 140.01: 1, 145.06: 1, 146.08: 11, 150.02: 4, 152.0: 18, 153.0: 2, 153.09: 1, 157.03: 1, 159.03: 16, 171.1: 2, 175.15: 6, 183.01: 15, 187.04: 9, 189.06: 6, 196.96: 1, 196.97: 2, 199.17: 18, 227.2: 1, 228.06: 4, 229.05: 1, 229.06: 10, 241.22: 7, 242.04: 4, 249.02: 7, 253.22: 4, 254.22: 10, 255.23: 11, 255.24: 9, 256.23: 1, 256.24: 11, 257.24: 15, 267.23: 1, 269.21: 18, 269.25: 11, 273.81: 3, 277.22: 1, 278.22: 1, 279.21: 13, 279.23: 7, 279.24: 2, 280.23: 7, 280.24: 1, 281.24: 1, 281.25: 9, 281.26: 4, 282.25: 2, 283.24: 1, 283.25: 3, 283.26: 1, 283.27: 1, 284.26: 17, 284.27: 1, 285.27: 9, 293.21: 14, 295.23: 1, 295.26: 14, 296.23: 17, 297.15: 16, 297.24: 1, 297.25: 9, 297.28: 7, 299.2: 2, 299.26: 6, 301.22: 10, 302.22: 9, 303.23: 6, 303.24: 5, 304.23: 5, 304.24: 3, 305.24: 18, 305.25: 2, 306.25: 7, 307.26: 1, 307.27: 9, 308.27: 2, 309.28: 1, 310.28: 8, 311.17: 2, 311.22: 8, 311.3: 8, 312.17: 1, 325.18: 8, 325.19: 3, 326.19: 8, 327.23: 9, 327.24: 2, 328.23: 2, 328.24: 6, 329.24: 1, 329.25: 4, 330.25: 2, 331.26: 5, 331.27: 1, 332.27: 2, 333.28: 2}\n",
            "--------score array: ------\n",
            "[[ 8 10  8  8 27 27 27 27]\n",
            " [ 6  7  7  7 22 21 17 17]\n",
            " [ 4  7  8  8 20 17 23 23]\n",
            " [ 4  6  7  8 18 14 21 25]\n",
            " [ 2  7  5  5 15 22 19 19]\n",
            " [ 3  7  7  7 18 20 18 18]\n",
            " [ 4  7  5  5 19 22 17 17]\n",
            " [ 5  5  5  5 21 21 14 16]\n",
            " [ 3  6  7  7 16 21 24 24]\n",
            " [ 2  4  4  4 15 14 14 14]\n",
            " [ 4  4  8  8 19 19 23 23]\n",
            " [ 6  2  7  4 22 18 19 15]\n",
            " [ 4  4  5  9 18 18 22 19]\n",
            " [ 4  2  5  5 20 14 21 21]\n",
            " [ 6  6  7  7 21 21 18 18]\n",
            " [ 5  5  3  4 19 19 15 17]\n",
            " [ 2  1  6  6 16 15 16 16]\n",
            " [ 5  5  4  5 18 18 16 18]]\n",
            "********** 57  Channels **********************\n",
            "/content/drive/MyDrive/Katy/heartProject/WC/\n",
            "['W3_graphs.csv', 'C3_graphs.csv', 'W6_graphs.csv', 'C6_graphs.csv', 'W9_graphs.csv', 'C9_graphs.csv', 'W12_graphs.csv', 'C12_graphs.csv', 'W15_graphs.csv', 'C15_graphs.csv', 'W18_graphs.csv', 'C18_graphs.csv', 'W21_graphs.csv', 'C21_graphs.csv', 'W24_graphs.csv', 'C24_graphs.csv', 'W27_graphs.csv', 'C27_graphs.csv', 'W30_graphs.csv', 'C30_graphs.csv', 'W33_graphs.csv', 'C33_graphs.csv', 'W36_graphs.csv', 'C36_graphs.csv', 'W39_graphs.csv', 'C39_graphs.csv', 'W42_graphs.csv', 'C42_graphs.csv', 'W45_graphs.csv', 'C45_graphs.csv', 'W48_graphs.csv', 'C48_graphs.csv', 'W51_graphs.csv', 'C51_graphs.csv', 'W54_graphs.csv', 'C54_graphs.csv', 'W57_graphs.csv', 'C57_graphs.csv', 'W60_graphs.csv', 'C60_graphs.csv', 'W63_graphs.csv', 'C63_graphs.csv', 'W66_graphs.csv', 'C66_graphs.csv', 'W69_graphs.csv', 'C69_graphs.csv', 'W72_graphs.csv', 'C72_graphs.csv', 'W75_graphs.csv', 'C75_graphs.csv']\n",
            "match:  W57_graphs.csv\n",
            "match:  C57_graphs.csv\n",
            "0.9812382739212008\n",
            "LR_max_channel:\n",
            "[22]\n",
            "[37]\n",
            "(2132, 57)\n",
            "(2132, 57)\n",
            "cor_max_channel:\n",
            "37\n",
            "cor_max_channel_normalized:\n",
            "37\n",
            "22\n",
            "(57, 2321)\n",
            "[ 0.          0.          0.         ...  0.          0.\n",
            " 15.99135135]\n",
            "k: 57, th: -37,  best 10 score: [6, 6, 7, 6], best 30 score: [22, 22, 16, 22]\n",
            "{78.96: 1, 79.96: 16, 80.97: 1, 88.04: 2, 89.02: 1, 96.96: 2, 100.02: 9, 112.99: 3, 114.02: 1, 115.02: 1, 115.08: 5, 124.01: 4, 148.95: 2, 157.12: 12, 159.03: 7, 162.96: 1, 163.11: 1, 171.1: 12, 171.14: 1, 183.01: 1, 184.02: 4, 188.94: 1, 196.96: 6, 196.97: 1, 199.17: 1, 223.03: 1, 227.2: 4, 228.93: 1, 241.22: 2, 253.22: 1, 255.21: 1, 255.22: 5, 255.23: 1, 255.24: 2, 256.23: 1, 256.24: 4, 257.24: 1, 265.15: 4, 267.23: 1, 269.21: 1, 269.25: 1, 270.25: 4, 273.82: 4, 275.17: 5, 279.23: 1, 279.24: 8, 280.23: 1, 280.24: 2, 281.24: 6, 281.25: 2, 282.25: 13, 283.24: 3, 283.25: 4, 283.26: 8, 283.27: 1, 284.26: 3, 284.27: 1, 285.27: 11, 293.18: 1, 294.9: 4, 295.26: 2, 297.15: 2, 297.24: 10, 297.28: 3, 299.2: 9, 299.26: 14, 303.2: 8, 303.23: 14, 304.24: 1, 305.25: 13, 306.25: 7, 307.26: 2, 307.27: 13, 309.28: 5, 311.17: 1, 311.29: 10, 311.3: 2, 312.17: 5, 312.3: 8, 325.18: 2, 325.19: 1, 326.19: 1, 327.18: 5, 327.23: 4, 327.24: 1, 328.23: 3, 328.24: 1, 329.24: 3, 329.25: 1, 330.25: 14, 331.26: 4, 331.27: 4, 332.27: 6, 339.2: 1, 339.33: 16, 340.2: 8, 351.25: 15, 367.36: 3, 453.3: 4, 459.32: 11, 459.33: 3, 499.29: 6, 552.27: 6, 552.28: 1, 553.28: 1, 580.27: 7, 746.51: 5, 747.52: 3, 762.51: 13, 774.54: 2, 788.53: 6, 790.53: 9, 790.54: 6, 790.55: 16, 791.55: 13, 818.53: 10, 818.54: 7, 885.55: 10, 885.56: 1}\n",
            "{78.96: 1, 79.96: 16, 80.97: 2, 81.95: 1, 83.05: 4, 88.04: 1, 89.02: 3, 89.03: 9, 100.02: 1, 101.02: 13, 112.99: 1, 114.02: 8, 114.03: 1, 115.02: 5, 117.04: 2, 121.1: 3, 124.0: 1, 124.01: 2, 125.01: 1, 125.1: 16, 126.0: 1, 130.06: 4, 134.05: 1, 135.12: 3, 140.01: 1, 145.06: 1, 146.08: 11, 150.02: 4, 152.0: 19, 153.0: 2, 153.09: 1, 157.03: 1, 159.03: 16, 171.1: 2, 175.15: 6, 183.01: 16, 187.04: 9, 189.06: 6, 196.96: 1, 196.97: 2, 199.17: 19, 227.2: 1, 228.06: 4, 229.05: 1, 229.06: 10, 241.22: 8, 242.04: 4, 249.02: 8, 253.22: 4, 254.22: 11, 255.23: 12, 255.24: 10, 256.23: 1, 256.24: 12, 257.24: 16, 267.23: 1, 269.21: 19, 269.25: 11, 273.81: 3, 277.22: 1, 278.22: 1, 279.21: 13, 279.23: 7, 279.24: 2, 280.23: 8, 280.24: 1, 281.24: 1, 281.25: 10, 281.26: 4, 282.25: 3, 283.24: 1, 283.25: 3, 283.26: 1, 283.27: 1, 284.26: 17, 284.27: 1, 285.27: 9, 293.21: 14, 295.23: 1, 295.26: 15, 296.23: 18, 297.15: 17, 297.24: 1, 297.25: 10, 297.28: 8, 299.2: 3, 299.26: 7, 301.22: 11, 302.22: 10, 303.23: 7, 303.24: 6, 304.23: 5, 304.24: 3, 305.24: 19, 305.25: 2, 306.25: 7, 307.26: 1, 307.27: 9, 308.27: 2, 309.28: 1, 310.28: 9, 311.17: 2, 311.22: 9, 311.3: 8, 312.17: 1, 325.18: 9, 325.19: 4, 326.19: 8, 327.23: 10, 327.24: 2, 328.23: 2, 328.24: 7, 329.24: 2, 329.25: 4, 330.25: 2, 331.26: 5, 331.27: 1, 332.27: 2, 333.28: 2}\n",
            "--------score array: ------\n",
            "[[ 8 10  8  8 27 27 27 27]\n",
            " [ 6  7  7  7 22 21 17 17]\n",
            " [ 4  7  8  8 20 17 23 23]\n",
            " [ 4  6  7  8 18 14 21 25]\n",
            " [ 2  7  5  5 15 22 19 19]\n",
            " [ 3  7  7  7 18 20 18 18]\n",
            " [ 4  7  5  5 19 22 17 17]\n",
            " [ 5  5  5  5 21 21 14 16]\n",
            " [ 3  6  7  7 16 21 24 24]\n",
            " [ 2  4  4  4 15 14 14 14]\n",
            " [ 4  4  8  8 19 19 23 23]\n",
            " [ 6  2  7  4 22 18 19 15]\n",
            " [ 4  4  5  9 18 18 22 19]\n",
            " [ 4  2  5  5 20 14 21 21]\n",
            " [ 6  6  7  7 21 21 18 18]\n",
            " [ 5  5  3  4 19 19 15 17]\n",
            " [ 2  1  6  6 16 15 16 16]\n",
            " [ 5  5  4  5 18 18 16 18]\n",
            " [ 6  6  7  6 22 22 16 22]]\n",
            "********** 60  Channels **********************\n",
            "/content/drive/MyDrive/Katy/heartProject/WC/\n",
            "['W3_graphs.csv', 'C3_graphs.csv', 'W6_graphs.csv', 'C6_graphs.csv', 'W9_graphs.csv', 'C9_graphs.csv', 'W12_graphs.csv', 'C12_graphs.csv', 'W15_graphs.csv', 'C15_graphs.csv', 'W18_graphs.csv', 'C18_graphs.csv', 'W21_graphs.csv', 'C21_graphs.csv', 'W24_graphs.csv', 'C24_graphs.csv', 'W27_graphs.csv', 'C27_graphs.csv', 'W30_graphs.csv', 'C30_graphs.csv', 'W33_graphs.csv', 'C33_graphs.csv', 'W36_graphs.csv', 'C36_graphs.csv', 'W39_graphs.csv', 'C39_graphs.csv', 'W42_graphs.csv', 'C42_graphs.csv', 'W45_graphs.csv', 'C45_graphs.csv', 'W48_graphs.csv', 'C48_graphs.csv', 'W51_graphs.csv', 'C51_graphs.csv', 'W54_graphs.csv', 'C54_graphs.csv', 'W57_graphs.csv', 'C57_graphs.csv', 'W60_graphs.csv', 'C60_graphs.csv', 'W63_graphs.csv', 'C63_graphs.csv', 'W66_graphs.csv', 'C66_graphs.csv', 'W69_graphs.csv', 'C69_graphs.csv', 'W72_graphs.csv', 'C72_graphs.csv', 'W75_graphs.csv', 'C75_graphs.csv']\n",
            "match:  W60_graphs.csv\n",
            "match:  C60_graphs.csv\n",
            "0.9817073170731707\n",
            "LR_max_channel:\n",
            "[44]\n",
            "[48]\n",
            "(2132, 60)\n",
            "(2132, 60)\n",
            "cor_max_channel:\n",
            "42\n",
            "cor_max_channel_normalized:\n",
            "42\n",
            "48\n",
            "(60, 2321)\n",
            "[54.13066588 62.13695476  0.         ...  0.          0.\n",
            " 17.8450739 ]\n",
            "k: 60, th: -37,  best 10 score: [5, 5, 3, 3], best 30 score: [23, 23, 11, 11]\n",
            "{78.96: 1, 79.96: 16, 80.97: 1, 88.04: 2, 89.02: 1, 96.96: 2, 100.02: 10, 112.99: 3, 114.02: 1, 115.02: 1, 115.08: 5, 124.01: 4, 148.95: 2, 157.12: 13, 159.03: 7, 162.96: 1, 163.11: 1, 171.1: 13, 171.14: 1, 183.01: 1, 184.02: 4, 188.94: 1, 196.96: 6, 196.97: 1, 199.17: 1, 223.03: 1, 227.2: 4, 228.93: 1, 241.22: 2, 253.22: 1, 255.21: 1, 255.22: 5, 255.23: 1, 255.24: 2, 256.23: 1, 256.24: 4, 257.24: 1, 265.15: 4, 267.23: 1, 269.21: 1, 269.25: 1, 270.25: 4, 273.82: 4, 275.17: 5, 279.23: 1, 279.24: 8, 280.23: 1, 280.24: 2, 281.24: 7, 281.25: 2, 282.25: 14, 283.24: 3, 283.25: 4, 283.26: 9, 283.27: 1, 284.26: 3, 284.27: 1, 285.27: 11, 293.18: 1, 294.9: 4, 295.26: 2, 297.15: 2, 297.24: 10, 297.28: 3, 299.2: 9, 299.26: 14, 303.2: 8, 303.23: 14, 304.24: 1, 305.25: 13, 306.25: 7, 307.26: 2, 307.27: 14, 309.28: 5, 311.17: 1, 311.29: 10, 311.3: 2, 312.17: 5, 312.3: 8, 325.18: 2, 325.19: 1, 326.19: 1, 327.18: 5, 327.23: 4, 327.24: 1, 328.23: 3, 328.24: 1, 329.24: 3, 329.25: 1, 330.25: 14, 331.26: 4, 331.27: 4, 332.27: 6, 339.2: 1, 339.33: 16, 340.2: 8, 351.25: 16, 367.36: 3, 453.3: 4, 459.32: 11, 459.33: 3, 499.29: 6, 552.27: 6, 552.28: 1, 553.28: 1, 580.27: 7, 746.51: 5, 747.52: 3, 762.51: 13, 774.54: 2, 788.53: 6, 790.53: 9, 790.54: 6, 790.55: 16, 791.55: 13, 818.53: 10, 818.54: 7, 885.55: 10, 885.56: 1}\n",
            "{78.96: 1, 79.96: 17, 80.97: 2, 81.95: 1, 83.05: 4, 88.04: 1, 89.02: 4, 89.03: 9, 100.02: 1, 101.02: 14, 112.99: 1, 114.02: 9, 114.03: 1, 115.02: 5, 117.04: 2, 121.1: 3, 124.0: 1, 124.01: 2, 125.01: 1, 125.1: 17, 126.0: 1, 130.06: 4, 134.05: 1, 135.12: 3, 140.01: 1, 145.06: 1, 146.08: 11, 150.02: 4, 152.0: 20, 153.0: 2, 153.09: 1, 157.03: 1, 159.03: 17, 171.1: 2, 175.15: 6, 183.01: 17, 187.04: 9, 189.06: 6, 196.96: 1, 196.97: 2, 199.17: 20, 227.2: 1, 228.06: 4, 229.05: 1, 229.06: 10, 241.22: 9, 242.04: 4, 249.02: 9, 253.22: 4, 254.22: 11, 255.23: 13, 255.24: 11, 256.23: 1, 256.24: 12, 257.24: 17, 267.23: 1, 269.21: 20, 269.25: 11, 273.81: 3, 277.22: 1, 278.22: 1, 279.21: 13, 279.23: 7, 279.24: 2, 280.23: 9, 280.24: 1, 281.24: 1, 281.25: 11, 281.26: 5, 282.25: 4, 283.24: 1, 283.25: 3, 283.26: 1, 283.27: 1, 284.26: 17, 284.27: 1, 285.27: 10, 293.21: 14, 295.23: 1, 295.26: 16, 296.23: 19, 297.15: 18, 297.24: 1, 297.25: 11, 297.28: 9, 299.2: 4, 299.26: 8, 301.22: 12, 302.22: 10, 303.23: 7, 303.24: 7, 304.23: 5, 304.24: 3, 305.24: 20, 305.25: 2, 306.25: 7, 307.26: 1, 307.27: 9, 308.27: 2, 309.28: 1, 310.28: 10, 311.17: 2, 311.22: 10, 311.3: 8, 312.17: 1, 325.18: 10, 325.19: 5, 326.19: 8, 327.23: 11, 327.24: 2, 328.23: 2, 328.24: 8, 329.24: 3, 329.25: 4, 330.25: 2, 331.26: 5, 331.27: 1, 332.27: 2, 333.28: 2}\n",
            "--------score array: ------\n",
            "[[ 8 10  8  8 27 27 27 27]\n",
            " [ 6  7  7  7 22 21 17 17]\n",
            " [ 4  7  8  8 20 17 23 23]\n",
            " [ 4  6  7  8 18 14 21 25]\n",
            " [ 2  7  5  5 15 22 19 19]\n",
            " [ 3  7  7  7 18 20 18 18]\n",
            " [ 4  7  5  5 19 22 17 17]\n",
            " [ 5  5  5  5 21 21 14 16]\n",
            " [ 3  6  7  7 16 21 24 24]\n",
            " [ 2  4  4  4 15 14 14 14]\n",
            " [ 4  4  8  8 19 19 23 23]\n",
            " [ 6  2  7  4 22 18 19 15]\n",
            " [ 4  4  5  9 18 18 22 19]\n",
            " [ 4  2  5  5 20 14 21 21]\n",
            " [ 6  6  7  7 21 21 18 18]\n",
            " [ 5  5  3  4 19 19 15 17]\n",
            " [ 2  1  6  6 16 15 16 16]\n",
            " [ 5  5  4  5 18 18 16 18]\n",
            " [ 6  6  7  6 22 22 16 22]\n",
            " [ 5  5  3  3 23 23 11 11]]\n",
            "********** 63  Channels **********************\n",
            "/content/drive/MyDrive/Katy/heartProject/WC/\n",
            "['W3_graphs.csv', 'C3_graphs.csv', 'W6_graphs.csv', 'C6_graphs.csv', 'W9_graphs.csv', 'C9_graphs.csv', 'W12_graphs.csv', 'C12_graphs.csv', 'W15_graphs.csv', 'C15_graphs.csv', 'W18_graphs.csv', 'C18_graphs.csv', 'W21_graphs.csv', 'C21_graphs.csv', 'W24_graphs.csv', 'C24_graphs.csv', 'W27_graphs.csv', 'C27_graphs.csv', 'W30_graphs.csv', 'C30_graphs.csv', 'W33_graphs.csv', 'C33_graphs.csv', 'W36_graphs.csv', 'C36_graphs.csv', 'W39_graphs.csv', 'C39_graphs.csv', 'W42_graphs.csv', 'C42_graphs.csv', 'W45_graphs.csv', 'C45_graphs.csv', 'W48_graphs.csv', 'C48_graphs.csv', 'W51_graphs.csv', 'C51_graphs.csv', 'W54_graphs.csv', 'C54_graphs.csv', 'W57_graphs.csv', 'C57_graphs.csv', 'W60_graphs.csv', 'C60_graphs.csv', 'W63_graphs.csv', 'C63_graphs.csv', 'W66_graphs.csv', 'C66_graphs.csv', 'W69_graphs.csv', 'C69_graphs.csv', 'W72_graphs.csv', 'C72_graphs.csv', 'W75_graphs.csv', 'C75_graphs.csv']\n",
            "match:  W63_graphs.csv\n",
            "match:  C63_graphs.csv\n",
            "0.9863977485928705\n",
            "LR_max_channel:\n",
            "[22]\n",
            "[37]\n",
            "(2132, 63)\n",
            "(2132, 63)\n",
            "cor_max_channel:\n",
            "1\n",
            "cor_max_channel_normalized:\n",
            "34\n",
            "22\n",
            "(63, 2321)\n",
            "[ 0.          0.          0.         ...  0.          0.\n",
            " 29.78634299]\n",
            "k: 63, th: -37,  best 10 score: [1, 7, 6, 6], best 30 score: [10, 18, 16, 24]\n",
            "{66.16: 1, 78.96: 17, 79.96: 1, 80.97: 2, 83.05: 1, 88.04: 2, 89.02: 11, 96.96: 3, 100.02: 1, 112.99: 1, 114.02: 6, 115.02: 4, 115.08: 2, 124.01: 14, 148.95: 7, 157.12: 1, 159.03: 1, 162.96: 14, 163.11: 1, 171.1: 1, 171.14: 4, 183.01: 1, 184.02: 6, 188.94: 1, 196.96: 1, 196.97: 1, 199.17: 4, 223.03: 1, 227.2: 2, 228.93: 1, 241.22: 1, 242.22: 5, 253.22: 1, 255.21: 2, 255.22: 1, 255.23: 5, 255.24: 1, 256.23: 1, 256.24: 4, 257.24: 2, 265.15: 1, 267.23: 1, 269.21: 4, 269.25: 4, 270.25: 1, 273.82: 5, 275.17: 1, 279.23: 9, 279.24: 1, 280.23: 2, 280.24: 7, 281.24: 2, 281.25: 14, 282.25: 3, 283.24: 4, 283.25: 10, 283.26: 1, 283.27: 3, 283.28: 1, 284.26: 12, 284.27: 1, 285.27: 4, 293.18: 2, 294.9: 2, 295.26: 10, 297.15: 4, 297.24: 9, 297.28: 15, 299.2: 8, 299.26: 15, 303.2: 1, 303.23: 13, 304.24: 8, 305.25: 2, 306.25: 14, 307.26: 6, 307.27: 1, 309.28: 11, 311.17: 2, 311.29: 5, 311.3: 8, 312.17: 2, 312.3: 1, 325.18: 2, 325.19: 5, 325.31: 4, 326.19: 1, 327.18: 4, 327.23: 1, 327.24: 3, 328.23: 1, 328.24: 15, 329.24: 4, 329.25: 4, 330.25: 6, 331.26: 1, 331.27: 17, 332.27: 8, 339.2: 16, 339.33: 3, 340.2: 4, 351.25: 11, 353.34: 3, 367.36: 7, 368.36: 6, 395.39: 1, 453.3: 2, 459.32: 8, 459.33: 6, 499.29: 4, 552.27: 14, 552.28: 2, 553.28: 7, 580.27: 10, 746.51: 7, 747.52: 17, 762.51: 14, 774.54: 11, 788.53: 7, 790.53: 10, 790.54: 1, 790.55: 5, 791.55: 7, 818.53: 1, 818.54: 3, 885.55: 3, 885.56: 5}\n",
            "{78.96: 1, 79.96: 1, 80.97: 17, 81.95: 2, 83.05: 1, 88.04: 1, 89.02: 4, 89.03: 1, 100.02: 4, 101.02: 9, 112.99: 1, 114.02: 14, 114.03: 1, 115.02: 9, 117.04: 1, 121.1: 5, 124.0: 2, 124.01: 3, 125.01: 1, 125.1: 2, 126.0: 1, 130.06: 18, 134.05: 1, 135.12: 4, 140.01: 1, 145.06: 3, 146.08: 1, 150.02: 1, 152.0: 12, 153.0: 4, 153.09: 21, 157.03: 1, 159.03: 2, 171.1: 1, 175.15: 2, 183.01: 18, 187.04: 2, 188.94: 7, 189.06: 18, 196.96: 10, 196.97: 7, 199.17: 1, 227.2: 2, 228.06: 21, 228.93: 2, 229.05: 4, 229.06: 1, 241.22: 10, 242.04: 9, 249.02: 4, 253.22: 9, 254.22: 4, 255.23: 12, 255.24: 13, 256.23: 11, 256.24: 1, 257.24: 13, 267.23: 17, 269.21: 1, 269.25: 1, 273.81: 21, 277.22: 12, 278.22: 3, 279.21: 1, 279.23: 1, 279.24: 14, 280.23: 8, 280.24: 3, 281.24: 9, 281.25: 1, 281.26: 1, 282.25: 11, 283.24: 5, 283.25: 4, 283.26: 1, 283.27: 3, 284.26: 1, 284.27: 1, 285.27: 18, 293.21: 2, 295.23: 11, 295.26: 15, 296.23: 2, 297.15: 16, 297.24: 19, 297.25: 1, 297.28: 19, 299.2: 2, 299.26: 11, 301.22: 9, 302.22: 4, 303.23: 8, 303.24: 12, 304.23: 10, 304.24: 7, 305.24: 7, 305.25: 5, 306.25: 3, 307.26: 20, 307.27: 3, 308.27: 8, 309.28: 1, 310.28: 1, 311.17: 10, 311.22: 1, 311.3: 1, 312.17: 2, 325.18: 1, 325.19: 11, 326.19: 2, 327.23: 10, 327.24: 8, 328.23: 1, 328.24: 10, 329.24: 5, 329.25: 8, 330.25: 11, 331.26: 2, 331.27: 2, 332.27: 8, 333.28: 3, 337.31: 4, 339.2: 2, 340.2: 5, 343.23: 1, 355.26: 2, 357.28: 2}\n",
            "--------score array: ------\n",
            "[[ 8 10  8  8 27 27 27 27]\n",
            " [ 6  7  7  7 22 21 17 17]\n",
            " [ 4  7  8  8 20 17 23 23]\n",
            " [ 4  6  7  8 18 14 21 25]\n",
            " [ 2  7  5  5 15 22 19 19]\n",
            " [ 3  7  7  7 18 20 18 18]\n",
            " [ 4  7  5  5 19 22 17 17]\n",
            " [ 5  5  5  5 21 21 14 16]\n",
            " [ 3  6  7  7 16 21 24 24]\n",
            " [ 2  4  4  4 15 14 14 14]\n",
            " [ 4  4  8  8 19 19 23 23]\n",
            " [ 6  2  7  4 22 18 19 15]\n",
            " [ 4  4  5  9 18 18 22 19]\n",
            " [ 4  2  5  5 20 14 21 21]\n",
            " [ 6  6  7  7 21 21 18 18]\n",
            " [ 5  5  3  4 19 19 15 17]\n",
            " [ 2  1  6  6 16 15 16 16]\n",
            " [ 5  5  4  5 18 18 16 18]\n",
            " [ 6  6  7  6 22 22 16 22]\n",
            " [ 5  5  3  3 23 23 11 11]\n",
            " [ 1  7  6  6 10 18 16 24]]\n",
            "********** 66  Channels **********************\n",
            "/content/drive/MyDrive/Katy/heartProject/WC/\n",
            "['W3_graphs.csv', 'C3_graphs.csv', 'W6_graphs.csv', 'C6_graphs.csv', 'W9_graphs.csv', 'C9_graphs.csv', 'W12_graphs.csv', 'C12_graphs.csv', 'W15_graphs.csv', 'C15_graphs.csv', 'W18_graphs.csv', 'C18_graphs.csv', 'W21_graphs.csv', 'C21_graphs.csv', 'W24_graphs.csv', 'C24_graphs.csv', 'W27_graphs.csv', 'C27_graphs.csv', 'W30_graphs.csv', 'C30_graphs.csv', 'W33_graphs.csv', 'C33_graphs.csv', 'W36_graphs.csv', 'C36_graphs.csv', 'W39_graphs.csv', 'C39_graphs.csv', 'W42_graphs.csv', 'C42_graphs.csv', 'W45_graphs.csv', 'C45_graphs.csv', 'W48_graphs.csv', 'C48_graphs.csv', 'W51_graphs.csv', 'C51_graphs.csv', 'W54_graphs.csv', 'C54_graphs.csv', 'W57_graphs.csv', 'C57_graphs.csv', 'W60_graphs.csv', 'C60_graphs.csv', 'W63_graphs.csv', 'C63_graphs.csv', 'W66_graphs.csv', 'C66_graphs.csv', 'W69_graphs.csv', 'C69_graphs.csv', 'W72_graphs.csv', 'C72_graphs.csv', 'W75_graphs.csv', 'C75_graphs.csv']\n",
            "match:  W66_graphs.csv\n",
            "match:  C66_graphs.csv\n",
            "0.9896810506566605\n",
            "LR_max_channel:\n",
            "[56]\n",
            "[37]\n",
            "(2132, 66)\n",
            "(2132, 66)\n",
            "cor_max_channel:\n",
            "30\n",
            "cor_max_channel_normalized:\n",
            "30\n",
            "37\n",
            "(66, 2321)\n",
            "[ 0.         47.13418097 73.96525165 ... 11.22212699 12.62130182\n",
            "  0.        ]\n",
            "k: 66, th: -37,  best 10 score: [1, 1, 7, 2], best 30 score: [15, 15, 22, 13]\n",
            "{66.16: 1, 78.96: 17, 79.96: 1, 80.97: 2, 83.05: 1, 88.04: 2, 89.02: 11, 96.96: 3, 100.02: 1, 112.99: 2, 114.02: 1, 115.02: 7, 115.08: 4, 124.01: 2, 148.95: 14, 153.0: 7, 157.12: 1, 159.03: 1, 162.96: 1, 163.11: 14, 171.1: 1, 171.14: 1, 183.01: 4, 184.02: 1, 188.94: 6, 196.96: 1, 196.97: 1, 199.17: 1, 223.03: 4, 227.2: 1, 228.21: 1, 228.93: 2, 241.22: 1, 242.22: 1, 253.22: 5, 255.21: 1, 255.22: 1, 255.23: 1, 255.24: 2, 255.25: 1, 256.23: 6, 256.24: 1, 257.24: 2, 265.15: 4, 267.23: 1, 269.21: 2, 269.25: 1, 270.25: 1, 273.82: 5, 275.17: 4, 279.23: 2, 279.24: 5, 280.23: 1, 280.24: 9, 281.24: 1, 281.25: 2, 282.25: 7, 283.24: 2, 283.25: 15, 283.26: 3, 283.27: 5, 283.28: 11, 284.26: 1, 284.27: 1, 285.27: 1, 293.18: 3, 294.9: 1, 295.26: 12, 297.15: 1, 297.24: 1, 297.28: 4, 299.2: 2, 299.26: 2, 303.2: 10, 303.23: 4, 304.24: 9, 305.25: 15, 306.25: 8, 307.26: 16, 307.27: 1, 309.28: 13, 311.17: 8, 311.29: 2, 311.3: 14, 312.17: 7, 312.3: 1, 325.18: 12, 325.19: 2, 325.31: 1, 326.19: 5, 327.18: 1, 327.23: 8, 327.24: 2, 328.23: 1, 328.24: 2, 329.24: 6, 329.25: 4, 330.25: 1, 331.26: 5, 331.27: 1, 332.27: 3, 339.2: 1, 339.33: 1, 340.2: 15, 351.25: 4, 353.34: 4, 365.34: 6, 367.36: 1, 368.36: 17, 395.39: 8, 415.23: 16, 453.3: 3, 459.32: 4, 459.33: 11, 499.29: 3, 552.27: 7, 552.28: 6, 553.28: 2, 580.27: 2, 746.51: 9, 747.52: 7, 762.51: 5, 763.52: 14, 774.54: 2, 788.53: 7, 790.53: 10, 790.54: 7, 790.55: 17, 791.54: 14, 791.55: 11, 818.53: 7, 818.54: 10, 885.55: 1, 885.56: 1}\n",
            "{78.96: 1, 79.96: 1, 80.97: 17, 81.95: 2, 83.05: 1, 88.04: 1, 89.02: 4, 89.03: 1, 96.96: 4, 100.02: 9, 101.02: 1, 112.99: 15, 114.02: 1, 114.03: 9, 115.02: 1, 117.04: 1, 121.1: 6, 122.97: 2, 124.0: 3, 124.01: 1, 125.01: 2, 125.1: 1, 126.0: 19, 130.06: 1, 134.05: 4, 135.12: 1, 140.01: 3, 145.06: 1, 146.08: 1, 148.95: 13, 150.02: 1, 152.0: 4, 153.0: 22, 153.09: 1, 157.03: 2, 159.03: 1, 162.96: 2, 163.11: 19, 171.1: 2, 175.15: 1, 183.01: 7, 187.04: 19, 188.94: 11, 189.06: 7, 196.93: 2, 196.96: 2, 196.97: 22, 199.17: 3, 227.2: 4, 228.06: 1, 228.93: 10, 229.05: 9, 229.06: 4, 241.22: 9, 242.04: 4, 249.02: 13, 253.22: 13, 254.22: 11, 255.23: 1, 255.24: 13, 256.23: 18, 256.24: 1, 256.93: 1, 257.24: 22, 265.15: 13, 267.23: 3, 269.21: 1, 269.25: 1, 273.81: 14, 275.17: 9, 277.22: 4, 278.22: 9, 279.21: 1, 279.23: 1, 279.24: 11, 280.23: 5, 280.24: 4, 281.24: 1, 281.25: 3, 281.26: 2, 282.25: 1, 283.24: 19, 283.25: 2, 283.26: 12, 283.27: 16, 284.26: 2, 284.27: 16, 285.27: 20, 293.18: 1, 293.21: 20, 294.9: 2, 295.23: 11, 295.26: 9, 296.23: 4, 297.15: 8, 297.24: 12, 297.25: 10, 297.28: 8, 299.2: 7, 299.26: 6, 301.22: 4, 302.22: 20, 303.2: 4, 303.23: 8, 303.24: 1, 304.23: 1, 304.24: 1, 305.24: 11, 305.25: 1, 306.25: 1, 307.26: 1, 307.27: 2, 308.27: 1, 309.28: 11, 310.28: 2, 311.17: 10, 311.22: 8, 311.3: 1, 312.17: 10, 325.18: 5, 325.19: 8, 326.19: 11, 327.23: 1, 327.24: 2, 328.23: 3, 328.24: 8, 329.24: 4, 329.25: 4, 330.25: 1, 331.26: 2, 331.27: 5, 332.27: 1, 333.28: 2, 334.89: 2}\n",
            "--------score array: ------\n",
            "[[ 8 10  8  8 27 27 27 27]\n",
            " [ 6  7  7  7 22 21 17 17]\n",
            " [ 4  7  8  8 20 17 23 23]\n",
            " [ 4  6  7  8 18 14 21 25]\n",
            " [ 2  7  5  5 15 22 19 19]\n",
            " [ 3  7  7  7 18 20 18 18]\n",
            " [ 4  7  5  5 19 22 17 17]\n",
            " [ 5  5  5  5 21 21 14 16]\n",
            " [ 3  6  7  7 16 21 24 24]\n",
            " [ 2  4  4  4 15 14 14 14]\n",
            " [ 4  4  8  8 19 19 23 23]\n",
            " [ 6  2  7  4 22 18 19 15]\n",
            " [ 4  4  5  9 18 18 22 19]\n",
            " [ 4  2  5  5 20 14 21 21]\n",
            " [ 6  6  7  7 21 21 18 18]\n",
            " [ 5  5  3  4 19 19 15 17]\n",
            " [ 2  1  6  6 16 15 16 16]\n",
            " [ 5  5  4  5 18 18 16 18]\n",
            " [ 6  6  7  6 22 22 16 22]\n",
            " [ 5  5  3  3 23 23 11 11]\n",
            " [ 1  7  6  6 10 18 16 24]\n",
            " [ 1  1  7  2 15 15 22 13]]\n",
            "********** 69  Channels **********************\n",
            "/content/drive/MyDrive/Katy/heartProject/WC/\n",
            "['W3_graphs.csv', 'C3_graphs.csv', 'W6_graphs.csv', 'C6_graphs.csv', 'W9_graphs.csv', 'C9_graphs.csv', 'W12_graphs.csv', 'C12_graphs.csv', 'W15_graphs.csv', 'C15_graphs.csv', 'W18_graphs.csv', 'C18_graphs.csv', 'W21_graphs.csv', 'C21_graphs.csv', 'W24_graphs.csv', 'C24_graphs.csv', 'W27_graphs.csv', 'C27_graphs.csv', 'W30_graphs.csv', 'C30_graphs.csv', 'W33_graphs.csv', 'C33_graphs.csv', 'W36_graphs.csv', 'C36_graphs.csv', 'W39_graphs.csv', 'C39_graphs.csv', 'W42_graphs.csv', 'C42_graphs.csv', 'W45_graphs.csv', 'C45_graphs.csv', 'W48_graphs.csv', 'C48_graphs.csv', 'W51_graphs.csv', 'C51_graphs.csv', 'W54_graphs.csv', 'C54_graphs.csv', 'W57_graphs.csv', 'C57_graphs.csv', 'W60_graphs.csv', 'C60_graphs.csv', 'W63_graphs.csv', 'C63_graphs.csv', 'W66_graphs.csv', 'C66_graphs.csv', 'W69_graphs.csv', 'C69_graphs.csv', 'W72_graphs.csv', 'C72_graphs.csv', 'W75_graphs.csv', 'C75_graphs.csv']\n",
            "match:  W69_graphs.csv\n",
            "match:  C69_graphs.csv\n",
            "0.9896810506566605\n",
            "LR_max_channel:\n",
            "[56]\n",
            "[37]\n",
            "(2132, 69)\n",
            "(2132, 69)\n",
            "cor_max_channel:\n",
            "42\n",
            "cor_max_channel_normalized:\n",
            "42\n",
            "52\n",
            "(69, 2321)\n",
            "[0. 0. 0. ... 0. 0. 0.]\n",
            "k: 69, th: -37,  best 10 score: [1, 1, 5, 5], best 30 score: [14, 14, 18, 19]\n",
            "{66.16: 1, 78.96: 18, 79.96: 1, 80.97: 2, 83.05: 1, 88.04: 2, 89.02: 12, 96.96: 3, 100.02: 1, 112.99: 2, 114.02: 1, 115.02: 8, 115.08: 4, 121.03: 2, 124.01: 15, 148.95: 7, 153.0: 1, 157.12: 1, 159.03: 1, 162.96: 15, 163.11: 1, 171.1: 1, 171.14: 4, 183.01: 1, 184.02: 6, 188.94: 1, 196.96: 1, 196.97: 1, 199.17: 4, 223.03: 1, 227.2: 1, 228.21: 2, 228.93: 1, 237.08: 1, 241.22: 5, 242.22: 1, 253.22: 2, 255.21: 1, 255.22: 2, 255.23: 1, 255.24: 7, 255.25: 1, 256.23: 3, 256.24: 4, 257.24: 1, 265.15: 3, 267.23: 1, 269.21: 1, 269.25: 5, 270.25: 4, 273.82: 3, 275.17: 5, 279.23: 1, 279.24: 10, 280.23: 1, 280.24: 2, 281.24: 7, 281.25: 2, 282.25: 16, 283.24: 3, 283.25: 6, 283.26: 11, 283.27: 1, 283.28: 1, 284.26: 1, 284.27: 4, 285.27: 1, 293.18: 13, 294.9: 1, 295.26: 1, 297.15: 4, 297.24: 2, 297.28: 2, 298.16: 10, 299.2: 4, 299.26: 9, 303.2: 16, 303.23: 8, 304.24: 16, 305.25: 1, 306.25: 13, 307.26: 9, 307.27: 2, 309.28: 15, 311.17: 7, 311.29: 1, 311.3: 13, 312.17: 3, 312.3: 1, 313.17: 5, 325.18: 2, 325.19: 8, 325.31: 2, 326.19: 1, 327.18: 3, 327.23: 6, 327.24: 4, 328.23: 2, 328.24: 5, 329.24: 1, 329.25: 4, 330.25: 1, 331.26: 1, 331.27: 16, 332.27: 4, 339.2: 4, 339.33: 6, 340.2: 1, 351.25: 17, 353.34: 8, 365.34: 16, 367.36: 3, 368.36: 4, 395.39: 11, 415.23: 3, 453.3: 8, 459.32: 6, 459.33: 3, 499.29: 2, 552.27: 10, 552.28: 7, 553.28: 5, 580.27: 15, 746.51: 2, 747.52: 8, 762.51: 10, 763.52: 8, 774.54: 18, 788.53: 14, 790.53: 12, 790.54: 7, 790.55: 10, 791.54: 1, 791.55: 1, 818.53: 1, 818.54: 5, 885.55: 8, 885.56: 2}\n",
            "{78.96: 1, 79.96: 1, 80.97: 17, 81.95: 2, 83.05: 1, 88.04: 1, 89.02: 5, 89.03: 2, 96.96: 4, 100.02: 9, 101.02: 1, 112.99: 15, 114.02: 1, 114.03: 1, 115.02: 9, 117.04: 1, 121.1: 1, 122.97: 7, 124.0: 2, 124.01: 3, 125.01: 1, 125.1: 2, 126.0: 1, 130.06: 20, 134.05: 2, 135.12: 4, 140.01: 1, 145.06: 3, 146.08: 1, 148.95: 2, 150.02: 14, 152.0: 1, 153.0: 4, 153.09: 1, 157.03: 22, 159.03: 1, 162.96: 2, 163.11: 1, 171.1: 2, 175.15: 19, 183.01: 2, 187.04: 1, 188.94: 7, 189.06: 20, 196.93: 12, 196.96: 8, 196.97: 2, 199.17: 2, 227.2: 22, 228.06: 3, 228.93: 5, 229.05: 1, 229.06: 10, 241.22: 10, 242.04: 4, 249.02: 9, 253.22: 4, 254.22: 14, 255.23: 13, 255.24: 11, 256.23: 2, 256.24: 13, 256.93: 19, 257.24: 1, 265.15: 1, 267.23: 23, 269.21: 14, 269.25: 3, 273.81: 1, 275.17: 1, 277.22: 15, 278.22: 9, 279.21: 4, 279.23: 1, 279.24: 9, 280.23: 1, 280.24: 1, 281.24: 11, 281.25: 5, 281.26: 5, 282.25: 1, 283.24: 3, 283.25: 2, 283.26: 1, 283.27: 20, 284.26: 2, 284.27: 13, 285.27: 17, 293.18: 2, 293.21: 1, 294.9: 16, 295.23: 21, 295.26: 1, 296.23: 21, 297.15: 3, 297.24: 11, 297.25: 9, 297.28: 4, 299.2: 8, 299.26: 12, 301.22: 10, 302.22: 8, 303.2: 8, 303.23: 7, 303.24: 4, 304.23: 21, 304.24: 4, 305.24: 9, 305.25: 1, 306.25: 1, 307.26: 1, 307.27: 12, 308.27: 1, 309.28: 1, 310.28: 1, 311.17: 2, 311.22: 1, 311.3: 12, 312.17: 2, 325.18: 10, 325.19: 9, 326.19: 1, 327.23: 11, 327.24: 5, 328.23: 8, 328.24: 11, 329.24: 1, 329.25: 2, 330.25: 3, 331.26: 8, 331.27: 4, 332.27: 4, 333.28: 1, 334.89: 2, 334.9: 5, 337.31: 1, 339.2: 2, 340.2: 2}\n",
            "--------score array: ------\n",
            "[[ 8 10  8  8 27 27 27 27]\n",
            " [ 6  7  7  7 22 21 17 17]\n",
            " [ 4  7  8  8 20 17 23 23]\n",
            " [ 4  6  7  8 18 14 21 25]\n",
            " [ 2  7  5  5 15 22 19 19]\n",
            " [ 3  7  7  7 18 20 18 18]\n",
            " [ 4  7  5  5 19 22 17 17]\n",
            " [ 5  5  5  5 21 21 14 16]\n",
            " [ 3  6  7  7 16 21 24 24]\n",
            " [ 2  4  4  4 15 14 14 14]\n",
            " [ 4  4  8  8 19 19 23 23]\n",
            " [ 6  2  7  4 22 18 19 15]\n",
            " [ 4  4  5  9 18 18 22 19]\n",
            " [ 4  2  5  5 20 14 21 21]\n",
            " [ 6  6  7  7 21 21 18 18]\n",
            " [ 5  5  3  4 19 19 15 17]\n",
            " [ 2  1  6  6 16 15 16 16]\n",
            " [ 5  5  4  5 18 18 16 18]\n",
            " [ 6  6  7  6 22 22 16 22]\n",
            " [ 5  5  3  3 23 23 11 11]\n",
            " [ 1  7  6  6 10 18 16 24]\n",
            " [ 1  1  7  2 15 15 22 13]\n",
            " [ 1  1  5  5 14 14 18 19]]\n",
            "********** 72  Channels **********************\n",
            "/content/drive/MyDrive/Katy/heartProject/WC/\n",
            "['W3_graphs.csv', 'C3_graphs.csv', 'W6_graphs.csv', 'C6_graphs.csv', 'W9_graphs.csv', 'C9_graphs.csv', 'W12_graphs.csv', 'C12_graphs.csv', 'W15_graphs.csv', 'C15_graphs.csv', 'W18_graphs.csv', 'C18_graphs.csv', 'W21_graphs.csv', 'C21_graphs.csv', 'W24_graphs.csv', 'C24_graphs.csv', 'W27_graphs.csv', 'C27_graphs.csv', 'W30_graphs.csv', 'C30_graphs.csv', 'W33_graphs.csv', 'C33_graphs.csv', 'W36_graphs.csv', 'C36_graphs.csv', 'W39_graphs.csv', 'C39_graphs.csv', 'W42_graphs.csv', 'C42_graphs.csv', 'W45_graphs.csv', 'C45_graphs.csv', 'W48_graphs.csv', 'C48_graphs.csv', 'W51_graphs.csv', 'C51_graphs.csv', 'W54_graphs.csv', 'C54_graphs.csv', 'W57_graphs.csv', 'C57_graphs.csv', 'W60_graphs.csv', 'C60_graphs.csv', 'W63_graphs.csv', 'C63_graphs.csv', 'W66_graphs.csv', 'C66_graphs.csv', 'W69_graphs.csv', 'C69_graphs.csv', 'W72_graphs.csv', 'C72_graphs.csv', 'W75_graphs.csv', 'C75_graphs.csv']\n",
            "match:  W72_graphs.csv\n",
            "match:  C72_graphs.csv\n",
            "0.9906191369606003\n",
            "LR_max_channel:\n",
            "[67]\n",
            "[37]\n",
            "(2132, 72)\n",
            "(2132, 72)\n",
            "cor_max_channel:\n",
            "1\n",
            "cor_max_channel_normalized:\n",
            "56\n",
            "37\n",
            "(72, 2321)\n",
            "[ 0.          7.81555381 30.84428989 ...  4.98271145  5.62183718\n",
            "  0.        ]\n",
            "k: 72, th: -37,  best 10 score: [4, 3, 7, 7], best 30 score: [9, 13, 23, 23]\n",
            "{66.16: 1, 78.96: 19, 79.96: 1, 80.97: 2, 83.05: 1, 88.04: 2, 89.02: 13, 96.96: 3, 100.02: 1, 112.99: 2, 114.02: 1, 115.02: 9, 115.08: 4, 121.03: 2, 124.01: 16, 148.95: 7, 153.0: 1, 157.12: 1, 159.03: 1, 162.96: 16, 163.11: 1, 171.1: 1, 171.14: 4, 183.01: 1, 184.02: 6, 188.94: 1, 196.96: 1, 196.97: 1, 199.17: 4, 223.03: 1, 227.2: 1, 228.21: 2, 228.93: 1, 237.08: 1, 241.22: 5, 242.22: 1, 253.22: 3, 255.21: 1, 255.22: 2, 255.23: 1, 255.24: 7, 255.25: 1, 256.23: 4, 256.24: 4, 257.24: 1, 265.15: 4, 267.23: 1, 269.21: 1, 269.25: 6, 270.25: 4, 273.82: 4, 275.17: 5, 279.23: 1, 279.24: 11, 280.23: 1, 280.24: 2, 281.24: 7, 281.25: 2, 282.25: 16, 283.24: 3, 283.25: 7, 283.26: 11, 283.27: 1, 283.28: 1, 283.29: 1, 284.26: 5, 284.27: 1, 285.27: 14, 293.18: 1, 294.9: 1, 295.26: 4, 297.15: 2, 297.24: 2, 297.28: 11, 298.16: 5, 299.2: 9, 299.26: 17, 303.2: 8, 303.23: 17, 304.24: 1, 305.25: 14, 306.25: 10, 307.26: 2, 307.27: 15, 309.28: 7, 311.17: 1, 311.29: 14, 311.3: 3, 312.17: 1, 312.3: 5, 313.17: 3, 321.21: 8, 325.18: 2, 325.19: 1, 325.31: 4, 326.19: 6, 327.18: 4, 327.23: 2, 327.24: 5, 328.23: 1, 328.24: 4, 329.24: 1, 329.25: 1, 330.25: 17, 331.26: 4, 331.27: 4, 332.17: 6, 332.27: 1, 339.2: 18, 339.32: 8, 339.33: 16, 340.2: 3, 351.25: 4, 353.34: 11, 365.34: 3, 367.36: 9, 368.36: 6, 381.37: 3, 382.27: 2, 395.39: 11, 415.23: 7, 451.28: 5, 453.3: 16, 459.32: 2, 459.33: 9, 460.33: 11, 499.29: 9, 552.27: 19, 552.28: 14, 553.28: 13, 580.27: 7, 746.51: 10, 747.52: 1, 762.51: 1, 763.52: 1, 774.54: 5, 788.53: 9, 790.53: 2, 790.54: 3, 790.55: 1, 791.54: 3, 791.55: 5, 818.53: 4, 818.54: 2, 885.55: 1, 885.56: 2}\n",
            "{78.96: 2, 79.96: 1, 80.97: 17, 81.95: 2, 83.05: 1, 88.04: 1, 89.02: 5, 89.03: 2, 96.96: 5, 100.02: 9, 101.02: 1, 112.99: 15, 114.02: 1, 114.03: 1, 115.02: 9, 117.04: 2, 121.1: 1, 122.97: 7, 124.0: 2, 124.01: 3, 125.01: 2, 125.1: 2, 126.0: 1, 130.06: 20, 134.05: 2, 135.12: 4, 140.01: 1, 145.06: 3, 146.08: 1, 148.95: 2, 150.02: 14, 152.0: 1, 153.0: 4, 153.09: 1, 157.03: 23, 159.03: 1, 162.96: 2, 163.11: 1, 171.1: 3, 175.15: 20, 183.01: 2, 187.04: 2, 188.94: 7, 189.06: 20, 196.93: 12, 196.96: 9, 196.97: 2, 199.17: 2, 227.2: 23, 228.06: 3, 228.93: 5, 229.05: 2, 229.06: 10, 241.22: 10, 242.04: 4, 249.02: 9, 253.22: 4, 254.22: 15, 255.23: 14, 255.24: 11, 256.23: 2, 256.24: 14, 256.93: 19, 257.24: 2, 265.15: 1, 267.23: 1, 269.21: 23, 269.25: 15, 273.81: 4, 275.17: 1, 277.22: 1, 278.22: 15, 279.21: 10, 279.23: 5, 279.24: 1, 280.23: 10, 280.24: 1, 281.24: 2, 281.25: 12, 281.26: 5, 282.25: 5, 283.24: 1, 283.25: 3, 283.26: 2, 283.27: 1, 284.26: 21, 284.27: 3, 285.27: 13, 293.18: 17, 293.21: 2, 294.9: 1, 295.23: 1, 295.26: 16, 296.23: 21, 297.15: 1, 297.24: 21, 297.25: 3, 297.28: 11, 299.2: 9, 299.26: 4, 301.22: 8, 302.22: 12, 303.2: 10, 303.23: 8, 303.24: 8, 304.23: 7, 304.24: 1, 305.24: 4, 305.25: 21, 306.25: 1, 307.26: 4, 307.27: 10, 308.27: 1, 309.28: 2, 310.28: 1, 311.17: 13, 311.22: 1, 311.3: 1, 312.17: 1, 325.18: 2, 325.19: 1, 326.19: 1, 327.23: 2, 327.24: 1, 328.23: 13, 328.24: 1, 329.24: 2, 329.25: 10, 330.25: 9, 331.26: 1, 331.27: 11, 332.27: 5, 333.28: 8, 334.89: 11, 334.9: 1, 337.31: 2, 339.2: 3, 340.2: 8, 343.23: 4, 351.25: 4, 355.26: 1, 357.28: 2, 364.11: 5, 365.34: 1, 367.36: 2, 400.87: 2}\n",
            "--------score array: ------\n",
            "[[ 8 10  8  8 27 27 27 27]\n",
            " [ 6  7  7  7 22 21 17 17]\n",
            " [ 4  7  8  8 20 17 23 23]\n",
            " [ 4  6  7  8 18 14 21 25]\n",
            " [ 2  7  5  5 15 22 19 19]\n",
            " [ 3  7  7  7 18 20 18 18]\n",
            " [ 4  7  5  5 19 22 17 17]\n",
            " [ 5  5  5  5 21 21 14 16]\n",
            " [ 3  6  7  7 16 21 24 24]\n",
            " [ 2  4  4  4 15 14 14 14]\n",
            " [ 4  4  8  8 19 19 23 23]\n",
            " [ 6  2  7  4 22 18 19 15]\n",
            " [ 4  4  5  9 18 18 22 19]\n",
            " [ 4  2  5  5 20 14 21 21]\n",
            " [ 6  6  7  7 21 21 18 18]\n",
            " [ 5  5  3  4 19 19 15 17]\n",
            " [ 2  1  6  6 16 15 16 16]\n",
            " [ 5  5  4  5 18 18 16 18]\n",
            " [ 6  6  7  6 22 22 16 22]\n",
            " [ 5  5  3  3 23 23 11 11]\n",
            " [ 1  7  6  6 10 18 16 24]\n",
            " [ 1  1  7  2 15 15 22 13]\n",
            " [ 1  1  5  5 14 14 18 19]\n",
            " [ 4  3  7  7  9 13 23 23]]\n",
            "********** 75  Channels **********************\n",
            "/content/drive/MyDrive/Katy/heartProject/WC/\n",
            "['W3_graphs.csv', 'C3_graphs.csv', 'W6_graphs.csv', 'C6_graphs.csv', 'W9_graphs.csv', 'C9_graphs.csv', 'W12_graphs.csv', 'C12_graphs.csv', 'W15_graphs.csv', 'C15_graphs.csv', 'W18_graphs.csv', 'C18_graphs.csv', 'W21_graphs.csv', 'C21_graphs.csv', 'W24_graphs.csv', 'C24_graphs.csv', 'W27_graphs.csv', 'C27_graphs.csv', 'W30_graphs.csv', 'C30_graphs.csv', 'W33_graphs.csv', 'C33_graphs.csv', 'W36_graphs.csv', 'C36_graphs.csv', 'W39_graphs.csv', 'C39_graphs.csv', 'W42_graphs.csv', 'C42_graphs.csv', 'W45_graphs.csv', 'C45_graphs.csv', 'W48_graphs.csv', 'C48_graphs.csv', 'W51_graphs.csv', 'C51_graphs.csv', 'W54_graphs.csv', 'C54_graphs.csv', 'W57_graphs.csv', 'C57_graphs.csv', 'W60_graphs.csv', 'C60_graphs.csv', 'W63_graphs.csv', 'C63_graphs.csv', 'W66_graphs.csv', 'C66_graphs.csv', 'W69_graphs.csv', 'C69_graphs.csv', 'W72_graphs.csv', 'C72_graphs.csv', 'W75_graphs.csv', 'C75_graphs.csv']\n",
            "match:  W75_graphs.csv\n",
            "match:  C75_graphs.csv\n",
            "0.9934333958724203\n",
            "LR_max_channel:\n",
            "[28]\n",
            "[37]\n",
            "(2132, 75)\n",
            "(2132, 75)\n",
            "cor_max_channel:\n",
            "37\n",
            "cor_max_channel_normalized:\n",
            "3\n",
            "37\n",
            "(75, 2321)\n",
            "[ 0.         10.04076572 21.8995982  ...  6.17064397  5.0312972\n",
            "  0.        ]\n",
            "k: 75, th: -37,  best 10 score: [5, 3, 5, 5], best 30 score: [18, 11, 18, 18]\n",
            "{66.16: 1, 78.96: 20, 79.96: 1, 80.97: 2, 83.05: 1, 88.04: 2, 89.02: 14, 96.96: 3, 100.02: 1, 112.99: 2, 114.02: 1, 115.02: 9, 115.08: 4, 121.03: 2, 124.01: 17, 148.95: 7, 153.0: 1, 157.12: 1, 159.03: 1, 162.96: 17, 163.11: 1, 171.1: 1, 171.14: 4, 183.01: 1, 184.02: 6, 188.94: 1, 196.96: 1, 196.97: 1, 199.17: 4, 223.03: 1, 227.2: 1, 228.21: 2, 228.93: 1, 237.08: 1, 241.22: 5, 242.22: 1, 253.22: 4, 255.21: 1, 255.22: 2, 255.23: 1, 255.24: 8, 255.25: 1, 256.23: 5, 256.24: 4, 257.24: 1, 265.15: 5, 267.23: 1, 269.21: 1, 269.25: 6, 270.25: 4, 273.82: 5, 275.17: 5, 277.22: 1, 279.23: 12, 279.24: 1, 280.23: 2, 280.24: 7, 281.24: 2, 281.25: 17, 282.25: 3, 283.24: 7, 283.25: 11, 283.26: 1, 283.27: 2, 283.28: 1, 283.29: 6, 284.26: 1, 284.27: 15, 285.27: 1, 293.18: 1, 294.9: 5, 295.26: 2, 297.15: 2, 297.24: 11, 297.28: 5, 298.16: 9, 299.2: 17, 299.26: 8, 301.22: 17, 303.2: 1, 303.23: 15, 304.24: 10, 305.25: 2, 306.25: 15, 307.26: 7, 307.27: 1, 309.28: 15, 311.17: 3, 311.29: 1, 311.3: 5, 312.17: 4, 312.3: 8, 313.17: 2, 321.21: 1, 325.18: 5, 325.19: 6, 325.31: 4, 326.19: 2, 327.18: 5, 327.23: 1, 327.24: 5, 328.23: 1, 328.24: 1, 329.24: 18, 329.25: 4, 330.25: 4, 331.26: 6, 331.27: 1, 332.17: 19, 332.27: 8, 339.2: 16, 339.32: 3, 339.33: 4, 340.2: 11, 351.25: 3, 353.34: 10, 365.34: 6, 367.36: 3, 368.36: 2, 381.37: 12, 382.27: 7, 395.39: 5, 400.87: 17, 415.23: 2, 451.28: 10, 453.3: 12, 459.32: 10, 459.33: 20, 460.33: 14, 499.29: 14, 552.27: 7, 552.28: 10, 553.28: 1, 580.27: 1, 746.51: 1, 747.51: 5, 747.52: 9, 747.98: 2, 762.51: 3, 763.52: 1, 774.54: 3, 788.53: 5, 790.53: 4, 790.54: 2, 790.55: 1, 791.54: 3, 791.55: 5, 818.53: 1, 818.54: 2, 885.55: 10, 885.56: 2}\n",
            "{78.96: 2, 79.96: 1, 80.97: 18, 81.95: 2, 83.05: 1, 88.04: 1, 89.02: 6, 89.03: 2, 96.96: 5, 100.02: 9, 101.02: 1, 112.99: 16, 114.02: 1, 114.03: 1, 115.02: 10, 117.04: 2, 121.1: 1, 122.97: 7, 124.0: 2, 124.01: 4, 125.01: 2, 125.1: 2, 126.0: 1, 130.06: 21, 134.05: 2, 135.12: 5, 140.01: 2, 145.06: 3, 146.08: 1, 148.95: 2, 150.02: 14, 152.0: 1, 153.0: 5, 153.09: 1, 157.03: 24, 159.03: 1, 162.96: 2, 163.11: 1, 171.1: 3, 175.15: 21, 183.01: 2, 187.04: 2, 188.94: 7, 189.06: 20, 196.93: 13, 196.96: 9, 196.97: 3, 199.17: 2, 227.2: 24, 228.06: 3, 228.93: 5, 229.05: 2, 229.06: 1, 241.22: 10, 242.04: 10, 249.02: 4, 253.22: 9, 254.22: 4, 255.23: 15, 255.24: 15, 256.23: 11, 256.24: 2, 256.93: 14, 257.24: 19, 265.15: 2, 267.23: 1, 269.21: 1, 269.25: 24, 273.81: 15, 275.17: 4, 277.22: 2, 278.22: 1, 279.21: 16, 279.23: 10, 279.24: 5, 280.23: 1, 280.24: 10, 281.24: 1, 281.25: 1, 281.26: 2, 282.25: 13, 283.24: 5, 283.25: 6, 283.26: 1, 283.27: 3, 284.26: 2, 284.27: 1, 285.27: 22, 293.18: 3, 293.21: 13, 294.9: 17, 295.23: 2, 295.26: 1, 296.23: 1, 297.15: 17, 297.24: 21, 297.25: 1, 297.28: 21, 299.2: 3, 299.26: 12, 301.22: 9, 302.22: 5, 303.2: 9, 303.23: 13, 303.24: 11, 304.23: 8, 304.24: 9, 305.24: 7, 305.25: 1, 306.25: 4, 307.26: 21, 307.27: 1, 308.27: 4, 309.28: 10, 310.28: 1, 311.17: 2, 311.22: 1, 311.3: 13, 312.17: 1, 325.18: 1, 325.19: 1, 326.19: 2, 327.23: 1, 327.24: 1, 328.23: 1, 328.24: 2, 329.24: 1, 329.25: 13, 330.25: 1, 331.26: 2, 331.27: 11, 332.27: 9, 333.28: 1, 334.89: 11, 334.9: 6, 337.31: 1, 339.2: 8, 340.2: 1, 343.23: 12, 351.25: 1, 355.26: 2, 357.28: 3, 364.11: 9, 365.34: 4, 367.36: 4, 400.87: 1, 427.29: 2, 450.29: 5, 451.28: 1, 451.29: 2, 452.29: 2}\n",
            "--------score array: ------\n",
            "[[ 8 10  8  8 27 27 27 27]\n",
            " [ 6  7  7  7 22 21 17 17]\n",
            " [ 4  7  8  8 20 17 23 23]\n",
            " [ 4  6  7  8 18 14 21 25]\n",
            " [ 2  7  5  5 15 22 19 19]\n",
            " [ 3  7  7  7 18 20 18 18]\n",
            " [ 4  7  5  5 19 22 17 17]\n",
            " [ 5  5  5  5 21 21 14 16]\n",
            " [ 3  6  7  7 16 21 24 24]\n",
            " [ 2  4  4  4 15 14 14 14]\n",
            " [ 4  4  8  8 19 19 23 23]\n",
            " [ 6  2  7  4 22 18 19 15]\n",
            " [ 4  4  5  9 18 18 22 19]\n",
            " [ 4  2  5  5 20 14 21 21]\n",
            " [ 6  6  7  7 21 21 18 18]\n",
            " [ 5  5  3  4 19 19 15 17]\n",
            " [ 2  1  6  6 16 15 16 16]\n",
            " [ 5  5  4  5 18 18 16 18]\n",
            " [ 6  6  7  6 22 22 16 22]\n",
            " [ 5  5  3  3 23 23 11 11]\n",
            " [ 1  7  6  6 10 18 16 24]\n",
            " [ 1  1  7  2 15 15 22 13]\n",
            " [ 1  1  5  5 14 14 18 19]\n",
            " [ 4  3  7  7  9 13 23 23]\n",
            " [ 5  3  5  5 18 11 18 18]]\n"
          ]
        }
      ]
    },
    {
      "cell_type": "code",
      "metadata": {
        "id": "DU_Th36E1FU3"
      },
      "source": [
        "# score_array_all = np.array([[10,10,10,10,34,31,34,34],\n",
        "#                             [7,9,7,7,28,29,26,26],\n",
        "#                             [6,7,8,8,27,21,26,26],\n",
        "#                             [5,6,7,9,25,17,23,33],\n",
        "#                             [2,7,6,6,20,25,25,25],\n",
        "#                             [4,8,8,8,21,24,22,22],\n",
        "#                             [4,8,7,7,24,25,22,22],\n",
        "#                             [7,7,7,6,28,28,22,23],\n",
        "#                             [3,8,8,8,16,30,32,32],\n",
        "#                             [3,4,4,4,17,18,18,18],\n",
        "#                             [4,4,8,8,20,20,29,29],\n",
        "#                             [7,5,9,5,27,23,22,19],\n",
        "#                             [5,5,6,9,24,24,26,23], \n",
        "#                             [ 5 , 2 , 6 , 6 ,26, 16, 28, 28],\n",
        "#                             [ 7,  7,  8,  8, 26, 26, 21, 21],\n",
        "#                             [ 6,  6,  6,  6, 24, 24, 20, 22],\n",
        "#                             [ 2 , 1 , 7 , 7 ,19, 18, 21, 21],\n",
        "#                             [ 5,  5,  7,  5, 22, 22, 20, 22],\n",
        "#                             [ 7,  7,  8,  7, 29, 29, 18, 29],\n",
        "#                             [ 7 , 7,  3,  3, 27, 27, 14, 14],\n",
        "#                             [ 2,  7,  7,  7, 13, 25, 19, 28],\n",
        "#                             [ 2,  2,  6,  6, 19, 19, 24, 26],\n",
        "#                             [ 4,  4,  7,  7,  9, 19, 27, 27]])\n",
        "# print(score_array_all.shape)\n"
      ],
      "execution_count": null,
      "outputs": []
    },
    {
      "cell_type": "code",
      "metadata": {
        "id": "8fNybnjJ1GVJ",
        "colab": {
          "base_uri": "https://localhost:8080/",
          "height": 282
        },
        "outputId": "fb1d512e-6030-494e-a924-260c490a932f"
      },
      "source": [
        "df = pd.DataFrame(data = score_array_all,columns = [\"cor_10\",\"corNorm_10\",\"LRnorm_10\",\"LR_10\",\"cor_30\",\"corNorm_30\",\"LRnorm_30\",\"LR_30\"])\n",
        "sns.lineplot(data=df,   markers=True, dashes=False)#, legend=False)"
      ],
      "execution_count": null,
      "outputs": [
        {
          "output_type": "execute_result",
          "data": {
            "text/plain": [
              "<matplotlib.axes._subplots.AxesSubplot at 0x7f95abeed8d0>"
            ]
          },
          "metadata": {},
          "execution_count": 40
        },
        {
          "output_type": "display_data",
          "data": {
            "image/png": "[encoded data removed]",
            "text/plain": [
              "<Figure size 432x288 with 1 Axes>"
            ]
          },
          "metadata": {
            "needs_background": "light"
          }
        }
      ]
    },
    {
      "cell_type": "markdown",
      "source": [
        "### ***END of notebook ***"
      ],
      "metadata": {
        "id": "G02pnmiYVJpO"
      }
    },
    {
      "cell_type": "code",
      "metadata": {
        "id": "eAgT9VnJ1fTb"
      },
      "source": [
        "num_of_channels = [78,100]\n",
        "thresholds = [-300,-100,-50,-10]\n",
        "\n",
        "\n",
        "NMF_all_W_H = {}\n",
        "count_peaks_cor ,count_peaks_LR = [],[]\n",
        "score_array_all =None\n",
        "\n",
        "\n",
        "for k in range(num_of_channels[0],num_of_channels[1],3):\n",
        "\n",
        "    print(\"**********\",k,\" Channels **********************\")\n",
        "    if from_WC:\n",
        "      [W ,H,H_new ,peaks, l] = get_W_H_from_files(k)  \n",
        "      l = W.shape[0]\n",
        "    else:\n",
        "      nmf = NMF(n_components=k, init='nndsvd', random_state=0,max_iter=100000)\n",
        "      W = nmf.fit_transform(nmf_np.transpose())\n",
        "      H = nmf.components_\n",
        "      H_new = np.concatenate((peaks_all.reshape(1,-1),H))\n",
        "      l = W.shape[0]\n",
        "      NMF_all_W_H[k] = [W,H]\n",
        "    #print(W.round(2))\n",
        "\n",
        "    #print(np.count_nonzero(W.round(2), axis=0))\n",
        "\n",
        "    sick_healthy_array = get_tag_array(l)\n",
        "    LR_max_1, LR_max_2 = get_LR_max(W,sick_healthy_array)\n",
        "    cor_max_1, cor_max_2 = get_cor_max(W,sick_healthy_array)\n",
        "\n",
        "    if from_WC:\n",
        "      pass\n",
        "    else:\n",
        "      file_path_weights = path_for_NMF+\"/Run\"+suffix +\"/W\" + str(k)+suffix +\".csv\"\n",
        "      np.savetxt(file_path_weights, X = W, delimiter=\",\")\n",
        "      file_path_channels =  path_for_NMF+\"/Run\"+suffix +\"/C\" + str(k)+suffix +\".csv\"\n",
        "      np.savetxt(file_path_channels, X = H_new, delimiter=\",\")\n",
        "      file_path_bestnum = path_for_NMF+\"/Run\"+suffix +\"/best_channels_num_\" + str(k)+suffix +\".csv\"\n",
        "      np.savetxt(file_path_bestnum  , X = [LR_max_1,LR_max_2,cor_max_1, cor_max_2], delimiter=\",\")\n",
        "               \n",
        "    for th in thresholds:\n",
        "\n",
        "      important_1_1 = [H_new[0,np.argpartition(H[cor_max_1,:], th)[th:] ],H[cor_max_1,np.argpartition(H[cor_max_1,:], th)[th:]]]\n",
        "      file_path_important = path_for_NMF+\"/Run\"+suffix +\"/important_peaks_COR_over\" + str(th)+\"_Nchannels\" + str(k)+\"_channel\"+ str(cor_max_1)+suffix +\".csv\"\n",
        "      np.savetxt(file_path_important, X =important_1_1, delimiter=\",\")\n",
        "      \n",
        "      important_1_2 = [H_new[0,np.argpartition(H[cor_max_2,:], th)[th:] ],H[cor_max_2,np.argpartition(H[cor_max_2,:], th)[th:]]]\n",
        "      file_path_important = path_for_NMF+\"/Run\"+suffix +\"/important_peaks_CORNORM_over\" + str(th)+\"_Nchannels\" + str(k)+\"_channel\"+ str(cor_max_2)+suffix +\".csv\"\n",
        "      np.savetxt(file_path_important, X =important_1_2, delimiter=\",\")\n",
        "      \n",
        "      print(LR_max_1)\n",
        "      print(H.shape)\n",
        "      print(H[LR_max_1,:])\n",
        "      important_2 = [H_new[0,np.argpartition(H[LR_max_1,:], th)[th:] ],H[LR_max_1,np.argpartition(H[LR_max_1,:], th)[th:]]]\n",
        "\n",
        "      file_path_important = path_for_NMF+\"/Run\"+suffix +\"/important_peaks_LRSTD_over\" + str(th)+\"_Nchannels\" + str(k)+\"_channel\"+ str(LR_max_1)+suffix +\".csv\"\n",
        "      np.savetxt(file_path_important, X =important_2, delimiter=\",\")\n",
        "      \n",
        "      important_3 = [H_new[0,np.argpartition(H[LR_max_2,:], th)[th:] ],H[LR_max_2,np.argpartition(H[LR_max_2,:], th)[th:]]]\n",
        "      \n",
        "      file_path_important = path_for_NMF+\"/Run\"+suffix +\"/important_peaks_LR_over\"+ str(th)+\"_Nchannels\" + str(k)+\"_channel\"+ str(LR_max_2)+suffix +\".csv\"\n",
        "      np.savetxt(file_path_important, X =important_3, delimiter=\",\")\n",
        "\n",
        "      # print(len(important_1[0]))\n",
        "      # print(len(important_2[0]))\n",
        "      # print(len(important_3[0]))\n",
        "      score_10,score_30 = score_parameter_choice(th,k,important_1_1,important_1_2,important_2,important_3 )\n",
        "      #score_10_array = np.concatenate((score_10_array,[[score_10],[score_30]]))\n",
        "      #30_score_array = np.concatenate((30_score_array,30_score))\n",
        "      #sns.lineplot(data=score_10_array,    x=\"timepoint\", y=\"signal\", hue=\"event\", style=\"event\",   markers=True, dashes=False)\n",
        "      #score_array = np.hstack((score_array,np.vstack((score_10,score_30))))\n",
        "\n",
        "      #sns.lineplot(data=score_array,   markers=True, dashes=False)\n",
        "      # score_array = \n",
        "      #score_array = np.vstack((score_array,np.hstack((score_10,score_30))))\n",
        "      # print(score_10.shape)\n",
        "      # print(score_30.shape)\n",
        "      #print(np.hstack((score_10,score_30)).shape)\n",
        "      #score_array_all  = np.empty([8])\n",
        "\n",
        "      #print(score_array_all.shape)\n",
        "      \n",
        "\n",
        "      if th == -100:\n",
        "        count_peaks_cor = np.concatenate((count_peaks_cor,important_1_1[0]))\n",
        "        count_peaks_LR = np.concatenate((count_peaks_LR,important_3[0]))\n",
        "        unique_cor, counts_cor = np.unique(count_peaks_cor, return_counts=True)\n",
        "        unique_LR, counts_LR = np.unique(count_peaks_LR, return_counts=True)\n",
        "\n",
        "        print(dict(zip(unique_cor, counts_LR)))\n",
        "#        print(np.count(count_peaks_LR))\n",
        "        \n",
        "        print(dict(zip(unique_LR, counts_cor)))\n",
        "        print(\"--------score array: ------\")\n",
        "        if np.all(score_array_all != None):\n",
        "          score_array_all = np.vstack((score_array_all,np.hstack((score_10,score_30)).reshape((1,8))))\n",
        "        else:  \n",
        "\n",
        "          score_array_all = np.hstack((score_10,score_30)).reshape((1,8))\n",
        "\n",
        "        print(score_array_all)\n",
        "        \n",
        "        sns.lineplot(data=score_array_all,   markers=True, dashes=False)\n",
        "\n",
        "#\n",
        "      if th == -10: \n",
        "        print(important_1_1[0])\n",
        "        print(important_1_2[0])\n",
        "\n",
        "        print(important_2[0])  \n",
        "        print(important_3[0])\n",
        "\n",
        "      # print(np.intersect1d(important_1,important_2).shape)\n",
        "      # print(np.intersect1d(important_1,important_3).shape)\n",
        "      # print(np.intersect1d(important_3,important_2).shape)\n",
        "\n"
      ],
      "execution_count": null,
      "outputs": []
    },
    {
      "cell_type": "code",
      "metadata": {
        "id": "VIN990WThwqB"
      },
      "source": [
        "score_array_all = np.empty([8])\n",
        "print(score_array.shape)\n",
        "print(score_10)\n",
        "print(np.hstack((score_10,score_30)).shape)\n",
        "#score_array = np.stack((score_array,np.hstack((score_10,score_30))))\n",
        "#score_array = np.vstack((score_array,np.hstack((score_10,score_30))))\n",
        "print(score_array_all.shape)\n",
        "score_array_all = np.stack((score_array_all,np.hstack((score_10,score_30))))\n",
        "print(score_array_all)\n"
      ],
      "execution_count": null,
      "outputs": []
    },
    {
      "cell_type": "code",
      "metadata": {
        "id": "sQGU2fyufn1s"
      },
      "source": [
        "score_array_all\n"
      ],
      "execution_count": null,
      "outputs": []
    },
    {
      "cell_type": "code",
      "metadata": {
        "id": "C3uS0yBcfh18"
      },
      "source": [
        "sns.lineplot(data=score_array_all,   markers=True, dashes=False)"
      ],
      "execution_count": null,
      "outputs": []
    },
    {
      "cell_type": "code",
      "metadata": {
        "id": "xpj-snFpcG_H"
      },
      "source": [
        "print(score_10)\n",
        "print(score_30)\n",
        "a = np.vstack((score_10,score_30))\n",
        "\n",
        "sns.lineplot(data=a,   markers=True, dashes=False)"
      ],
      "execution_count": null,
      "outputs": []
    },
    {
      "cell_type": "code",
      "metadata": {
        "id": "IwahP7n-4rGX"
      },
      "source": [
        "print(np.argpartition(H[cor_max,:], -10)[-10:])\n"
      ],
      "execution_count": null,
      "outputs": []
    },
    {
      "cell_type": "code",
      "metadata": {
        "id": "5O3JZ9O5OsGC"
      },
      "source": [
        "best_10 = [124,79.95,253.2,327.25,281.25,282.25,309.3,113,451.3,303.25]\n",
        "best_30 = [790.55,311.15,329.25,284.25,283.25,299.2,304.25,89,328.25,255.25,331.25,307.25,326.2,427.3,227.2,183,297.25,277.2,453.3,280.25,325.2,339.2,256.25,885.55,115,279.25,305.25]\n"
      ],
      "execution_count": null,
      "outputs": []
    },
    {
      "cell_type": "code",
      "metadata": {
        "id": "H3oqaJYbfeZO"
      },
      "source": [
        "num_of_channels = [5,100]\n",
        "nmf_np = mat_all.fillna(0).to_numpy()\n",
        "from sklearn.decomposition import NMF\n",
        "NMF_all_W_H = {}\n",
        "thresholds = [0.1,1,100,700,1000]\n",
        "\n",
        " \n",
        "for k in range(num_of_channels[0],num_of_channels[1],10):\n",
        "\n",
        "    print(\"**********\",k,\" Channels **********************\")\n",
        "    nmf = NMF(n_components=k, init='nndsvd', random_state=0,max_iter=100000)\n",
        "    W = nmf.fit_transform(nmf_np.transpose())\n",
        "    H = nmf.components_\n",
        "    H_new = np.concatenate((peaks_all.reshape(1,-1),H))\n",
        "\n",
        "    NMF_all_W_H[k] = [W,H]\n",
        "    #print(W.round(2))\n",
        "\n",
        "    #print(np.count_nonzero(W.round(2), axis=0))\n",
        "\n",
        "\n",
        "    LR_max_1, LR_max_2 = get_LR_max(W,sick_healthy_array)\n",
        "    cor_max = get_cor_max(W,sick_healthy_array)\n",
        "\n",
        "    file_path_weights = path_for_NMF+\"/Run\"+suffix +\"/W\" + str(k)+suffix +\".csv\"\n",
        "    np.savetxt(file_path_weights, X = W, delimiter=\",\")\n",
        "    file_path_channels =  path_for_NMF+\"/Run\"+suffix +\"/C\" + str(k)+suffix +\".csv\"\n",
        "    np.savetxt(file_path_channels, X = H_new, delimiter=\",\")\n",
        "    file_path_bestnum = path_for_NMF+\"/Run\"+suffix +\"/best_channels_num_\" + str(k)+suffix +\".csv\"\n",
        "    np.savetxt(file_path_bestnum  , X = [LR_max_1,LR_max_2,cor_max], delimiter=\",\")\n",
        "               \n",
        "    for th in thresholds:\n",
        "\n",
        "\n",
        "      important_1 = [H_new[0,H[cor_max,:]>th],H[cor_max,H[cor_max,:]>th]]\n",
        "      file_path_important = path_for_NMF+\"/Run\"+suffix +\"/important_peaks_COR_over\" + str(th)+\"_Nchannels\" + str(k)+\"_channel\"+ str(cor_max)+suffix +\".csv\"\n",
        "      np.savetxt(file_path_important, X =important_1, delimiter=\",\")\n",
        "      \n",
        "      important_2 = [H_new[0,H[LR_max_1,:]>th],H[LR_max_1,H[LR_max_1,:]>th]]\n",
        "      file_path_important = path_for_NMF+\"/Run\"+suffix +\"/important_peaks_LRSTD_over\" + str(th)+\"_Nchannels\" + str(k)+\"_channel\"+ str(LR_max_1)+suffix +\".csv\"\n",
        "      np.savetxt(file_path_important, X =important_2, delimiter=\",\")\n",
        "      \n",
        "      important_3 = [H_new[0,H[LR_max_2,:]>th],H[LR_max_2,H[LR_max_2,:]>th]]\n",
        "      file_path_important = path_for_NMF+\"/Run\"+suffix +\"/important_peaks_LR_over\"+ str(th)+\"_Nchannels\" + str(k)+\"_channel\"+ str(LR_max_2)+suffix +\".csv\"\n",
        "      np.savetxt(file_path_important, X =important_3, delimiter=\",\")\n",
        "\n",
        "      print(len(important_1[0]))\n",
        "      print(len(important_2[0]))\n",
        "      print(len(important_3[0]))\n",
        "      score_parater_choice(th,k,LR_max_1, LR_max_2,cor_max,important_1,important_2,important_3 )\n",
        "      if th == 1000: \n",
        "        print(important_1[0])\n",
        "        print(important_2[0])  \n",
        "        print(important_3[0])\n",
        "      # print(np.intersect1d(important_1,important_2).shape)\n",
        "      # print(np.intersect1d(important_1,important_3).shape)\n",
        "      # print(np.intersect1d(important_3,important_2).shape)\n",
        "\n"
      ],
      "execution_count": null,
      "outputs": []
    },
    {
      "cell_type": "code",
      "metadata": {
        "id": "sZBelN799zVM"
      },
      "source": [
        "num_of_channels = [5,100]\n",
        "nmf_np = mat_all.fillna(0).to_numpy()\n",
        "from sklearn.decomposition import NMF\n",
        "NMF_all_W_H = {}\n",
        "thresholds = [0.1,1,100,700,1000]\n",
        "\n",
        " \n",
        "for k in range(num_of_channels[0],num_of_channels[1],10):\n",
        "\n",
        "    print(\"**********\",k,\" Channels **********************\")\n",
        "    nmf = NMF(n_components=k, init='nndsvd', random_state=0,max_iter=100000)\n",
        "    W = nmf.fit_transform(nmf_np.transpose())\n",
        "    H = nmf.components_\n",
        "    H_new = np.concatenate((peaks_all.reshape(1,-1),H))\n",
        "\n",
        "    NMF_all_W_H[k] = [W,H]\n",
        "    #print(W.round(2))\n",
        "\n",
        "    #print(np.count_nonzero(W.round(2), axis=0))\n",
        "\n",
        "\n",
        "    LR_max_1, LR_max_2 = get_LR_max(W,sick_healthy_array)\n",
        "    cor_max = get_cor_max(W,sick_healthy_array)\n",
        "\n",
        "    file_path_weights = path_for_NMF+\"/Run\"+suffix +\"/W\" + str(k)+suffix +\".csv\"\n",
        "    np.savetxt(file_path_weights, X = W, delimiter=\",\")\n",
        "    file_path_channels =  path_for_NMF+\"/Run\"+suffix +\"/C\" + str(k)+suffix +\".csv\"\n",
        "    np.savetxt(file_path_channels, X = H_new, delimiter=\",\")\n",
        "    file_path_bestnum = path_for_NMF+\"/Run\"+suffix +\"/best_channels_num_\" + str(k)+suffix +\".csv\"\n",
        "    np.savetxt(file_path_bestnum  , X = [LR_max_1,LR_max_2,cor_max], delimiter=\",\")\n",
        "               \n",
        "    for th in thresholds:\n",
        "\n",
        "\n",
        "      important_1 = [H_new[0,H[cor_max,:]>th],H[cor_max,H[cor_max,:]>th]]\n",
        "      file_path_important = path_for_NMF+\"/Run\"+suffix +\"/important_peaks_COR_over\" + str(th)+\"_Nchannels\" + str(k)+\"_channel\"+ str(cor_max)+suffix +\".csv\"\n",
        "      np.savetxt(file_path_important, X =important_1, delimiter=\",\")\n",
        "      \n",
        "      important_2 = [H_new[0,H[LR_max_1,:]>th],H[LR_max_1,H[LR_max_1,:]>th]]\n",
        "      file_path_important = path_for_NMF+\"/Run\"+suffix +\"/important_peaks_LRSTD_over\" + str(th)+\"_Nchannels\" + str(k)+\"_channel\"+ str(LR_max_1)+suffix +\".csv\"\n",
        "      np.savetxt(file_path_important, X =important_2, delimiter=\",\")\n",
        "      \n",
        "      important_3 = [H_new[0,H[LR_max_2,:]>th],H[LR_max_2,H[LR_max_2,:]>th]]\n",
        "      file_path_important = path_for_NMF+\"/Run\"+suffix +\"/important_peaks_LR_over\"+ str(th)+\"_Nchannels\" + str(k)+\"_channel\"+ str(LR_max_2)+suffix +\".csv\"\n",
        "      np.savetxt(file_path_important, X =important_3, delimiter=\",\")\n",
        "\n",
        "      print(len(important_1[0]))\n",
        "      print(len(important_2[0]))\n",
        "      print(len(important_3[0]))\n",
        "      score_parater_choice(th,k,LR_max_1, LR_max_2,cor_max,important_1,important_2,important_3 )\n",
        "\n",
        "      # print(np.intersect1d(important_1,important_2).shape)\n",
        "      # print(np.intersect1d(important_1,important_3).shape)\n",
        "      # print(np.intersect1d(important_3,important_2).shape)\n",
        "\n"
      ],
      "execution_count": null,
      "outputs": []
    },
    {
      "cell_type": "code",
      "metadata": {
        "id": "i70y70As-XZJ"
      },
      "source": [
        "num_of_channels = [3,100]\n",
        "nmf_np = mat_all.fillna(0).to_numpy()\n",
        "from sklearn.decomposition import NMF\n",
        "NMF_all_W_H = {}\n",
        "thresholds = [0.1,1,100,700,1000]\n",
        "\n",
        " \n",
        "for k in range(num_of_channels[0],num_of_channels[1],10):\n",
        "\n",
        "    print(\"**********\",k,\" Channels **********************\")\n",
        "    nmf = NMF(n_components=k, init='nndsvd', random_state=0,max_iter=100000)\n",
        "    W = nmf.fit_transform(nmf_np.transpose())\n",
        "    H = nmf.components_\n",
        "    H_new = np.concatenate((peaks_all.reshape(1,-1),H))\n",
        "\n",
        "    NMF_all_W_H[k] = [W,H]\n",
        "    #print(W.round(2))\n",
        "\n",
        "    #print(np.count_nonzero(W.round(2), axis=0))\n",
        "\n",
        "\n",
        "    LR_max_1, LR_max_2 = get_LR_max(W,sick_healthy_array)\n",
        "    cor_max = get_cor_max(W,sick_healthy_array)\n",
        "\n",
        "    file_path_weights = path_for_NMF+\"/Run\"+suffix +\"/W\" + str(k)+suffix +\".csv\"\n",
        "    np.savetxt(file_path_weights, X = W, delimiter=\",\")\n",
        "    file_path_channels =  path_for_NMF+\"/Run\"+suffix +\"/C\" + str(k)+suffix +\".csv\"\n",
        "    np.savetxt(file_path_channels, X = H_new, delimiter=\",\")\n",
        "    file_path_bestnum = path_for_NMF+\"/Run\"+suffix +\"/best_channels_num_\" + str(k)+suffix +\".csv\"\n",
        "    np.savetxt(file_path_bestnum  , X = [LR_max_1,LR_max_2,cor_max], delimiter=\",\")\n",
        "               \n",
        "    for th in thresholds:\n",
        "\n",
        "\n",
        "      important_1 = [H_new[0,H[cor_max,:]>th],H[cor_max,H[cor_max,:]>th]]\n",
        "      file_path_important = path_for_NMF+\"/Run\"+suffix +\"/important_peaks_COR_over\" + str(th)+\"_Nchannels\" + str(k)+\"_channel\"+ str(cor_max)+suffix +\".csv\"\n",
        "      np.savetxt(file_path_important, X =important_1, delimiter=\",\")\n",
        "      \n",
        "      important_2 = [H_new[0,H[LR_max_1,:]>th],H[LR_max_1,H[LR_max_1,:]>th]]\n",
        "      file_path_important = path_for_NMF+\"/Run\"+suffix +\"/important_peaks_LRSTD_over\" + str(th)+\"_Nchannels\" + str(k)+\"_channel\"+ str(LR_max_1)+suffix +\".csv\"\n",
        "      np.savetxt(file_path_important, X =important_2, delimiter=\",\")\n",
        "      \n",
        "      important_3 = [H_new[0,H[LR_max_2,:]>th],H[LR_max_2,H[LR_max_2,:]>th]]\n",
        "      file_path_important = path_for_NMF+\"/Run\"+suffix +\"/important_peaks_LR_over\"+ str(th)+\"_Nchannels\" + str(k)+\"_channel\"+ str(LR_max_2)+suffix +\".csv\"\n",
        "      np.savetxt(file_path_important, X =important_3, delimiter=\",\")\n",
        "\n",
        "      print(len(important_1[0]))\n",
        "      print(len(important_2[0]))\n",
        "      print(len(important_3[0]))\n",
        "\n",
        "      print(np.intersect1d(important_1,important_2).shape)\n",
        "      print(np.intersect1d(important_1,important_3).shape)\n",
        "      print(np.intersect1d(important_3,important_2).shape)\n",
        "\n"
      ],
      "execution_count": null,
      "outputs": []
    },
    {
      "cell_type": "code",
      "metadata": {
        "id": "-nnNKMpxFH2Z"
      },
      "source": [
        "print j"
      ],
      "execution_count": null,
      "outputs": []
    },
    {
      "cell_type": "code",
      "metadata": {
        "id": "HnZ1qaz24LYJ"
      },
      "source": [
        "num_of_channels = [70,100]\n",
        "nmf_np = mat_all.fillna(0).to_numpy()\n",
        "from sklearn.decomposition import NMF\n",
        "NMF_all_W_H = {}\n",
        "\n",
        " \n",
        "for k in range(num_of_channels[0],num_of_channels[1],5):\n",
        "\n",
        "    print(\"**********\",k,\" Channels **********************\")\n",
        "    nmf = NMF(n_components=k, init='nndsvd', random_state=0,max_iter=100000)\n",
        "    W = nmf.fit_transform(nmf_np.transpose())\n",
        "    H = nmf.components_\n",
        "    H_new = np.concatenate((peaks_all.reshape(1,-1),H))\n",
        "\n",
        "    NMF_all_W_H[k] = [W,H]\n",
        "    #print(W.round(2))\n",
        "\n",
        "    #print(np.count_nonzero(W.round(2), axis=0))\n",
        "\n",
        "\n",
        "    LR_max_1, LR_max_2 = get_LR_max(NMF_all_W_H[k][0],sick_healthy_array)\n",
        "    cor_max = get_cor_max(W,sick_healthy_array)\n",
        "\n",
        "    file_path_weights = path_for_NMF+\"/Run\"+suffix +\"/W\" + str(k)+suffix +\".csv\"\n",
        "    np.savetxt(file_path_weights, X = W, delimiter=\",\")\n",
        "    file_path_channels =  path_for_NMF+\"/Run\"+suffix +\"/C\" + str(k)+suffix +\".csv\"\n",
        "    np.savetxt(file_path_channels, X = H_new, delimiter=\",\")\n",
        "    file_path_bestnum = path_for_NMF+\"/Run\"+suffix +\"/best_channels_num\" + str(k)+suffix +\".csv\"\n",
        "    np.savetxt(file_path_bestnum, X = [LR_max_1 ,LR_max_2,cor_max], delimiter=\",\")\n",
        "   \n",
        "\n",
        "    important_1 = H_new[0,H[cor_max,:]>1]\n",
        "    file_path_important = path_for_NMF+\"/Run\"+suffix +\"/important_peaks_COR_over1\" + str(k)+suffix +\".csv\"\n",
        "    np.savetxt(file_path_important, X =important_1, delimiter=\",\")\n",
        "    \n",
        "    important_2 = H_new[0,H[LR_max_1,:]>1]\n",
        "    file_path_important = path_for_NMF+\"/Run\"+suffix +\"/important_peaks_LRSTD_over1\" + str(k)+suffix +\".csv\"\n",
        "    np.savetxt(file_path_important, X =important_2, delimiter=\",\")\n",
        "    \n",
        "    important_3 = H_new[0,H[LR_max_2,:]>1]\n",
        "    file_path_important = path_for_NMF+\"/Run\"+suffix +\"/important_peaks_LR_over1\" + str(k)+suffix +\".csv\"\n",
        "    np.savetxt(file_path_important, X =important_3, delimiter=\",\")\n",
        "\n",
        "    print(important_1.shape)\n",
        "\n",
        "    print(np.intersect1d(important_1,important_2).shape)\n",
        "\n",
        "    print(np.intersect1d(important_1,important_3).shape)\n",
        "\n",
        "    print(np.intersect1d(important_3,important_2).shape)\n",
        "\n",
        "\n",
        "    important_1 = H_new[0,H[cor_max,:]>3]\n",
        "    file_path_important = path_for_NMF+\"/Run\"+suffix +\"/important_peaks_COR_over3\" + str(k)+suffix +\".csv\"\n",
        "    np.savetxt(file_path_important, X =important_1, delimiter=\",\")\n",
        "    \n",
        "    important_2 = H_new[0,H[LR_max_1,:]>3]\n",
        "    file_path_important = path_for_NMF+\"/Run\"+suffix +\"/important_peaks_LRSTD_over3\" + str(k)+suffix +\".csv\"\n",
        "    np.savetxt(file_path_important, X =important_2, delimiter=\",\")\n",
        "    \n",
        "    important_3 = H_new[0,H[LR_max_2,:]>3]\n",
        "    file_path_important = path_for_NMF+\"/Run\"+suffix +\"/important_peaks_LR_over3\" + str(k)+suffix +\".csv\"\n",
        "    np.savetxt(file_path_important, X =important_3, delimiter=\",\")\n",
        "\n",
        "    print(important_1.shape)\n",
        "\n",
        "    print(np.intersect1d(important_1,important_2).shape)\n",
        "\n",
        "    print(np.intersect1d(important_1,important_3).shape)\n",
        "\n",
        "    print(np.intersect1d(important_3,important_2).shape)\n",
        "\n",
        "\n",
        "    # file_path_maxarray =  path_for_NMF+\"/Run\"+suffix +\"/max_array\" + str(k)+suffix +\".csv\"\n",
        "    # np.savetxt(file_path_maxarray, X = max_array, delimiter=\",\")\n",
        "    # file_path_bestnum = path_for_NMF+\"/Run\"+suffix +\"/best_channels_num\" + str(k)+suffix +\".csv\"\n",
        "    # np.savetxt(file_path_bestnum, X = [max_max +num_of_channels[0],max_array[max_max],max_channel], delimiter=\",\")\n",
        "    \n",
        "    # #print(H.round(1))\n",
        "    # file_path_weights = path_for_NMF +\"weights\"+suffix +\"/W\" + str(k)+suffix +\".csv\"\n",
        "    # np.savetxt(file_path_weights, X = W, delimiter=\",\")\n",
        "    # file_path_channels =  path_for_NMF +\"channels\" + suffix +\"/C\" + str(k)+suffix +\".csv\"\n",
        "    # np.savetxt(file_path_channels, X = H, delimiter=\",\")\n",
        "\n",
        "# indices = mat_all.index.to_numpy()\n",
        "# file_path_indices = path_for_NMF +\"weights\"+suffix +\"/indices\"+suffix +\".csv\"\n",
        "# np.savetxt(file_path_indices, X = indices, delimiter=\",\")"
      ],
      "execution_count": null,
      "outputs": []
    },
    {
      "cell_type": "code",
      "metadata": {
        "id": "TYoGaT7ezHWG"
      },
      "source": [
        "num_of_channels = [4,40]\n",
        "nmf_np = mat_all.fillna(0).to_numpy()\n",
        "from sklearn.decomposition import NMF\n",
        "NMF_all_W_H = {}\n",
        "\n",
        "\n",
        "for k in range(num_of_channels[0],num_of_channels[1]):\n",
        "\n",
        "    print(\"**********\",k,\" Channels **********************\")\n",
        "    nmf = NMF(n_components=k, init='nndsvd', random_state=0)\n",
        "    W = nmf.fit_transform(nmf_np.transpose())\n",
        "    H = nmf.components_\n",
        "    H_new = np.concatenate((peaks_all.reshape(1,-1),H))\n",
        "\n",
        "    NMF_all_W_H[k] = [W,H]\n",
        "    #print(W.round(2))\n",
        "\n",
        "    #print(np.count_nonzero(W.round(2), axis=0))\n",
        "\n",
        "\n",
        "    get_LR_max(NMF_all_W_H[k][0],sick_healthy_array)\n",
        "    get_cor_max(W,sick_healthy_array)\n",
        "\n",
        "    # file_path_weights = path_for_NMF+\"/Run\"+suffix +\"/W\" + str(k)+suffix +\".csv\"\n",
        "    # np.savetxt(file_path_weights, X = W, delimiter=\",\")\n",
        "    # file_path_channels =  path_for_NMF+\"/Run\"+suffix +\"/C\" + str(k)+suffix +\".csv\"\n",
        "    # np.savetxt(file_path_channels, X = H_new, delimiter=\",\")\n",
        "    # file_path_maxarray =  path_for_NMF+\"/Run\"+suffix +\"/max_array\" + str(k)+suffix +\".csv\"\n",
        "    # np.savetxt(file_path_maxarray, X = max_array, delimiter=\",\")\n",
        "    # file_path_bestnum = path_for_NMF+\"/Run\"+suffix +\"/best_channels_num\" + str(k)+suffix +\".csv\"\n",
        "    # np.savetxt(file_path_bestnum, X = [max_max +num_of_channels[0],max_array[max_max],max_channel], delimiter=\",\")\n",
        "    \n",
        "    # #print(H.round(1))\n",
        "    # file_path_weights = path_for_NMF +\"weights\"+suffix +\"/W\" + str(k)+suffix +\".csv\"\n",
        "    # np.savetxt(file_path_weights, X = W, delimiter=\",\")\n",
        "    # file_path_channels =  path_for_NMF +\"channels\" + suffix +\"/C\" + str(k)+suffix +\".csv\"\n",
        "    # np.savetxt(file_path_channels, X = H, delimiter=\",\")\n",
        "\n",
        "# indices = mat_all.index.to_numpy()\n",
        "# file_path_indices = path_for_NMF +\"weights\"+suffix +\"/indices\"+suffix +\".csv\"\n",
        "# np.savetxt(file_path_indices, X = indices, delimiter=\",\")"
      ],
      "execution_count": null,
      "outputs": []
    },
    {
      "cell_type": "code",
      "metadata": {
        "id": "eCa1CgInrCBP"
      },
      "source": [
        "num_of_channels = [34,55]\n",
        "nmf_np = mat_all.fillna(0).to_numpy()\n",
        "from sklearn.decomposition import NMF\n",
        "NMF_all_W_H = {}\n",
        "\n",
        "\n",
        "for k in range(num_of_channels[0],num_of_channels[1]):\n",
        "\n",
        "    print(\"**********\",k,\" Channels **********************\")\n",
        "    nmf = NMF(n_components=k, init='nndsvd', random_state=0)\n",
        "    W = nmf.fit_transform(nmf_np.transpose())\n",
        "    H = nmf.components_\n",
        "    H_new = np.concatenate((peaks_all.reshape(1,-1),H))\n",
        "\n",
        "    NMF_all_W_H[k] = [W,H]\n",
        "    #print(W.round(2))\n",
        "\n",
        "    #print(np.count_nonzero(W.round(2), axis=0))\n",
        "\n",
        "\n",
        "    get_LR_max(NMF_all_W_H[k][0],sick_healthy_array)\n",
        "    get_cor_max(W,sick_healthy_array)\n",
        "\n",
        "    # file_path_weights = path_for_NMF+\"/Run\"+suffix +\"/W\" + str(k)+suffix +\".csv\"\n",
        "    # np.savetxt(file_path_weights, X = W, delimiter=\",\")\n",
        "    # file_path_channels =  path_for_NMF+\"/Run\"+suffix +\"/C\" + str(k)+suffix +\".csv\"\n",
        "    # np.savetxt(file_path_channels, X = H_new, delimiter=\",\")\n",
        "    # file_path_maxarray =  path_for_NMF+\"/Run\"+suffix +\"/max_array\" + str(k)+suffix +\".csv\"\n",
        "    # np.savetxt(file_path_maxarray, X = max_array, delimiter=\",\")\n",
        "    # file_path_bestnum = path_for_NMF+\"/Run\"+suffix +\"/best_channels_num\" + str(k)+suffix +\".csv\"\n",
        "    # np.savetxt(file_path_bestnum, X = [max_max +num_of_channels[0],max_array[max_max],max_channel], delimiter=\",\")\n",
        "    \n",
        "    # #print(H.round(1))\n",
        "    # file_path_weights = path_for_NMF +\"weights\"+suffix +\"/W\" + str(k)+suffix +\".csv\"\n",
        "    # np.savetxt(file_path_weights, X = W, delimiter=\",\")\n",
        "    # file_path_channels =  path_for_NMF +\"channels\" + suffix +\"/C\" + str(k)+suffix +\".csv\"\n",
        "    # np.savetxt(file_path_channels, X = H, delimiter=\",\")\n",
        "\n",
        "# indices = mat_all.index.to_numpy()\n",
        "# file_path_indices = path_for_NMF +\"weights\"+suffix +\"/indices\"+suffix +\".csv\"\n",
        "# np.savetxt(file_path_indices, X = indices, delimiter=\",\")"
      ],
      "execution_count": null,
      "outputs": []
    },
    {
      "cell_type": "code",
      "metadata": {
        "id": "__VQXwI-8Rml"
      },
      "source": [
        "num_of_channels = [55,70]\n",
        "nmf_np = mat_all.fillna(0).to_numpy()\n",
        "from sklearn.decomposition import NMF\n",
        "#NMF_all_W_H = {}\n",
        "\n",
        "\n",
        "for k in range(num_of_channels[0],num_of_channels[1]):\n",
        "\n",
        "    print(\"**********\",k,\" Channels **********************\")\n",
        "    nmf = NMF(n_components=k, init='nndsvd', random_state=0,max_iter=10000)\n",
        "    W = nmf.fit_transform(nmf_np.transpose())\n",
        "    H = nmf.components_\n",
        "    H_new = np.concatenate((peaks_all.reshape(1,-1),H))\n",
        "\n",
        "    NMF_all_W_H[k] = [W,H]\n",
        "    #print(W.round(2))\n",
        "\n",
        "    #print(np.count_nonzero(W.round(2), axis=0))\n",
        "\n",
        "\n",
        "    get_LR_max(NMF_all_W_H[k][0],sick_healthy_array)\n",
        "    get_cor_max(W,sick_healthy_array)\n",
        "\n",
        "    file_path_weights = path_for_NMF+\"/Run\"+suffix +\"/W\" + str(k)+suffix +\".csv\"\n",
        "    np.savetxt(file_path_weights, X = W, delimiter=\",\")\n",
        "    file_path_channels =  path_for_NMF+\"/Run\"+suffix +\"/C\" + str(k)+suffix +\".csv\"\n",
        "    np.savetxt(file_path_channels, X = H_new, delimiter=\",\")\n",
        "    # file_path_maxarray =  path_for_NMF+\"/Run\"+suffix +\"/max_array\" + str(k)+suffix +\".csv\"\n",
        "    # np.savetxt(file_path_maxarray, X = max_array, delimiter=\",\")\n",
        "    # file_path_bestnum = path_for_NMF+\"/Run\"+suffix +\"/best_channels_num\" + str(k)+suffix +\".csv\"\n",
        "    # np.savetxt(file_path_bestnum, X = [max_max +num_of_channels[0],max_array[max_max],max_channel], delimiter=\",\")\n",
        "    \n",
        "    # #print(H.round(1))\n",
        "    # file_path_weights = path_for_NMF +\"weights\"+suffix +\"/W\" + str(k)+suffix +\".csv\"\n",
        "    # np.savetxt(file_path_weights, X = W, delimiter=\",\")\n",
        "    # file_path_channels =  path_for_NMF +\"channels\" + suffix +\"/C\" + str(k)+suffix +\".csv\"\n",
        "    # np.savetxt(file_path_channels, X = H, delimiter=\",\")\n",
        "\n",
        "# indices = mat_all.index.to_numpy()\n",
        "# file_path_indices = path_for_NMF +\"weights\"+suffix +\"/indices\"+suffix +\".csv\"\n",
        "# np.savetxt(file_path_indices, X = indices, delimiter=\",\")"
      ],
      "execution_count": null,
      "outputs": []
    },
    {
      "cell_type": "code",
      "metadata": {
        "id": "bykBakiVbcPp"
      },
      "source": [
        ""
      ],
      "execution_count": null,
      "outputs": []
    },
    {
      "cell_type": "code",
      "metadata": {
        "id": "i8NYBm2rmNOp"
      },
      "source": [
        "X[:,13]"
      ],
      "execution_count": null,
      "outputs": []
    },
    {
      "cell_type": "code",
      "metadata": {
        "id": "8Zc4fF_9_hvi"
      },
      "source": [
        "[W,H] = NMF_all_W_H[39]\n",
        "# max_cor = 0\n",
        "for i,col in enumerate(H):\n",
        "  important_peaks = peaks_all[np.argwhere(H[i,:]>100)]\n",
        "  print(important_peaks.reshape([1,-1]))\n",
        "  print(i)\n",
        "  if 124 in important_peaks: print(\"*********\")\n",
        "  if 113.1 in important_peaks: print(\"*********\")\n",
        "\n",
        "    #cor = np.corrcoef(col,sick_healthy_array,rowvar=False)[1,0]\n",
        "   # print(cor)\n",
        "    #cor2 = np.correlate(col,sick_healthy_array)\n",
        "    # if np.abs(cor)> max_cor:\n",
        "    #   max_index = i\n",
        "    #   max_cor = np.abs(cor)\n",
        "    #   print(i)\n",
        "\n",
        "important_peaks = np.argwhere(H[13,:]>100)\n",
        "#np.max(H[0,:])\n",
        "# indices[important_peaks]\n",
        "\n",
        "# file_path_indices = path_for_NMF +\"weights\"+suffix +\"/indices\"+suffix +\".csv\"\n",
        "# np.savetxt(file_path_indices, X = indices, delimiter=\",\")\n",
        "\n",
        "# file_path_peaks = path_for_NMF +\"weights\"+suffix +\"/peaks_300common_3\"+suffix +\".csv\"\n",
        "# np.savetxt(file_path_peaks, X = indices[important_peaks], delimiter=\",\")\n",
        "# print(indices[important_peaks])"
      ],
      "execution_count": null,
      "outputs": []
    },
    {
      "cell_type": "code",
      "metadata": {
        "id": "A7RVn7eMJ_ON"
      },
      "source": [
        "from sklearn.linear_model import LogisticRegression\n",
        "\n",
        "sick_healthy_array = np.zeros(mat_all.shape[1])\n",
        "\n",
        "sick_healthy_array[0:493] = 1\n",
        "\n",
        "\n",
        "X = NMF_all_W_H[39][0]\n",
        "y = sick_healthy_array\n",
        "\n",
        "clf37 = LogisticRegression(random_state=0,max_iter=5000).fit(X, y)\n",
        "print(clf37.score(X, y))\n",
        "  # print(clf25.coef_)\n",
        "importance = np.std(X, 0)*clf37.coef_\n",
        "print(importance)\n",
        "print(np.max(np.abs(importance)))\n",
        "print(np.argmax(np.abs(importance)))\n",
        "\n",
        "print(np.max(importance))\n",
        "print(np.argmax(importance))\n",
        " # print(\"**************\")\n",
        "#X.shape"
      ],
      "execution_count": null,
      "outputs": []
    },
    {
      "cell_type": "code",
      "metadata": {
        "id": "Bszw53dFteRL"
      },
      "source": [
        "[W,H] = NMF_all_W_H[39]\n",
        "\n",
        "cor_array = []\n",
        "for i,col in enumerate(W.T):\n",
        "  #important_peaks = peaks_all[np.argwhere(H[i,:]>200)]\n",
        "  #print(important_peaks.reshape([1,-1]))\n",
        "  # print(i)\n",
        "  #if 124 in important_peaks: print(\"*********\")\n",
        " # if 113.1 in important_peaks: print(\"*********\")\n",
        "\n",
        "  cor = np.corrcoef(col,sick_healthy_array,rowvar=False)[1,0]\n",
        "  cor_array = np.append(cor_array,cor)\n",
        "print(cor_array)\n",
        "print(np.argmax(cor_array))\n",
        "\n",
        "print(np.argmax(np.abs(cor_array)))"
      ],
      "execution_count": null,
      "outputs": []
    },
    {
      "cell_type": "code",
      "metadata": {
        "id": "fOMALV-iIvqu"
      },
      "source": [
        "\n",
        "\n",
        "for k in NMF_all_W_H.keys():\n",
        "  X = NMF_all_W_H[k][0]\n",
        "  y = sick_healthy_array\n",
        "  clf25 = LogisticRegression(random_state=0,max_iter=5000).fit(X, y)\n",
        "  # clf25.predict(X[:2, :])\n",
        "  # array([0, 0])\n",
        "  # clf25.predict_proba(X[:2, :])\n",
        "  # array([[9.8...e-01, 1.8...e-02, 1.4...e-08],\n",
        "  #        [9.7...e-01, 2.8...e-02, ...e-08]])\n",
        "  print(clf25.score(X, y))\n",
        "  # print(clf25.coef_)\n",
        "  print(np.std(X, 0)*clf25.coef_)\n",
        "  print(np.max(np.abs(np.std(X, 0)*clf25.coef_)))\n",
        "  print(np.argmax(np.abs(np.std(X, 0)*clf25.coef_)))\n",
        "\n",
        "  print(\"**************\")"
      ],
      "execution_count": null,
      "outputs": []
    },
    {
      "cell_type": "code",
      "metadata": {
        "id": "typ7S2lbHMqZ"
      },
      "source": [
        "\n"
      ],
      "execution_count": null,
      "outputs": []
    },
    {
      "cell_type": "code",
      "metadata": {
        "id": "87MeEZCfLt1_"
      },
      "source": [
        "LR_importance = np.std(X, 0)*clf25.coef_\n",
        "max_LR_imp = np.argmax(LR_importance)"
      ],
      "execution_count": null,
      "outputs": []
    },
    {
      "cell_type": "code",
      "metadata": {
        "id": "gsNwpP6n84Jh"
      },
      "source": [
        "from sklearn.linear_model import LogisticRegression\n",
        "clf = LogisticRegression(random_state=0).fit(X, y)\n",
        "clf.predict(train[:2, :])\n",
        "# array([0, 0])\n",
        "clf.predict_proba(X[:2, :])\n",
        "# array([[9.8...e-01, 1.8...e-02, 1.4...e-08],\n",
        "#        [9.7...e-01, 2.8...e-02, ...e-08]])\n",
        "clf.score(X, y)"
      ],
      "execution_count": null,
      "outputs": []
    },
    {
      "cell_type": "code",
      "metadata": {
        "id": "bJEY0yTy9Zog"
      },
      "source": [
        "\n",
        "\n",
        "\n",
        "\n",
        "def get_max_corelated_channel(NMF_all_W_H,sick_healthy_array):\n",
        "  max_array = []\n",
        "\n",
        "  for (k,[W,H]) in NMF_all_W_H.items():\n",
        "    #print(W)\n",
        "    #print(k)\n",
        "    max_cor = 0\n",
        "    for i,col in enumerate(W.T):\n",
        "      cor = np.corrcoef(col,sick_healthy_array,rowvar=False)[1,0]\n",
        "    # print(cor)\n",
        "      #cor2 = np.correlate(col,sick_healthy_array)\n",
        "      max_cor = max(max_cor,np.abs(cor))\n",
        "\n",
        "    #print(\"**********\")\n",
        "    max_array = np.append(max_array,max_cor)\n",
        "    #print(max_cor)\n",
        "    #print(\"**********\")\n",
        "  #print(max_max)\n",
        "      #print(cor2/2130)#if np.\n",
        "  print(max_array)\n",
        "  max_max = np.argmax(max_array)\n",
        "\n",
        "  print(max_max)\n",
        "  print(max_array[max_max])\n",
        "  return max_max"
      ],
      "execution_count": null,
      "outputs": []
    },
    {
      "cell_type": "code",
      "metadata": {
        "id": "cyG316Ah9kUV"
      },
      "source": [
        "train[:2, :]\n",
        "y[:2]"
      ],
      "execution_count": null,
      "outputs": []
    },
    {
      "cell_type": "code",
      "metadata": {
        "id": "P7oOHM78F7JV"
      },
      "source": [
        "m.fit(X / np.std(X, 0), y)\n"
      ],
      "execution_count": null,
      "outputs": []
    },
    {
      "cell_type": "code",
      "metadata": {
        "id": "Vhz8r1zkm_TS"
      },
      "source": [
        "print(important_peaks.shape)\n",
        "print(important_peaks)"
      ],
      "execution_count": null,
      "outputs": []
    },
    {
      "cell_type": "code",
      "metadata": {
        "id": "k8MhdF3Iiw4F"
      },
      "source": [
        "max_max = get_max_corelated_channel(NMF_all_W_H,sick_healthy_array)\n",
        "\n",
        "[W,H] = NMF_all_W_H[max_max+list(NMF_all_W_H.keys())[0]]\n",
        "max_cor = 0\n",
        "for i,col in enumerate(W.T):\n",
        "    cor = np.corrcoef(col,sick_healthy_array,rowvar=False)[1,0]\n",
        "\n",
        "   # print(cor)\n",
        "    #cor2 = np.correlate(col,sick_healthy_array)\n",
        "    if np.abs(cor)> max_cor:\n",
        "      max_index = i\n",
        "      max_cor = np.abs(cor)\n",
        "      print(i)\n",
        "\n",
        "important_peaks = np.argwhere(H[0,:]>3)\n",
        "#np.max(H[0,:])\n",
        "# indices[important_peaks]\n",
        "\n",
        "# file_path_indices = path_for_NMF +\"weights\"+suffix +\"/indices\"+suffix +\".csv\"\n",
        "# np.savetxt(file_path_indices, X = indices, delimiter=\",\")\n",
        "\n",
        "# file_path_peaks = path_for_NMF +\"weights\"+suffix +\"/peaks_300common_3\"+suffix +\".csv\"\n",
        "# np.savetxt(file_path_peaks, X = indices[important_peaks], delimiter=\",\")\n",
        "# print(indices[important_peaks])"
      ],
      "execution_count": null,
      "outputs": []
    },
    {
      "cell_type": "code",
      "metadata": {
        "id": "EN8WxVjxLMOL"
      },
      "source": [
        "max_index"
      ],
      "execution_count": null,
      "outputs": []
    },
    {
      "cell_type": "code",
      "metadata": {
        "id": "lycyBQHuGmAH"
      },
      "source": [
        ""
      ],
      "execution_count": null,
      "outputs": []
    },
    {
      "cell_type": "code",
      "metadata": {
        "id": "G_VbO9bQ57F7"
      },
      "source": [
        ""
      ],
      "execution_count": null,
      "outputs": []
    },
    {
      "cell_type": "code",
      "metadata": {
        "id": "Hf-PrHLw-bFV"
      },
      "source": [
        "healthy_sick_array = np.zeros(mat_all.shape[1])\n",
        "\n",
        "healthy_sick_array[493:] = 1\n",
        "\n",
        "max_array = []\n",
        "\n",
        "for (k,[W,H]) in NMF_all_W_H.items():\n",
        "  #print(W)\n",
        "  print(k)\n",
        "  max_cor = 0\n",
        "  for i,col in enumerate(W.T):\n",
        "    cor = np.corrcoef(col,healthy_sick_array,rowvar=False)[1,0]\n",
        "   # print(cor)\n",
        "    #cor2 = np.correlate(col,sick_healthy_array)\n",
        "    max_cor = max(max_cor,np.abs(cor))\n",
        "    \n",
        "  #print(\"**********\")\n",
        "  max_array = np.append(max_array,max_cor)\n",
        "  print(max_cor)\n",
        "  print(\"**********\")\n",
        "#print(max_max)\n",
        "    #print(cor2/2130)#if np.\n",
        "\n",
        "max_max = np.argmax(max_array)\n",
        "\n",
        "[W,H] = NMF_all_W_H[max_max]\n",
        "max_cor = 0\n",
        "for i,col in enumerate(W.T):\n",
        "    cor = np.corrcoef(col,healthy_sick_array,rowvar=False)[1,0]\n",
        "   # print(cor)\n",
        "    #cor2 = np.correlate(col,sick_healthy_array)\n",
        "    if np.abs(cor)> max_cor:\n",
        "      max_index = i\n",
        "      max_cor = np.abs(cor)\n",
        "      print(i)\n",
        "\n",
        "important_peaks_h = np.argwhere(H[0,:]>30)\n",
        "#np.max(H[0,:])\n",
        "indices[important_peaks_h]\n",
        "\n",
        "# file_path_indices = path_for_NMF +\"weights\"+suffix +\"/indices\"+suffix +\".csv\"\n",
        "# np.savetxt(file_path_indices, X = indices, delimiter=\",\")\n",
        "\n",
        "file_path_peaks = path_for_NMF +\"weights\"+suffix +\"/peaks_h\"+suffix +\".csv\"\n",
        "np.savetxt(file_path_peaks, X = indices[important_peaks_h], delimiter=\",\")"
      ],
      "execution_count": null,
      "outputs": []
    },
    {
      "cell_type": "code",
      "metadata": {
        "id": "GbxNP_DIADVc"
      },
      "source": [
        "print(indices[important_peaks_h])\n",
        "print(indices[important_peaks])"
      ],
      "execution_count": null,
      "outputs": []
    },
    {
      "cell_type": "markdown",
      "metadata": {
        "id": "Vr_KS8DN57cu"
      },
      "source": [
        "END OF NOTEBOOK"
      ]
    },
    {
      "cell_type": "code",
      "metadata": {
        "id": "x1-lG5CzAujI"
      },
      "source": [
        "all_M_Z = get_m_z_best_values(df_collection)\n"
      ],
      "execution_count": null,
      "outputs": []
    },
    {
      "cell_type": "code",
      "metadata": {
        "id": "H7H1Mrz4H99k"
      },
      "source": [
        "#peaks,a, mat = find_common_peaks_and_matrix(df_collection['INFARCT-FULL_peaks.csv'])\n",
        "\n",
        "print(mat.shape)\n",
        "#mat[('m/z',50.2)]\n",
        "#mat.head\n",
        "#mat.columns\n",
        "mat.loc[50.2]\n",
        "print(mat.reindex(all_M_Z).shape)\n",
        "print(mat.reindex(all_M_Z).head)"
      ],
      "execution_count": null,
      "outputs": []
    },
    {
      "cell_type": "code",
      "metadata": {
        "id": "uOUAM1DqAxEI"
      },
      "source": [
        "nmf_df = pd.DataFrame(columns=all_M_Z, index =pd.MultiIndex.from_tuples([(\"a\",1)]))\n"
      ],
      "execution_count": null,
      "outputs": []
    },
    {
      "cell_type": "code",
      "metadata": {
        "id": "u2Yab7Sw9ows"
      },
      "source": [
        "\n",
        "# for [key,df] in df_collection.items():\n",
        "    \n",
        "#     peaks[key],all_grouped[key], all = find_common_peaks(df)\n",
        "#     allpeaks = np.append(allpeaks,peaks[key])\n",
        "#     #print(peaks.size)\n",
        "#     print(all.head)\n",
        "#     #print(df.head)\n",
        "\n",
        "for [key,df] in df_collection.items():\n",
        "    print(key)\n",
        "    print(df.shape)\n",
        "    print(nmf_df.shape)\n",
        "    peaks,all_grouped, all = find_common_peaks(df)\n",
        "    #allpeaks = np.append(allpeaks,peaks[key])\n",
        "    for j, col in df.iteritems():\n",
        "      if j%1000 == 0: print(j)\n",
        "      if j<4 : pass\n",
        "      else:\n",
        "\n",
        "        #nmf_df.loc[(key,j),all.loc[all.loc[:,(j,'m/z')].isin(all_M_Z),(j,'m/z')].values] = all.loc[all.loc[:,(j,'m/z')].isin(all_M_Z),(j,'Intensity')].values\n",
        "\n",
        "    #print(peaks.size)\n",
        " #   print(all.head)\n",
        "#     #print(df.head)\n",
        "# i=1\n",
        "# j=4\n",
        "# for i in all.columns.size:\n",
        "#   for j\n",
        "#   i+=1\n",
        "#   j+=1\n",
        "#   nmf_df.loc[(i,j),all.loc[all.loc[:,(i+3,'m/z')].isin(all_M_Z),(i+3,'m/z')].values] = all.loc[all.loc[:,(i+3,'m/z')].isin(all_M_Z),(i+3,'Intensity')].values\n",
        "#   if i%100 == 0 : print(i)"
      ],
      "execution_count": null,
      "outputs": []
    },
    {
      "cell_type": "code",
      "metadata": {
        "id": "dEQj0ASlO6Jc"
      },
      "source": [
        "all.dropna(1).count()"
      ],
      "execution_count": null,
      "outputs": []
    },
    {
      "cell_type": "code",
      "metadata": {
        "id": "xv8YGNRvPxG5"
      },
      "source": [
        "df.shape"
      ],
      "execution_count": null,
      "outputs": []
    },
    {
      "cell_type": "code",
      "metadata": {
        "id": "CHGIUWCCDCUd"
      },
      "source": [
        "nmf_df2 = nmf_df.copy()"
      ],
      "execution_count": null,
      "outputs": []
    },
    {
      "cell_type": "code",
      "metadata": {
        "id": "0vK_XGvHFcNs"
      },
      "source": [
        "nmf_df2.head()"
      ],
      "execution_count": null,
      "outputs": []
    },
    {
      "cell_type": "code",
      "metadata": {
        "id": "hFGMiML6L-Z-"
      },
      "source": [
        "nm"
      ],
      "execution_count": null,
      "outputs": []
    },
    {
      "cell_type": "code",
      "metadata": {
        "id": "ZwYS79Q-AaSv"
      },
      "source": [
        "file_path_mat =  path_for_NMF +\"matrix/mat_df.csv\"\n",
        "\n",
        "nmf_df.to_csv(file_path_mat)"
      ],
      "execution_count": null,
      "outputs": []
    },
    {
      "cell_type": "code",
      "metadata": {
        "id": "0NBtVyYmnqHx"
      },
      "source": [
        "#print(all)\n",
        "nmf_df"
      ],
      "execution_count": null,
      "outputs": []
    },
    {
      "cell_type": "code",
      "metadata": {
        "id": "FS6BOlJVwM73"
      },
      "source": [
        "all_M_Z = np.unique(allpeaks)\n",
        "nmf_df = pd.DataFrame(columns=all_M_Z, index = np.arange(3))\n",
        "\n",
        "all.loc[all.loc[:,(4,'m/z')].isin(all_M_Z),(4,'Intensity')]\n",
        "som_m_z = all.loc[all.loc[:,(4,'m/z')].isin(all_M_Z),(4,'m/z')].values[1]\n",
        "#nmf_df.loc[0,all.loc[all.loc[:,(4,'m/z')].isin(all_M_Z),(4,'m/z')].values[1]]\n",
        "# = all.loc[:,(4,'m/z')].isin(all_M_Z),(4,'Intensity')\n",
        "#nmf_df.columns == all.loc[all.loc[:,(4,'m/z')].isin(all_M_Z),(4,'m/z')].values[1]\n",
        "print(som_m_z)\n",
        "nmf_df.loc[1,som_m_z]\n",
        "nmf_df.loc[1,all.loc[all.loc[:,(4,'m/z')].isin(all_M_Z),(4,'m/z')].values] = all.loc[all.loc[:,(4,'m/z')].isin(all_M_Z),(4,'Intensity')].values\n",
        "#nmf_df = nmf_df.reindex(np.arange(arr.shape[0]))\n",
        "nmf_df\n",
        "i=4\n",
        "for column in all:\n",
        "  i+=1\n",
        "  nmf_df.loc[i,all.loc[all.loc[:,(i,'m/z')].isin(all_M_Z),(i,'m/z')].values] = all.loc[all.loc[:,(i,'m/z')].isin(all_M_Z),(i,'Intensity')].values\n",
        "  print(i)\n",
        "\n",
        "nmf_df.head(20)\n",
        "#all.head()"
      ],
      "execution_count": null,
      "outputs": []
    },
    {
      "cell_type": "code",
      "metadata": {
        "id": "SnV9aDxz9CkB"
      },
      "source": [
        "nmf_df = nmf_df.fillna(0)\n",
        "nmf_df.head(15)"
      ],
      "execution_count": null,
      "outputs": []
    },
    {
      "cell_type": "code",
      "metadata": {
        "id": "LSCCxSSqnPPc"
      },
      "source": [
        "nmf_df = pd.DataFrame(columns=all_M_Z, index =pd.MultiIndex.from_tuples([(\"a\",1),(\"a\",2),(\"b\",2)]))\n",
        "\n",
        "#all.columns()\n",
        "nmf_df.head"
      ],
      "execution_count": null,
      "outputs": []
    },
    {
      "cell_type": "code",
      "metadata": {
        "id": "k_6_FqeOWXeI"
      },
      "source": [
        "#print(all.loc[:,(4,\"m/z\")] in all_M_Z)\n",
        "#all.loc[all_M_Z,(4,\"Intensity\")]\n",
        "#filter = all.loc[:,(4,\"m/z\")] in all_M_Z\n",
        "all_1 = all\n",
        "(all.loc[:,(4,\"m/z\")]>100).sum()#.isin( all_M_Z).sum()"
      ],
      "execution_count": null,
      "outputs": []
    },
    {
      "cell_type": "code",
      "metadata": {
        "id": "RfM8qi1FEUMK"
      },
      "source": [
        "\n",
        "all_M_Z = np.unique(allpeaks)\n",
        "nmf_df = pd.DataFrame(columns=all_M_Z)\n",
        "for i,columns  in enumerate(all.columns):\n",
        "  \n",
        "  nmf_df.loc[i,all.loc[:,(i+4,\"m/z\")]] = all.loc[:,(i+4,\"Intensity\")]\n",
        "  # print(all.size)\n",
        "  # print(all_grouped.index)"
      ],
      "execution_count": null,
      "outputs": []
    },
    {
      "cell_type": "code",
      "metadata": {
        "id": "q-Z9HUmnYKwm"
      },
      "source": [
        "print(nmf_df.dropna(axis = 1, how = 'all').head())\n",
        "print(nmf_df.columns)"
      ],
      "execution_count": null,
      "outputs": []
    },
    {
      "cell_type": "code",
      "metadata": {
        "id": "I1jemc6-w3lY"
      },
      "source": [
        "print(all_grouped.loc[peaks,:].values)#.pivot(index=0, columns = 3))\n",
        "print(\"*********\")\n",
        "print(all_grouped.index)"
      ],
      "execution_count": null,
      "outputs": []
    },
    {
      "cell_type": "code",
      "metadata": {
        "id": "3Zh4UBNYx0zV"
      },
      "source": [
        "all_M_Z = np.unique(allpeaks)\n",
        "nmf_df = pd.DataFrame(columns=all_M_Z)\n",
        "nmf_df.loc[1,peaks] = all_grouped.loc[peaks,:].values.reshape(-1)\n",
        "print(nmf_df.loc[:,peaks]  )#= NaN# all_grouped.loc[peaks]\n",
        "#print(nmf_df)\n",
        "\n",
        "\n",
        "\n",
        "\n"
      ],
      "execution_count": null,
      "outputs": []
    },
    {
      "cell_type": "code",
      "metadata": {
        "id": "UutbvkjRYsUs"
      },
      "source": [
        "\n"
      ],
      "execution_count": null,
      "outputs": []
    },
    {
      "cell_type": "code",
      "metadata": {
        "id": "DFoYdoDtxM8z"
      },
      "source": [
        "##### take 255 highest of all filesand all pixels and see if they intersect\n",
        "\n",
        "#### take 255 highest and arrange their values in an NMF matrix\n",
        "\n",
        "### run NMF and see what peaks come up"
      ],
      "execution_count": null,
      "outputs": []
    },
    {
      "cell_type": "code",
      "metadata": {
        "id": "IIDIUvVV4CDg"
      },
      "source": [
        "print(df5.head(200))\n",
        "#df6_ = df5.pivot_table(index=0, columns = 3)\n",
        "# df5_ = df5.stack()\n",
        "# print(df5_.head(1420))"
      ],
      "execution_count": null,
      "outputs": []
    },
    {
      "cell_type": "code",
      "metadata": {
        "id": "7IiMXqNZgqKt"
      },
      "source": [
        "#g = df7#.groupby(level=df7.index.names)\n",
        "#df11 = df10.groupby(by=[0,'m/z'],axis=0)\n",
        "#df11.head(700)\n",
        "df = df_collection['INFARCT-FULL_peaks.csv']\n",
        "df_numeric = df.iloc[:,4:]\n",
        "#print(\"**************\")\n",
        "#print(df_numeric.iloc[:,200:].head())#.astype('float')>100).sum())\n",
        "\n",
        "df_legend = df.iloc[:,3:4]\n",
        "df_all = df_legend.join(df_numeric).reset_index(drop=True)\n",
        "#print(df_all.iloc[:,200:].head())#.astype('float')>100).sum())\n",
        "\n",
        "l = list(range(int(len(df_all)/2)))\n",
        "df_index = pd.DataFrame([val for pair in zip(l, l) for val in pair])\n",
        "\n",
        "df_all = df_index.join(df_all)\n",
        "#print((df_all>100).sum())\n",
        "#print(df_all.iloc[:,200:].tail())#.astype('float')>100).sum())\n",
        "\n",
        "df_all = df_all.pivot(index=0, columns = 3).astype('float').round(1)\n",
        "print(df_all.head)\n",
        "#print(df_all.iloc[:,200:].tail())#.astype('float')>100).sum())\n",
        "df_stacked = df_all.stack(0)\n",
        "print(df_stacked.head)\n",
        "print(df_stacked.shape)\n",
        "\n",
        "#print(len(df_all))\n",
        "#print(df_all.head)\n",
        "#df7 = df6.astype('float').round(2)\n",
        "#df10 = df7.stack(0)\n",
        "grou = df_stacked.groupby(by=[0,'m/z'],axis=0)\n",
        "grouped = df_stacked.groupby(by=[0,'m/z'],axis=0).sum().groupby(by = 'm/z')\n",
        "sumed = grou.sum().unstack()\n",
        "\n",
        "print(sumed.head(20))\n"
      ],
      "execution_count": null,
      "outputs": []
    },
    {
      "cell_type": "code",
      "metadata": {
        "id": "Lunqdmr_bzAG"
      },
      "source": [
        "print(sumed.shape)\n",
        "#print(sumed.isna().sum(0))\n",
        "grou = df_stacked.groupby(by=[0,'m/z'],axis=0)\n",
        "\n",
        "print(grou.sum().unstack(0).head())"
      ],
      "execution_count": null,
      "outputs": []
    },
    {
      "cell_type": "code",
      "metadata": {
        "id": "nB2551bqZxor"
      },
      "source": [
        "for state, frame in grou:\n",
        "    #print(f\"First 2 entries for {state!r}\")\n",
        "    print(\"------------------------\")\n",
        "    print(frame.head(50), end=\"\\n\\n\")\n"
      ],
      "execution_count": null,
      "outputs": []
    },
    {
      "cell_type": "code",
      "metadata": {
        "id": "w12cs1I34Ch1"
      },
      "source": [
        "df6.head()"
      ],
      "execution_count": null,
      "outputs": []
    },
    {
      "cell_type": "code",
      "metadata": {
        "id": "53d33sy0yWpY"
      },
      "source": [
        "df8.head"
      ],
      "execution_count": null,
      "outputs": []
    },
    {
      "cell_type": "code",
      "metadata": {
        "id": "NAVA0pVd4Y7O"
      },
      "source": [
        "df10.head()"
      ],
      "execution_count": null,
      "outputs": []
    },
    {
      "cell_type": "code",
      "metadata": {
        "id": "9rrPPBzR4kd6"
      },
      "source": [
        "for i"
      ],
      "execution_count": null,
      "outputs": []
    },
    {
      "cell_type": "code",
      "metadata": {
        "id": "0R4BA3i7Deur"
      },
      "source": [
        "\n",
        "##### fix / vhamgr\n",
        "\n",
        "#### every 5 pixels are being meaned with each other + rounded up \n",
        "m = 8\n",
        "l = list(range(m))\n",
        "df4 = pd.DataFrame([val for pair in zip(l, l) for val in pair])\n",
        "for i in range(int(160/(2*m))):   ##### does not cover all\n",
        "  print(i)\n",
        "  print(\"*********************\")\n",
        "  df_partial =  df3[0+i*2*m:2*m+i*2*m].reset_index()\n",
        "  # print(df_partial.head())\n",
        "  # print(df4.head())\n",
        "  \n",
        "  df5 = df4.join(df_partial)\n",
        "  print(df5.head(5))\n",
        "  \n",
        "  df6 = df5.pivot(index=0, columns = 3)\n",
        "  df7 = df6.astype('float').round(2)\n",
        "  #df7.columns\n",
        "  print(df7.head(20))\n",
        "\n",
        "  # df8  = df7.iloc[0:20]\n",
        "\n",
        "  df10 = df7.stack(0)\n",
        "  print(df10.head(20))\n",
        "  df11 = df10.groupby(by = 'm/z')\n",
        "  #df11 = df10.groupby(level = [0])\n",
        "\n",
        "  df12 = df11.sum()\n",
        "  print(df12.head())\n",
        "df_partial.head()"
      ],
      "execution_count": null,
      "outputs": []
    },
    {
      "cell_type": "code",
      "metadata": {
        "id": "2pA-brv-uKld"
      },
      "source": [
        "l = list(range(80))\n",
        "df4 = pd.DataFrame([val for pair in zip(l, l) for val in pair])\n",
        "df5 = df4.join(df3)\n",
        "#df5\n",
        "df6 = df5.pivot(index=0, columns = 3)\n",
        "df7 = df6.astype('float').round(1)\n",
        "#df7.columns\n",
        "print(df7.head(20))\n",
        "\n",
        "df8  = df7.iloc[0:20]\n",
        "\n",
        "df10 = df8.stack(0)\n",
        "print(df10.head(20))\n",
        "df11 = df10.groupby(by = 'm/z')\n",
        "#df11 = df10.groupby(level = [0])\n",
        "\n",
        "df12 = df11.sum()\n",
        "print(df11.head)\n",
        "print(df12.head(10))\n",
        "\n",
        "\n",
        "#k = df7.index.names\n",
        "#print(k)\n",
        "#df7.groupby(level=df7.index.names).count()\n",
        "\n",
        "#df8 = df7.groupby('m/z')\n",
        "#df8\n"
      ],
      "execution_count": null,
      "outputs": []
    },
    {
      "cell_type": "code",
      "metadata": {
        "id": "0mGf_Un88EWk"
      },
      "source": [
        "df11 = df10.groupby(by = 'm/z')\n",
        "df10.head(30)"
      ],
      "execution_count": null,
      "outputs": []
    },
    {
      "cell_type": "code",
      "metadata": {
        "id": "SsLw_aJdp7Lv"
      },
      "source": [
        "#df7.columns = df7.columns.str.strip(\n",
        "df7#.pivot(columns=[4,:])\n"
      ],
      "execution_count": null,
      "outputs": []
    },
    {
      "cell_type": "code",
      "metadata": {
        "id": "b9mqXCvYkMS4"
      },
      "source": [
        "# df6_ = df6.loc[1].astype('float').round(2)\n",
        "# df6__= df6.loc[2].astype('float').round(2)\n",
        "\n",
        "# df8 = df6_.groupby(level = 1)\n",
        "# df10 = pd.DataFrame(df6_)\n",
        "\n"
      ],
      "execution_count": null,
      "outputs": []
    },
    {
      "cell_type": "code",
      "metadata": {
        "id": "kbX-2pwOQGb1"
      },
      "source": [
        ""
      ],
      "execution_count": null,
      "outputs": []
    },
    {
      "cell_type": "markdown",
      "metadata": {
        "id": "0T8eV_qT1E2N"
      },
      "source": [
        ""
      ]
    },
    {
      "cell_type": "code",
      "metadata": {
        "id": "1gQ4HhlqI8b2"
      },
      "source": [
        " \n",
        "def create_df_collection(  path_to_files =\"/content/drive/MyDrive/Katy/heartProject/heartData/\"):\n",
        "  df_collection = {}\n",
        "  with os.scandir(path_to_files) as entries:\n",
        "      for entry in entries:\n",
        "          print(entry.name)\n",
        "          file_path = path_to_files + entry.name\n",
        "\n",
        "        #f = open(file_path)\n",
        "         # reader = csv.reader(f)\n",
        "         # ncol = len(next(reader))\n",
        "         \n",
        "\n",
        "          #df2 = pd.read_csv(file_path)\n",
        "          if test:\n",
        "            df_collection[entry.name] = pd.read_csv(file_path).transpose()[300:460]  #### remove [0:50]\n",
        "          else:\n",
        "            df_collection[entry.name] = pd.read_csv(file_path).transpose()\n",
        "          ncol = len(df_collection[entry.name].columns)\n",
        "          l = [\"c_{}\".format(i) for i in range(ncol)]\n",
        "          df_collection[entry.name].columns = l\n",
        "  return df_collection\n",
        "\n",
        "#df_collection[1390].head()"
      ],
      "execution_count": null,
      "outputs": []
    },
    {
      "cell_type": "code",
      "metadata": {
        "id": "XWgvL5GS4DeE"
      },
      "source": [
        ""
      ],
      "execution_count": null,
      "outputs": []
    },
    {
      "cell_type": "code",
      "metadata": {
        "id": "6qzPUoLDq2iQ"
      },
      "source": [
        "# DF_matrix = pd.read_csv(\"/content/drive/MyDrive/Katy/heartProject/NMF_25_4_2021/matrix/8.csv\")\n",
        "# DF_matrix_np =np.fromfile(\"/content/drive/MyDrive/Katy/heartProject/NMF_25_4_2021/matrix/8.csv\",dtype=float)"
      ],
      "execution_count": null,
      "outputs": []
    },
    {
      "cell_type": "code",
      "metadata": {
        "id": "PKrDAVCGrTef"
      },
      "source": [
        "# #DF_matrix.head()\n",
        "# DF_matrix_np.shape\n",
        "# DF_matrix_col = DF_matrix_np.reshape((-1,16624))[0]\n",
        "# DF_matrix_col\n",
        "# DF_matrix_np.reshape((-1,16624))[0]\n",
        "# #file_path_matrics = path_for_NMF +\"matrix/columns.csv\"\n",
        "# #np.savetxt(file_path_matrics, X =DF_matrix_np[0:16624]  , delimiter=\",\")"
      ],
      "execution_count": null,
      "outputs": []
    },
    {
      "cell_type": "code",
      "metadata": {
        "id": "WXmdCBl39RTs"
      },
      "source": [
        "def create_seperate_DF(df):\n",
        "  ### creating DF of peaks values\n",
        "  #print(df['c_1'])\n",
        "  df_peaks = df[df['c_0'] != 'X']\n",
        "  df_peaks = df_peaks.iloc[:,6:].copy().reset_index(drop = True)\n",
        "\n",
        "  \n",
        "  #df_peaks.head()\n",
        "  ### creating DF of peaks positions\n",
        "  df_positions = df[df['c_0'] == 'X']\n",
        "  df_positions = df_positions.iloc[:,6:].copy().reset_index(drop = True)\n",
        "  \n",
        "  #df_positions\n",
        "  DFs = [ df_positions, df_peaks]\n",
        "  print(df_positions.head())\n",
        "  print(df_peaks.head())\n",
        "\n",
        "  return DFs"
      ],
      "execution_count": null,
      "outputs": []
    },
    {
      "cell_type": "code",
      "metadata": {
        "id": "MQfRTX9lO5PJ"
      },
      "source": [
        ""
      ],
      "execution_count": null,
      "outputs": []
    },
    {
      "cell_type": "code",
      "metadata": {
        "id": "PXsEdZxAS1xk"
      },
      "source": [
        "### sum together close peaks (for single pixel) if m/z is as close as 0.025\n",
        "def collect_close_peaks_of_NMFmat(M2Z_array ,NMFmat_copy):\n",
        "  \n",
        "  NMFmat = NMFmat_copy\n",
        "  NMFmat_new = np.zeros_like(NMFmat_copy)\n",
        "  NMFmat_new[:,0] += NMFmat[:,0]\n",
        "  M2Z_array_new = np.array([])\n",
        "  j = 0\n",
        "  for i in range(len(M2Z_array)-1):\n",
        "      NMFmat_new[:,j] += NMFmat[:,i]\n",
        "      # if M2Z_array[i+1] == -1:\n",
        "      #     print(\"$$$$$$$$$$$$$$$$$$$$$$\") \n",
        "      # print()\n",
        "      if M2Z_array[i+1]-M2Z_array[i]> 0.05:    #####0.025:\n",
        "        \n",
        "      #     #NMFmat[i,:] = np.nan   \n",
        "      # else:\n",
        "        #print([i,j])\n",
        "        #print(M2Z_array_new)\n",
        "        #print(M2Z_array[i])\n",
        "        #NMFmat_new[:,j] += NMFmat[:,i]\n",
        "        M2Z_array_new = np.concatenate([M2Z_array_new, [M2Z_array[i]]])\n",
        "        j +=1\n",
        "\n",
        "  NMFmat_new[:,j] += NMFmat[:,i]\n",
        "  M2Z_array_new = np.concatenate([M2Z_array_new, [M2Z_array[i]]])    ### add last one \n",
        "  #print(NMFmat_new[0:5,0:12])\n",
        "\n",
        "  idx = np.argwhere(np.all(NMFmat_new[..., :] == 0, axis=0))\n",
        "  #print(NMFmat_new.shape)\n",
        "  #print(idx2)\n",
        "  #print(NMFmat_new[:,0:5].transpose())\n",
        "  \n",
        "  NMFmat_new = np.delete(NMFmat_new, idx, axis=1)\n",
        "#  M2Z_array_new = np.delete(M2Z_array_new, idx)\n",
        "  print(NMFmat_new.shape)\n",
        "  print(M2Z_array_new.shape)\n",
        "  \n",
        "  \n",
        "  idx2 = np.argwhere(np.all(np.isnan(NMFmat_new[..., :]), axis=0))\n",
        "\n",
        "  NMFmat_new = np.delete(NMFmat_new, idx2, axis=1)\n",
        "  M2Z_array_new = np.delete(M2Z_array_new, idx2)\n",
        "\n",
        "  #idx = np.argwhere(np.all(NMFmat_new[..., :] == 0, axis=0))\n",
        "  #idx2 = np.argwhere(np.all(np.isnan(NMFmat_new[..., :]), axis=0))\n",
        "  #print(\"=============================\")\n",
        "\n",
        "  # print(idx)\n",
        "  # print(idx2)\n",
        "  #print(NMFmat_new.shape)\n",
        "  #print(M2Z_array_new.shape)\n",
        "  \n",
        "\n",
        " # print(i)\n",
        " # print(M2Z_array_new.shape)\n",
        " # print(NMFmat_new.shape)\n",
        "  return M2Z_array_new, NMFmat_new\n"
      ],
      "execution_count": null,
      "outputs": []
    },
    {
      "cell_type": "code",
      "metadata": {
        "id": "ysEpCiOjEh4E"
      },
      "source": [
        "def create_multinedx_NMF_df(df_collection_dict):\n",
        "  for [key,df_i] in df_coll.items( ):\n",
        "    print(\"***************************************\")\n",
        "    print(key)\n",
        "    [pos, peaks] = create_seperate_DF(df_i)\n",
        "    pos_np = pos.astype(float).to_numpy()\n",
        "    peaks_np = peaks.astype(float).to_numpy()\n",
        "    print(pos_np.shape)\n",
        "    print(peaks_np.shape)\n",
        "\n"
      ],
      "execution_count": null,
      "outputs": []
    },
    {
      "cell_type": "code",
      "metadata": {
        "id": "ikcN9zJCHIP4"
      },
      "source": [
        "\n",
        "\n",
        "def create_NMFmatrix_from_dict(df_collection_dict,path_to_csv  = \"/content/drive/MyDrive/Katy/heartProject/CSV_high_peaks/\"):\n",
        "  M2z_dict = {}\n",
        "  NMF_mat_dict = {}\n",
        "  Label_dict = {}\n",
        "  pos_u_all = np.array([])\n",
        "\n",
        "  for [key,df_i] in df_coll.items( ):\n",
        "    print(\"***************************************\")\n",
        "    print(key)\n",
        "    [pos, peaks] = create_seperate_DF(df_i)\n",
        "    pos_np = pos.astype(float).to_numpy()\n",
        "    peaks_np = peaks.astype(float).to_numpy()\n",
        "    print(pos_np.shape)\n",
        "    print(peaks_np.shape)\n",
        "\n",
        "\n",
        "    pos_u = np.unique(pos_np.reshape([-1]))\n",
        "    \n",
        "    #print(all_u.shape)\n",
        "    pos_u = pos_u[~np.isnan(pos_u)]\n",
        "    pos_round = pos_u.round()\n",
        "    pos_round = np.unique(pos_round)\n",
        "    print(\"unique values: \" + str(pos_u.shape))\n",
        "    print(\"rounded values: \" + str(pos_round.shape))\n",
        "      \n",
        "    #print(pos_np.shape)\n",
        "    #print(len(all_u))\n",
        "    num_of_pixels = pos_np.shape[0]\n",
        "#    num_of_unique_M2Z = len(pos_u)\n",
        "    num_of_unique_M2Z = len(pos_round)\n",
        "\n",
        "    print(num_of_pixels)\n",
        "    #all_NMF_array = np.zeros(shape = [num_of_unique_M2Z,num_of_pixels])\n",
        "    p#rint(all_NMF_array.shape)\n",
        "\n",
        "\n",
        "\n",
        "    num_of_pixels = pos_np.shape[0]\n",
        "    all_NMF_array = np.zeros(shape = [len(pos_round),num_of_pixels])\n",
        "\n",
        "    for i,m2z in enumerate(pos_round) :\n",
        "      all_NMF_array[i,np.where(pos_np==pos_u[i])[0]] = peaks_np[np.where(pos_np==pos_u[i])]\n",
        "      if i % 5000 ==0 : \n",
        "        print(\"finished column \" + str(i) + \" of \" + str(num_of_unique_M2Z) + \" : \" + str(i/num_of_unique_M2Z))\n",
        "\n",
        "\n",
        "    all_NMF_array = all_NMF_array.transpose()\n",
        "    print(all_NMF_array.shape)\n",
        "\n",
        "      #### collect peaks which are close up to 0.025\n",
        "    M2Z_new ,NMFmat_new = collect_close_peaks_of_NMFmat(pos_u, all_NMF_array)\n",
        "      ####save to dictionary\n",
        "    pos_u_all = np.concatenate([pos_u_all,pos_u])\n",
        "    M2z_dict[key] = M2Z_new\n",
        "    NMF_mat_dict[key] = NMFmat_new\n",
        "    #print(key.lower())\n",
        "    Label_dict[key] = 1 if \"infarct\" in key.lower() else 0\n",
        "\n",
        "    # print(\"here******************************\")\n",
        "    # print(Label_dict)\n",
        "    # print(M2Z_new.shape)\n",
        "    # print(NMFmat_new.shape)\n",
        "    \n",
        "      ###save to file\n",
        "    x = np.concatenate(([M2Z_new],NMFmat_new))\n",
        "\n",
        "    file_path =path_for_NMF +\"matrix/NMFmat_new_200_pixels_\" + str(key)\n",
        "    np.savetxt(file_path, X = x , delimiter=\",\")\n",
        "  return M2z_dict, NMF_mat_dict, Label_dict\n",
        "\n"
      ],
      "execution_count": null,
      "outputs": []
    },
    {
      "cell_type": "code",
      "metadata": {
        "id": "4hHl7tY2NZ1B"
      },
      "source": [
        "# M2z_dic.keys()"
      ],
      "execution_count": null,
      "outputs": []
    },
    {
      "cell_type": "code",
      "metadata": {
        "id": "gKzXyXJLsqqC"
      },
      "source": [
        "# #### If i already hace a csv of the NMF matrix..\n",
        "\n",
        "\n",
        "# def create_DF_back_from_csv(path = path_for_saved_NMF_matrices):\n",
        "\n",
        "#   df_dict = {}\n",
        "\n",
        "#   with os.scandir(path) as entries:\n",
        "#       for entry in entries:\n",
        "#         print(entry.name)\n",
        "#         file_path = path + entry.name\n",
        "#         df_dict[entry.name] = pd.read_csv(file_path)\n",
        "#         # print(df_dict[entry.name].head())\n",
        "#         # print(df_dict[entry.name].shape)\n",
        "\n",
        "\n",
        "#   return df_dict"
      ],
      "execution_count": null,
      "outputs": []
    },
    {
      "cell_type": "code",
      "metadata": {
        "id": "mKV2GxNRs3QX"
      },
      "source": [
        "# ###check if NMF matrices are the same    ####TODO: remove later!!!\n",
        "# np.set_printoptions(threshold=2000,precision = 2, suppress=True)\n",
        "\n",
        "# #M2z_dic, NMF_mat_dic\n",
        "\n",
        "# #### create dictionary for creating dataframe\n",
        "# # df_dic = {}\n",
        "# # #first= True\n",
        "# # for (key,M2Z) in M2z_dic.items():\n",
        "# #   df_dic[key] = pd.DataFrame(data = NMF_mat_dic[key], columns = M2Z)\n",
        "# #   print(key)\n",
        "# #   print(df_dic[key].shape)\n",
        "# #   print(df_dic[key].head())\n",
        "\n",
        "# temp_df_dic = {}\n",
        "# #first= True\n",
        "# for (key,M2Z) in M2z_dic.items():\n",
        "#   temp_df_dic[key] = pd.DataFrame(data = NMF_mat_dic[key], columns = M2Z)\n",
        "#   print(key)\n",
        "#   print(temp_df_dic[key].shape)\n",
        "#   print(temp_df_dic[key].head())\n",
        "\n",
        "# np.set_printoptions(threshold=2000,precision = 2, suppress=True)\n",
        "\n",
        "# df_dict_from_files= create_DF_back_from_csv()\n",
        "\n",
        "# for (key,df) in df_dict_from_files.items():\n",
        "#   print(key)\n",
        "#   print(df.shape)\n",
        "#   print(df.head())\n",
        "\n",
        "\n"
      ],
      "execution_count": null,
      "outputs": []
    },
    {
      "cell_type": "code",
      "metadata": {
        "id": "bVQhs-FClGHW"
      },
      "source": [
        "\n",
        "\n",
        "from sklearn.decomposition import NMF\n",
        "\n",
        "\n",
        "#### create dictionary for creating dataframe\n",
        "\n",
        "def merge_DFs_into_train_set(M2z_dic, NMF_mat_dic, Label_dic):\n",
        "  df_dic = {}\n",
        "  #first= True\n",
        "  \n",
        "###  DF_from_two_dictionaries(M2z_dic,NMF_mat_dic )   ##TODO : maybe turn into a function since i use several times - \n",
        "  for (key,M2Z) in M2z_dic.items():\n",
        "    df_dic[key] = pd.DataFrame(data = NMF_mat_dic[key], columns = M2Z)\n",
        "    #####################################\n",
        "    df_dic[key][-1] = Label_dic[key] \n",
        "  ### create dataframe of all files\n",
        "\n",
        "  df_all = pd.concat(df_dic.values(), axis = 0,keys = df_dic.keys() , ignore_index=True)  \n",
        "  #print(\"+++++++++++++++++++++++++++++++++++++\")\n",
        "  #print(df_all[-1])\n",
        " # print(df_all.isnan()\n",
        "\n",
        "  is_NaN = df_all.isnull()\n",
        "  row_has_NaN = is_NaN.all(axis=1)\n",
        "  #rows_with_NaN = df[row_has_NaN]\n",
        "  #print(\"&&&&&&&&&&&&&&&&&&&&&&\")\n",
        "  #print(row_has_NaN)\n",
        "  #print( (df_all.isnull().sum()==12).sum())\n",
        "  ### collect close peaks of all files\n",
        "  mat = df_all.to_numpy()\n",
        "  #print(\"000000000000000000000000000000000000\")\n",
        "  #print(mat[0:5,0:11])\n",
        "  M2Z = df_all.columns\n",
        "  M2Z2  , mat2= collect_close_peaks_of_NMFmat(M2Z ,mat)\n",
        "  # print(\"000000000000000000000000000000000000\")\n",
        "  # print(mat2[0:10,:])\n",
        "  #print(\"peaks before collect\")\n",
        "  #print(mat.shape)\n",
        "  #print(M2Z.shape)\n",
        "  #print(\"peaks after collect\")\n",
        "  #print(mat2.shape)\n",
        "  #print(M2Z2.shape)\n",
        "  \n",
        "  NMF_train = mat2.transpose()\n",
        "\n",
        "  NMF_train[np.isnan(NMF_train)] = 0\n",
        " \n",
        "\n",
        "\n",
        "  file_path_matrics = path_for_NMF +\"matrix/matrix_backup.csv\"\n",
        "  np.savetxt(file_path_matrics, X =NMF_train  , delimiter=\",\")\n",
        "  file_path_matrics = path_for_NMF +\"matrix/col_backup.csv\"\n",
        "  np.savetxt(file_path_matrics, X =M2Z2  , delimiter=\",\")\n",
        "  return NMF_train, M2Z2\n",
        "\n",
        "\n",
        "def train_NMF_on_train_set(NMF_train, backwards = False):\n",
        "  NMF_all_W_H = {}\n",
        "  #NMF_all_H = {}\n",
        "\n",
        "  if backwards == True:\n",
        "      NMF_train = NMF_train.transpose()\n",
        "\n",
        "\n",
        "\n",
        "  #for k in range(2,9):\n",
        "  for k in range(1,9):\n",
        "  \n",
        "    print(k)\n",
        "    nmf = NMF(n_components=k, init='nndsvd', random_state=0)\n",
        "    W = nmf.fit_transform(NMF_train.transpose())\n",
        "    H = nmf.components_\n",
        "    NMF_all_W_H[k] = [W,H]\n",
        "    #print(W)\n",
        "\n",
        "    file_path_weights = path_for_NMF +\"weights/\" + str(k)+ \".csv\"\n",
        "    np.savetxt(file_path_weights, X = W, delimiter=\",\")\n",
        "    file_path_channels =  path_for_NMF +\"channels/\" + str(k)+ \".csv\"\n",
        "    np.savetxt(file_path_channels, X = H, delimiter=\",\")\n",
        "\n",
        "  return NMF_all_W_H\n",
        "\n",
        "\n"
      ],
      "execution_count": null,
      "outputs": []
    },
    {
      "cell_type": "code",
      "metadata": {
        "id": "KGweOvkudpLb"
      },
      "source": [
        "###########    new Main     ###################\n",
        "\n",
        "\n",
        "\n",
        "df_coll = create_df_collection()\n",
        "\n",
        "M2z_dic, NMF_mat_dic, labels_dic = create_NMFmatrix_from_dict(df_collection_dict=df_coll)\n",
        "# ### TODO: or take from file..\n",
        "\n",
        "#####train_matrix, M2Z =  merge_DFs_into_train_set(M2z_dic, NMF_mat_dic, labels_dic)    ###relize what to to with M2Z\n",
        "\n",
        "\n",
        "####NMF_WH = train_NMF_on_train_set(train_matrix)"
      ],
      "execution_count": null,
      "outputs": []
    },
    {
      "cell_type": "code",
      "metadata": {
        "id": "DeGocDHE9afw"
      },
      "source": [
        "  M2Z.shape\n",
        "  M2Z_tr = M2Z.reshape([1,7711])\n",
        "  file_path_matrics = path_for_NMF +\"matrix/col_backup_tr.csv\"\n",
        "  np.savetxt(file_path_matrics, X =M2Z_tr , delimiter=\",\")"
      ],
      "execution_count": null,
      "outputs": []
    },
    {
      "cell_type": "code",
      "metadata": {
        "id": "bZDXxRxT6Ppv"
      },
      "source": [
        "print(train_matrix[9,:])"
      ],
      "execution_count": null,
      "outputs": []
    },
    {
      "cell_type": "code",
      "metadata": {
        "id": "kjQ7W2iYVAEc"
      },
      "source": [
        "import torch\n",
        "from torch.utils.data import TensorDataset, DataLoader\n",
        "from torch import nn\n",
        "import torch.optim as optim\n",
        "\n",
        "\n",
        "def train_NN_on_trainset(trainset):\n",
        "\n",
        "  print(trainset.shape)\n",
        "  tensor_x = torch.Tensor(trainset.transpose().reshape([trainset.shape[1],trainset.shape[0]])).type(torch.FloatTensor) # transform to torch tensor\n",
        "  tensor_y = torch.zeros((trainset.shape[1])).type(torch.LongTensor)\n",
        "  print(tensor_x.shape)\n",
        "  print(tensor_y.type())\n",
        "  my_dataset = TensorDataset(tensor_x,tensor_y) # create your datset\n",
        "  my_dataloader = DataLoader(my_dataset) # create your dataloader\n",
        "\n",
        "  #train = pd.DataFrame(trainset)\n",
        "\n",
        "  \n",
        "  # forward + backward + optimize\n",
        "#  outputs = net(inputs)\n",
        " \n",
        "  # print statistics\n",
        "#  running_loss += loss.item()\n",
        "\n",
        "\n",
        "\n",
        "  model = nn.Sequential(\n",
        "          nn.Linear(trainset.shape[0],2),\n",
        "\n",
        "          #nn.Conv1d(trainset.shape[0],out_channels = trainset.shape[0] ,kernel_size= 3),\n",
        "          #nn.ReLU(),\n",
        "          #nn.Linear(1000,2,10),\n",
        "          nn.ReLU())\n",
        "  \n",
        " # model\n",
        "  \n",
        "  \n",
        "  criterion = nn.CrossEntropyLoss()\n",
        "  optimizer = optim.SGD(model.parameters(), lr=0.001, momentum=0.9)\n",
        "\n",
        "  optimizer.zero_grad()\n",
        "\n",
        "  outputs = model(tensor_x)\n",
        "\n",
        "  print(outputs.type())\n",
        "  print(tensor_y.type())\n",
        "  loss = criterion(outputs, tensor_y)\n",
        "  loss.backward()\n",
        "  optimizer.step()\n",
        "\n",
        "\n",
        "\n",
        "  print(outputs.shape)\n",
        "\n",
        "\n",
        "train_NN_on_trainset(train_matrix)\n",
        "  \n",
        "\n",
        "\n"
      ],
      "execution_count": null,
      "outputs": []
    },
    {
      "cell_type": "code",
      "metadata": {
        "id": "hNY0bBUVugoN"
      },
      "source": [
        "# def read_weights_from_csv():\n",
        "#   for k in range(2,9):\n",
        "#     print(k)\n",
        "#     #nmf = NMF(n_components=k, init='nndsvd', random_state=0)\n",
        "#     #W = nmf.fit_transform(NMF_train.transpose())\n",
        "#     #H = nmf.components_\n",
        "#     #NMF_all_W_H[k] = [W,H]\n",
        "#     #print(W)\n",
        "\n",
        "#     file_path = path_for_NMF_weight +\"NMF_weights_100_pixels_train_on_all\" + str(k)+ \".csv\"\n",
        "#     np.re\n",
        "#     #np.savetxt(file_path, X = W, delimiter=\",\")\n"
      ],
      "execution_count": null,
      "outputs": []
    },
    {
      "cell_type": "code",
      "metadata": {
        "id": "n2e6XCkvCipT"
      },
      "source": [
        "\n",
        "for k in range(2,9):\n",
        "  w  = NMF_all_W_H[k][0]\n",
        "  print(w.shape)\n",
        "  print((np.nonzero(w)[1]==1).sum())\n",
        "  print(np.nonzero(w)[1])"
      ],
      "execution_count": null,
      "outputs": []
    },
    {
      "cell_type": "code",
      "metadata": {
        "id": "kZLksJEDt27Y"
      },
      "source": [
        "np.set_printoptions(threshold=2000,precision = 3, suppress=True)\n",
        "\n",
        "\n",
        "for k in range(2,9):\n",
        "  h  = NMF_all_W_H[k][1]\n",
        "  print(h.shape)\n",
        "  #print((np.nonzero(w)[1]==1).sum())\n",
        "  #print(np.nonzero(w)[1])\n",
        "  print(np.corrcoef(h))"
      ],
      "execution_count": null,
      "outputs": []
    },
    {
      "cell_type": "code",
      "metadata": {
        "id": "Gp02RY0ltRnQ"
      },
      "source": [
        ""
      ],
      "execution_count": null,
      "outputs": []
    },
    {
      "cell_type": "code",
      "metadata": {
        "id": "VoXrXZ2uxS-0"
      },
      "source": [
        "# df_all_2 = pd.concat(df_dict.values(), axis = 0,keys = df_dict.keys() , ignore_index=True)  \n"
      ],
      "execution_count": null,
      "outputs": []
    },
    {
      "cell_type": "code",
      "metadata": {
        "id": "5HwxoQVT_bcO"
      },
      "source": [
        ""
      ],
      "execution_count": null,
      "outputs": []
    },
    {
      "cell_type": "code",
      "metadata": {
        "id": "t66C-RQ0ArEy"
      },
      "source": [
        ""
      ],
      "execution_count": null,
      "outputs": []
    },
    {
      "cell_type": "code",
      "metadata": {
        "id": "IvkGFKLUCyAY"
      },
      "source": [
        "print(mat2.shape)\n",
        "print(M2Z2.shape)"
      ],
      "execution_count": null,
      "outputs": []
    },
    {
      "cell_type": "code",
      "metadata": {
        "id": "wN_TUihdCXgR"
      },
      "source": [
        "mat2"
      ],
      "execution_count": null,
      "outputs": []
    },
    {
      "cell_type": "code",
      "metadata": {
        "id": "8vMHdv_vogx0"
      },
      "source": [
        "# print(M2Z2.shape)\n",
        "# print(mat2.shape)\n",
        "# #print(NMFmat_new.shape)\n",
        "# NMF_train = mat2.transpose()\n",
        "# NMF_train[np.isnan(NMF_train)] = 0\n",
        "\n",
        "# from sklearn.decomposition import NMF\n",
        "# np.set_printoptions(threshold=2000,precision = 2, suppress=True)\n",
        "\n",
        "\n"
      ],
      "execution_count": null,
      "outputs": []
    },
    {
      "cell_type": "code",
      "metadata": {
        "id": "Aoyk3kHQpNG5"
      },
      "source": [
        "# for k in range(1:9):\n",
        "#   nmf = NMF(n_components=k, init='nndsvd', random_state=0)\n",
        "#   W = nmf.fit_transform(NMF_train.transpose())\n",
        "#   H = nmf.components_\n",
        "#   print(W)\n",
        "  \n",
        "#   file_path = path_for_csv_files+\"NMF_weights_\" + str(k)+ \".csv\"\n",
        "\n",
        "#   np.savetxt(file_path, X = w, delimiter=\",\")\n",
        "\n",
        "\n"
      ],
      "execution_count": null,
      "outputs": []
    },
    {
      "cell_type": "code",
      "metadata": {
        "id": "8nUqNz3kCXr0"
      },
      "source": [
        "df_final = pd.DataFrame(data = mat2, columns=M2Z2)\n",
        "df_final.head(100)"
      ],
      "execution_count": null,
      "outputs": []
    },
    {
      "cell_type": "code",
      "metadata": {
        "id": "WbwkFfYqxWO6"
      },
      "source": [
        "print(df_all_2.shape)\n",
        "print(df_all_1.shape)"
      ],
      "execution_count": null,
      "outputs": []
    },
    {
      "cell_type": "code",
      "metadata": {
        "id": "F1JffwrhuHb6"
      },
      "source": [
        "df_all_2[~df_all_2.isna()]"
      ],
      "execution_count": null,
      "outputs": []
    },
    {
      "cell_type": "code",
      "metadata": {
        "id": "24NvsBnmtx9d"
      },
      "source": [
        "df_all_2[df_all_2.isna()]"
      ],
      "execution_count": null,
      "outputs": []
    },
    {
      "cell_type": "code",
      "metadata": {
        "id": "ZquDqBhatMCA"
      },
      "source": [
        "df_all.shape"
      ],
      "execution_count": null,
      "outputs": []
    },
    {
      "cell_type": "code",
      "metadata": {
        "id": "d-balCHnpl7b"
      },
      "source": [
        "print(np.unique(pos_u_all))"
      ],
      "execution_count": null,
      "outputs": []
    },
    {
      "cell_type": "code",
      "metadata": {
        "id": "09F3IyWWo7AR"
      },
      "source": [
        "#df_dict\n",
        "df_all.head()\n",
        "col"
      ],
      "execution_count": null,
      "outputs": []
    },
    {
      "cell_type": "code",
      "metadata": {
        "id": "8yzc1l0xtCmR"
      },
      "source": [
        "print(np.unique(pos_u_all).shape)"
      ],
      "execution_count": null,
      "outputs": []
    },
    {
      "cell_type": "code",
      "metadata": {
        "id": "ZNGmTjujplOI"
      },
      "source": [
        "col.shape"
      ],
      "execution_count": null,
      "outputs": []
    },
    {
      "cell_type": "code",
      "metadata": {
        "id": "vYsHBl40t_YV"
      },
      "source": [
        "\n",
        "\n",
        "\n",
        "\n",
        "\n",
        "# [pos, peaks] = create_seperate_DF(df_all)\n",
        "# print(len(pos))\n",
        "# print(len(peaks))\n",
        "\n",
        "# pos_np = pos.astype(float).to_numpy()\n",
        "# peaks_np = peaks.astype(float).to_numpy()\n",
        "# print(pos_np.shape)\n",
        "# print(peaks_np.shape)\n",
        "\n",
        "\n",
        "# all_u = np.unique(pos_np.reshape([-1]))\n",
        "# print(all_u.shape)\n",
        "# all_u = all_u[~np.isnan(all_u)]\n",
        "# print(all_u.shape)\n"
      ],
      "execution_count": null,
      "outputs": []
    },
    {
      "cell_type": "code",
      "metadata": {
        "id": "XHM7dwy3Hggb"
      },
      "source": [
        "\n",
        "# print(pos_np.shape)\n",
        "# print(len(all_u))\n",
        "# num_of_pixels = pos_np.shape[0]\n",
        "# print(num_of_pixels)\n",
        "# all_NMF_array = np.zeros(shape = [len(all_u),num_of_pixels])\n",
        "# print(all_NMF_array.shape)"
      ],
      "execution_count": null,
      "outputs": []
    },
    {
      "cell_type": "code",
      "metadata": {
        "id": "BVbyJIrDJ0oH"
      },
      "source": [
        "# path_for_csv_files = \"/content/drive/MyDrive/Katy/heartProject/CSV_high_peaks/\"\n",
        "\n",
        "# num_of_pixels = pos_np.shape[0]\n",
        "# #all_u =np.unique(all)\n",
        "# all_NMF_array = np.zeros(shape = [len(all_u),num_of_pixels])\n",
        "\n",
        "# for i,m2z in enumerate(all_u):\n",
        "#   all_NMF_array[i,np.where(pos_np==all_u[i])[0]] = peaks_np[np.where(pos_np==all_u[i])]\n",
        "#   if i % 5000 ==0 : \n",
        "#     print(\"finished column \" + str(i))\n",
        "\n",
        "\n",
        "# all_NMF_array = all_NMF_array.transpose()\n",
        "\n",
        "\n",
        "# M2Z_new ,NMFmat_new = collect_close_peaks_of_NMFmat(all_u, all_NMF_array)\n",
        "\n",
        "\n",
        "# print(NMFmat_new.shape)\n",
        "# print(all_NMF_array.shape)\n",
        "\n",
        "#print(all_NMF_array)\n",
        "\n",
        "\n",
        "file_path = path_for_csv_files+\"NMFarray_60.csv\"\n",
        "\n",
        "np.savetxt(file_path, X = NMFmat_new, delimiter=\",\")\n",
        "\n"
      ],
      "execution_count": null,
      "outputs": []
    },
    {
      "cell_type": "code",
      "metadata": {
        "id": "YAlcmNw9xTIt"
      },
      "source": [
        "# print(M2Z2.shape)\n",
        "# print(mat2.shape)\n",
        "# #print(NMFmat_new.shape)\n",
        "# NMF_train = mat2.transpose()\n",
        "# NMF_train[np.isnan(NMF_train)] = 0\n",
        "\n",
        "# from sklearn.decomposition import NMF\n",
        "# np.set_printoptions(threshold=2000,precision = 2, suppress=True)\n",
        "\n",
        "\n",
        "# nmf = NMF(n_components=5, init='nndsvd', random_state=0)\n",
        "# W = nmf.fit_transform(NMF_train.transpose())\n",
        "# H = nmf.components_\n",
        "# print(W)"
      ],
      "execution_count": null,
      "outputs": []
    },
    {
      "cell_type": "code",
      "metadata": {
        "id": "-L5VUphrW1GM"
      },
      "source": [
        "# from sklearn.decomposition import NMF\n",
        "# np.set_printoptions(threshold=2000,precision = 2, suppress=True)\n",
        "\n",
        "\n",
        "# nmf = NMF(n_components=5, init='nndsvd', random_state=0)\n",
        "# W = nmf.fit_transform(NMF_train.transpose())\n",
        "# H = nmf.components_\n",
        "# print(W)"
      ],
      "execution_count": null,
      "outputs": []
    },
    {
      "cell_type": "code",
      "metadata": {
        "id": "Kt2gRHdcom8C"
      },
      "source": [
        "\n"
      ],
      "execution_count": null,
      "outputs": []
    },
    {
      "cell_type": "code",
      "metadata": {
        "id": "3JeAm8-pQimh"
      },
      "source": [
        ""
      ],
      "execution_count": null,
      "outputs": []
    },
    {
      "cell_type": "code",
      "metadata": {
        "id": "y7QaV5IryFes"
      },
      "source": [
        "###ploting \n",
        "\n",
        "\n",
        "path_to_DF_files =  \"/content/drive/MyDrive/Katy/MyloidsProject/cancer_vs_normal/DS_short_50_many/\"\n",
        "\n",
        "DF_for_plots= {}\n",
        "numpy_of_DS = {}\n",
        "with os.scandir(path_to_DF_files) as entries:\n",
        "  for i,entry in enumerate(entries):\n",
        "      print(entry.name)\n",
        "      file_path = path_to_DF_files + entry.name\n",
        "\n",
        "      f = open(file_path)\n",
        "      reader = csv.reader(f)\n",
        "      ncol = len(next(reader))\n",
        "      #l = [\"c_{}\".format(i) for i in range(ncol)]\n",
        "\n",
        "      #df2 = pd.read_csv(file_path, names = l)\n",
        "      DF_for_plots[i] = pd.read_csv( file_path)#numpy_of_DS[file_name] = DF_to_Numpy(m2Z_vs_abundance_DF)\n",
        "      numpy_of_DS[file_name] = DF_to_Numpy(DF_for_plots[i])\n",
        "    #print(len(numpy_of_DS))\n",
        "\n",
        "    #M2Z_vs_Ab_all = np.concatenate\n",
        "\n",
        "  # R1 = np.corrcoef(xarr)\n",
        "\n",
        "      #print()\n",
        "      plt.plot(np.var(numpy_of_DS[file_name]))\n",
        "      plt.show()\n",
        "      \n",
        "\n",
        "\n",
        "  "
      ],
      "execution_count": null,
      "outputs": []
    },
    {
      "cell_type": "code",
      "metadata": {
        "id": "TUKMtnxgefun"
      },
      "source": [
        "from sklearn.decomposition import NMF\n",
        "\n",
        "import plotly.graph_objects as go\n",
        "\n",
        "path_to_DF_files =  \"/content/drive/MyDrive/Katy/MyloidsProject/cancer_vs_normal/DS_short_50_many/\"\n",
        "\n",
        "\n",
        "\n",
        "fig = go.Figure()\n",
        "\n",
        "\n",
        "\n",
        "\n",
        "#fig.show()\n",
        "\n",
        "with os.scandir(path_to_DF_files) as entries:\n",
        "\n",
        "  for i,entry in enumerate(entries):\n",
        "    print(entry)\n",
        "    df = Analysis_DF_collection[i]\n",
        "    #print(df.head())\n",
        "    np_of_var = df.var()\n",
        "    \n",
        "    #print(Analysis_DF_collection[i].corrwith(Analysis_DF_collection[i]).dropna(how = \"all\"))\n",
        "    \n",
        "    #print(np.isnan(np_of_var))\n",
        "    high_var_MZ = np_of_var.dropna(how = \"all\").index.to_series()[1:]\n",
        "    high_var_MZ_np = np.array(high_var_MZ.astype(float))\n",
        "    ####print(high_var_MZ)\n",
        "    #high_var_MZ\n",
        "    ###print(high_var_MZ.shape[0])\n",
        "    ###print(df[high_var_MZ].mean(skipna = True))\n",
        "\n",
        "    #print(df[high_var_MZ].fillna(0))\n",
        "    #print(df[high_var_MZ].fillna(0).mean().shape[0])\n",
        "    \n",
        "    #plt.scatter(range(high_var_MZ.shape[0]),high_var_MZ)\n",
        "    # fig.add_trace(\n",
        "    # go.Scatter(\n",
        "    #     x=high_var_MZ_np,\n",
        "    #     y=df[high_var_MZ].mean(skipna = True)\n",
        "    # ))\n",
        "\n",
        "    fig.add_trace(\n",
        "    go.Scatter(mode = 'markers',\n",
        "        x=high_var_MZ_np,\n",
        "        y=df[high_var_MZ].mean(skipna = True)\n",
        "    ))\n",
        "    #fig.show()\n",
        "    #plt.scatter(high_var_MZ_np, df[high_var_MZ].mean(skipna = True))\n",
        "  #fig.show()\n",
        "      \n",
        "    #NMF(Analysis_DF_collection[i],\n",
        "\n",
        "# fig.update_yaxes(range=[9, 3])\n",
        "fig.show()"
      ],
      "execution_count": null,
      "outputs": []
    },
    {
      "cell_type": "code",
      "metadata": {
        "id": "YMBVsp0kg5pl"
      },
      "source": [
        "fig = plt.plot(DF_to_Numpy(Analysis_DF_collection[4]))\n"
      ],
      "execution_count": null,
      "outputs": []
    },
    {
      "cell_type": "code",
      "metadata": {
        "id": "b7edIGw74ZUg"
      },
      "source": [
        "\n",
        "\n",
        "for file_name,df in Analysis_DF_collection.items():\n",
        "  #print(df.head(15))\n",
        "  #print(df[df.corr().notna()==True])\n",
        "  print(df.corr().dropna(how = \"all\").max())\n",
        "  print(df.corr().dropna(how = \"all\").min())\n",
        "\n",
        "  print(sns.heatmap(df.corr().dropna(how=\"all\"),vmin=-1, vmax=1,cmap='BrBG'))\n",
        "  break\n",
        "\n"
      ],
      "execution_count": null,
      "outputs": []
    },
    {
      "cell_type": "code",
      "metadata": {
        "id": "pJf_BcOuNt4p"
      },
      "source": [
        "for file_name, np_data in numpy_of_DS.items():\n",
        "  print(np_data.type)\n",
        "  plt.imshow(np.corrcoef(np_data))\n",
        "\n"
      ],
      "execution_count": null,
      "outputs": []
    },
    {
      "cell_type": "code",
      "metadata": {
        "id": "9mayIcwurRG0"
      },
      "source": [
        "from sklearn.cluster import KMeans as kmeans\n",
        "np_all = np.array([[]])\n",
        "np_all = np.empty([11, 0])\n",
        "with os.scandir(path_to_DF_files) as entries:\n",
        "\n",
        "  for i,entry in enumerate(entries):\n",
        "    print(entry)\n",
        "\n",
        "    #np_of_data = np.reshape(DF_to_Numpy(Analysis_DF_collection[i].fillna(0)),[-1])\n",
        "    np_of_data = DF_to_Numpy(Analysis_DF_collection[i].fillna(0)).transpose()\n",
        "\n",
        "    np_all = np.concatenate((np_all, np_of_data), axis = 1)\n",
        "    #print(np_all.shape)\n",
        "#np_all = np.reshape(np_all,[-1,11])\n",
        "    print(np_all.shape)\n",
        "    clusters = kmeans(n_clusters = 3).fit(np_of_data)\n",
        "    mask = clusters.labels_\n",
        "    print(mask)\n",
        "#mask"
      ],
      "execution_count": null,
      "outputs": []
    },
    {
      "cell_type": "code",
      "metadata": {
        "id": "ogbFZOSM1Bwj"
      },
      "source": [
        "from sklearn.decomposition import NMF\n",
        "np.set_printoptions(threshold=2000)\n",
        "\n",
        "\n",
        "nmf = NMF(n_components=5, init='nndsvd', random_state=0)\n",
        "W = nmf.fit_transform(np_all.transpose())\n",
        "H = nmf.components_\n",
        "\n",
        "\n"
      ],
      "execution_count": null,
      "outputs": []
    },
    {
      "cell_type": "code",
      "metadata": {
        "id": "XActfKZZDUIo"
      },
      "source": [
        "import seaborn as sns\n",
        "%matplotlib inline\n",
        "cols = {}\n",
        "\n",
        "with os.scandir(path_to_DF_files) as entries:\n",
        "\n",
        "  for i,entry in enumerate(entries):\n",
        "    print(entry)\n",
        "   # print(Analysis_DF_collection[i].fillna(0).drop(columns=['Unnamed: 0']).head())\n",
        "    cols[i] = np.round(Analysis_DF_collection[i].fillna(0).drop(columns=['Unnamed: 0']).columns.astype(float).to_numpy(), decimals=1)\n",
        "    \n",
        "    print(cols[i].shape)\n",
        "    #print(cols.to_numpy())\n",
        "    #plt.scatter(range(0,1000),cols)\n",
        "    #sns.stripplot( x = np.ones_like(cols)*i, y = cols)\n",
        "    #break\n",
        "    #fig = sns.kdeplot( y = cols).get_figure()\n",
        "    #plt.show()\n",
        "    if i==0:\n",
        "      continue\n",
        "    else:\n",
        "      print(np.intersect1d(cols[i-1],cols[i]))\n"
      ],
      "execution_count": null,
      "outputs": []
    },
    {
      "cell_type": "code",
      "metadata": {
        "id": "h26P16i8prNl"
      },
      "source": [
        "! pip install pybasis\n",
        "\n",
        "\n",
        "import pybasis as pb\n",
        "\n",
        "pb."
      ],
      "execution_count": null,
      "outputs": []
    }
  ]
}